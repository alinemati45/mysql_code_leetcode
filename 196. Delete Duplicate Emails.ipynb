{
 "cells": [
  {
   "cell_type": "markdown",
   "metadata": {},
   "source": [
    "Write a SQL query to delete all duplicate email entries in a table named Person, keeping only unique emails based on its smallest Id.\n",
    "\n",
    "\n",
    "| Id | Email            |\n",
    "|----|------------------|\n",
    "| 1  | john@example.com |\n",
    "| 2  | bob@example.com  |\n",
    "| 3  | john@example.com |\n",
    "\n",
    "Id is the primary key column for this table.\n",
    "For example, after running your query, the above Person table should have the following rows:\n",
    "\n",
    "\n",
    "| Id | Email            |\n",
    "|----|------------------|\n",
    "| 1  | john@example.com |\n",
    "| 2  | bob@example.com  |\n",
    "\n",
    "Note:\n",
    "\n",
    "Your output is the whole Person table after executing your sql. Use delete statement.\n",
    "\n",
    "\n",
    "```mysql\n",
    "use leetcode;\n",
    " \n",
    "drop table if exists person;\n",
    "create table person (id int, email text);\n",
    "truncate table person;\n",
    " \n",
    "insert into person values(1, 'john@example.com');\n",
    "insert into person values(2, 'bob@example.com');\n",
    "insert into person values(3, 'john@example.com');\n",
    "```"
   ]
  },
  {
   "cell_type": "code",
   "execution_count": 14,
   "metadata": {},
   "outputs": [],
   "source": [
    "# Create connection:\n",
    "import mysql.connector\n",
    "import pandas as pd\n",
    "def query(query):\n",
    "        mySql_connector = mysql.connector.connect(\n",
    "        host=\"localhost\",\n",
    "        user=\"root\",\n",
    "        passwd=\"new_passowrd\",\n",
    "        database=\"leedcode_test\", \n",
    "        auth_plugin='mysql_native_password' # required\n",
    "        )\n",
    "        data= pd.read_sql_query(query , mySql_connector)\n",
    "        return data\n"
   ]
  },
  {
   "cell_type": "code",
   "execution_count": 16,
   "metadata": {},
   "outputs": [],
   "source": [
    "query(\"\"\"\n",
    "# Write your MySQL query statement below\n",
    "DELETE p1 FROM Person p1,\n",
    "    Person p2\n",
    "WHERE\n",
    "    p1.Email = p2.Email AND p1.Id > p2.Id\n",
    "\"\"\")\n",
    "    "
   ]
  },
  {
   "cell_type": "code",
   "execution_count": null,
   "metadata": {},
   "outputs": [],
   "source": []
  }
 ],
 "metadata": {
  "kernelspec": {
   "display_name": "Python 3.7 (tensorflow)",
   "language": "python",
   "name": "tensorflow"
  },
  "language_info": {
   "codemirror_mode": {
    "name": "ipython",
    "version": 3
   },
   "file_extension": ".py",
   "mimetype": "text/x-python",
   "name": "python",
   "nbconvert_exporter": "python",
   "pygments_lexer": "ipython3",
   "version": "3.7.7"
  },
  "toc": {
   "base_numbering": 1,
   "nav_menu": {},
   "number_sections": true,
   "sideBar": true,
   "skip_h1_title": false,
   "title_cell": "Table of Contents",
   "title_sidebar": "Contents",
   "toc_cell": false,
   "toc_position": {},
   "toc_section_display": true,
   "toc_window_display": false
  }
 },
 "nbformat": 4,
 "nbformat_minor": 4
}
