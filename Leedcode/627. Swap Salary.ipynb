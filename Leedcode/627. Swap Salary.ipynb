{
 "cells": [
  {
   "cell_type": "markdown",
   "metadata": {},
   "source": [
    "Given a table salary, such as the one below, that has m=male and f=female values. Swap all f and m values (i.e., change all f values to m and vice versa) with a single update statement and no intermediate temp table.\n",
    "\n",
    "Note that you must write a single update statement, DO NOT write any select statement for this problem.\n",
    "\n",
    " \n",
    "\n",
    "Example:\n",
    "\n",
    "| id | name | sex | salary |\n",
    "|----|------|-----|--------|\n",
    "| 1  | A    | m   | 2500   |\n",
    "| 2  | B    | f   | 1500   |\n",
    "| 3  | C    | m   | 5500   |\n",
    "| 4  | D    | f   | 500    |\n",
    "After running your update statement, the above salary table should have the following rows:\n",
    "\n",
    "| id | name | sex | salary |\n",
    "|----|------|-----|--------|\n",
    "| 1  | A    | f   | 2500   |\n",
    "| 2  | B    | m   | 1500   |\n",
    "| 3  | C    | f   | 5500   |\n",
    "| 4  | D    | m   | 500    |\n",
    "\n",
    "```mysql\n",
    "\n",
    "create table if not exists salary(id int, name varchar(100), sex char(1), salary int);\n",
    "Truncate table salary;\n",
    "insert into salary (id, name, sex, salary) values ('1', 'A', 'm', '2500');\n",
    "insert into salary (id, name, sex, salary) values ('2', 'B', 'f', '1500');\n",
    "insert into salary (id, name, sex, salary) values ('3', 'C', 'm', '5500');\n",
    "insert into salary (id, name, sex, salary) values ('4', 'D', 'f', '500');\n",
    "\n",
    "```"
   ]
  },
  {
   "cell_type": "code",
   "execution_count": 2,
   "metadata": {},
   "outputs": [],
   "source": [
    "# Create connection:\n",
    "import mysql.connector\n",
    "import pandas as pd\n",
    "def query(query):\n",
    "        mySql_connector = mysql.connector.connect(\n",
    "        host=\"localhost\",\n",
    "        user=\"root\",\n",
    "        passwd=\"\",\n",
    "        database=\"leedcode_test\"\n",
    "        )\n",
    "        data= pd.read_sql_query(query , mySql_connector)\n",
    "        return data\n"
   ]
  },
  {
   "cell_type": "code",
   "execution_count": 3,
   "metadata": {},
   "outputs": [
    {
     "data": {
      "text/html": [
       "<div>\n",
       "<style scoped>\n",
       "    .dataframe tbody tr th:only-of-type {\n",
       "        vertical-align: middle;\n",
       "    }\n",
       "\n",
       "    .dataframe tbody tr th {\n",
       "        vertical-align: top;\n",
       "    }\n",
       "\n",
       "    .dataframe thead th {\n",
       "        text-align: right;\n",
       "    }\n",
       "</style>\n",
       "<table border=\"1\" class=\"dataframe\">\n",
       "  <thead>\n",
       "    <tr style=\"text-align: right;\">\n",
       "      <th></th>\n",
       "      <th>id</th>\n",
       "      <th>name</th>\n",
       "      <th>sex</th>\n",
       "      <th>salary</th>\n",
       "    </tr>\n",
       "  </thead>\n",
       "  <tbody>\n",
       "    <tr>\n",
       "      <th>0</th>\n",
       "      <td>1</td>\n",
       "      <td>A</td>\n",
       "      <td>m</td>\n",
       "      <td>2500</td>\n",
       "    </tr>\n",
       "    <tr>\n",
       "      <th>1</th>\n",
       "      <td>2</td>\n",
       "      <td>B</td>\n",
       "      <td>f</td>\n",
       "      <td>1500</td>\n",
       "    </tr>\n",
       "    <tr>\n",
       "      <th>2</th>\n",
       "      <td>3</td>\n",
       "      <td>C</td>\n",
       "      <td>m</td>\n",
       "      <td>5500</td>\n",
       "    </tr>\n",
       "    <tr>\n",
       "      <th>3</th>\n",
       "      <td>4</td>\n",
       "      <td>D</td>\n",
       "      <td>f</td>\n",
       "      <td>500</td>\n",
       "    </tr>\n",
       "  </tbody>\n",
       "</table>\n",
       "</div>"
      ],
      "text/plain": [
       "   id name sex  salary\n",
       "0   1    A   m    2500\n",
       "1   2    B   f    1500\n",
       "2   3    C   m    5500\n",
       "3   4    D   f     500"
      ]
     },
     "execution_count": 3,
     "metadata": {},
     "output_type": "execute_result"
    }
   ],
   "source": [
    "query(\"\"\"\n",
    "SELECT * FROM salary;\"\"\")\n",
    "    "
   ]
  },
  {
   "cell_type": "code",
   "execution_count": 5,
   "metadata": {},
   "outputs": [],
   "source": [
    "query(\"\"\"\n",
    "# Write your MySQL query statement below\n",
    "UPDATE salary SET sex = IF(sex='m', 'f', 'm');\n",
    "\n",
    "\"\"\")"
   ]
  }
 ],
 "metadata": {
  "kernelspec": {
   "display_name": "Python 3.7 (tensorflow)",
   "language": "python",
   "name": "tensorflow"
  },
  "language_info": {
   "codemirror_mode": {
    "name": "ipython",
    "version": 3
   },
   "file_extension": ".py",
   "mimetype": "text/x-python",
   "name": "python",
   "nbconvert_exporter": "python",
   "pygments_lexer": "ipython3",
   "version": "3.7.7"
  },
  "toc": {
   "base_numbering": 1,
   "nav_menu": {},
   "number_sections": true,
   "sideBar": true,
   "skip_h1_title": false,
   "title_cell": "Table of Contents",
   "title_sidebar": "Contents",
   "toc_cell": false,
   "toc_position": {},
   "toc_section_display": true,
   "toc_window_display": false
  }
 },
 "nbformat": 4,
 "nbformat_minor": 4
}
