{
 "cells": [
  {
   "cell_type": "markdown",
   "metadata": {
    "toc": true
   },
   "source": [
    "<h1>Table of Contents<span class=\"tocSkip\"></span></h1>\n",
    "<div class=\"toc\"><ul class=\"toc-item\"><li><span><a href=\"#Learning-SQL\" data-toc-modified-id=\"Learning-SQL-1\"><span class=\"toc-item-num\">1&nbsp;&nbsp;</span>Learning SQL</a></span><ul class=\"toc-item\"><li><span><a href=\"#RDBMS\" data-toc-modified-id=\"RDBMS-1.1\"><span class=\"toc-item-num\">1.1&nbsp;&nbsp;</span>RDBMS</a></span></li><li><span><a href=\"#Database-:\" data-toc-modified-id=\"Database-:-1.2\"><span class=\"toc-item-num\">1.2&nbsp;&nbsp;</span>Database :</a></span></li><li><span><a href=\"#Table\" data-toc-modified-id=\"Table-1.3\"><span class=\"toc-item-num\">1.3&nbsp;&nbsp;</span>Table</a></span></li><li><span><a href=\"#Table-Names\" data-toc-modified-id=\"Table-Names-1.4\"><span class=\"toc-item-num\">1.4&nbsp;&nbsp;</span>Table Names</a></span></li><li><span><a href=\"#Schema\" data-toc-modified-id=\"Schema-1.5\"><span class=\"toc-item-num\">1.5&nbsp;&nbsp;</span>Schema</a></span></li><li><span><a href=\"#Column\" data-toc-modified-id=\"Column-1.6\"><span class=\"toc-item-num\">1.6&nbsp;&nbsp;</span>Column</a></span></li><li><span><a href=\"#Breaking-Up-Data\" data-toc-modified-id=\"Breaking-Up-Data-1.7\"><span class=\"toc-item-num\">1.7&nbsp;&nbsp;</span>Breaking Up Data</a></span></li><li><span><a href=\"#Datatype\" data-toc-modified-id=\"Datatype-1.8\"><span class=\"toc-item-num\">1.8&nbsp;&nbsp;</span>Datatype</a></span></li><li><span><a href=\"#Datatype-Compatibility\" data-toc-modified-id=\"Datatype-Compatibility-1.9\"><span class=\"toc-item-num\">1.9&nbsp;&nbsp;</span>Datatype Compatibility</a></span></li><li><span><a href=\"#Row\" data-toc-modified-id=\"Row-1.10\"><span class=\"toc-item-num\">1.10&nbsp;&nbsp;</span>Row</a></span></li><li><span><a href=\"#Primary-key\" data-toc-modified-id=\"Primary-key-1.11\"><span class=\"toc-item-num\">1.11&nbsp;&nbsp;</span>Primary key</a></span></li><li><span><a href=\"#Always-Define-Primary-Keys\" data-toc-modified-id=\"Always-Define-Primary-Keys-1.12\"><span class=\"toc-item-num\">1.12&nbsp;&nbsp;</span>Always Define Primary Keys</a></span></li><li><span><a href=\"#What-Is-SQL?\" data-toc-modified-id=\"What-Is-SQL?-1.13\"><span class=\"toc-item-num\">1.13&nbsp;&nbsp;</span>What Is SQL?</a></span></li><li><span><a href=\"#SQL-Extensions\" data-toc-modified-id=\"SQL-Extensions-1.14\"><span class=\"toc-item-num\">1.14&nbsp;&nbsp;</span>SQL Extensions</a></span></li></ul></li><li><span><a href=\"#SQL-Statement-Syntax\" data-toc-modified-id=\"SQL-Statement-Syntax-2\"><span class=\"toc-item-num\">2&nbsp;&nbsp;</span>SQL Statement Syntax</a></span></li><li><span><a href=\"#Retrieving-Data\" data-toc-modified-id=\"Retrieving-Data-3\"><span class=\"toc-item-num\">3&nbsp;&nbsp;</span>Retrieving Data</a></span><ul class=\"toc-item\"><li><span><a href=\"#Presentation-of-Data\" data-toc-modified-id=\"Presentation-of-Data-3.1\"><span class=\"toc-item-num\">3.1&nbsp;&nbsp;</span>Presentation of Data</a></span></li><li><span><a href=\"#wildcard-(*):\" data-toc-modified-id=\"wildcard-(*):-3.2\"><span class=\"toc-item-num\">3.2&nbsp;&nbsp;</span>wildcard (*):</a></span></li><li><span><a href=\"#Distinct-row\" data-toc-modified-id=\"Distinct-row-3.3\"><span class=\"toc-item-num\">3.3&nbsp;&nbsp;</span>Distinct row</a></span><ul class=\"toc-item\"><li><span><a href=\"#Caution:-Can’t-Be-Partially-DISTINCT\" data-toc-modified-id=\"Caution:-Can’t-Be-Partially-DISTINCT-3.3.1\"><span class=\"toc-item-num\">3.3.1&nbsp;&nbsp;</span>Caution: Can’t Be Partially DISTINCT</a></span></li></ul></li><li><span><a href=\"#Limiting-Results\" data-toc-modified-id=\"Limiting-Results-3.4\"><span class=\"toc-item-num\">3.4&nbsp;&nbsp;</span>Limiting Results</a></span></li><li><span><a href=\"#OFFSET-5\" data-toc-modified-id=\"OFFSET-5-3.5\"><span class=\"toc-item-num\">3.5&nbsp;&nbsp;</span>OFFSET 5</a></span><ul class=\"toc-item\"><li><span><a href=\"#Caution:-Row-0\" data-toc-modified-id=\"Caution:-Row-0-3.5.1\"><span class=\"toc-item-num\">3.5.1&nbsp;&nbsp;</span>Caution: Row 0</a></span></li></ul></li><li><span><a href=\"#Challenges\" data-toc-modified-id=\"Challenges-3.6\"><span class=\"toc-item-num\">3.6&nbsp;&nbsp;</span>Challenges</a></span></li></ul></li><li><span><a href=\"#Sorting-Retrieved-Data\" data-toc-modified-id=\"Sorting-Retrieved-Data-4\"><span class=\"toc-item-num\">4&nbsp;&nbsp;</span>Sorting Retrieved Data</a></span><ul class=\"toc-item\"><li><span><a href=\"#Clause\" data-toc-modified-id=\"Clause-4.1\"><span class=\"toc-item-num\">4.1&nbsp;&nbsp;</span>Clause</a></span><ul class=\"toc-item\"><li><span><a href=\"#Caution:-Position-of-ORDER-BY-Clause\" data-toc-modified-id=\"Caution:-Position-of-ORDER-BY-Clause-4.1.1\"><span class=\"toc-item-num\">4.1.1&nbsp;&nbsp;</span>Caution: Position of ORDER BY Clause</a></span></li></ul></li><li><span><a href=\"#Specifying-Sort-Direction\" data-toc-modified-id=\"Specifying-Sort-Direction-4.2\"><span class=\"toc-item-num\">4.2&nbsp;&nbsp;</span>Specifying Sort Direction</a></span></li><li><span><a href=\"#Sorting-by-Multiple-Columns\" data-toc-modified-id=\"Sorting-by-Multiple-Columns-4.3\"><span class=\"toc-item-num\">4.3&nbsp;&nbsp;</span>Sorting by Multiple Columns</a></span></li><li><span><a href=\"#Sorting-by-Column-Position\" data-toc-modified-id=\"Sorting-by-Column-Position-4.4\"><span class=\"toc-item-num\">4.4&nbsp;&nbsp;</span>Sorting by Column Position</a></span><ul class=\"toc-item\"><li><span><a href=\"#Case-Sensitivity-and-Sort-Orders\" data-toc-modified-id=\"Case-Sensitivity-and-Sort-Orders-4.4.1\"><span class=\"toc-item-num\">4.4.1&nbsp;&nbsp;</span>Case Sensitivity and Sort Orders</a></span></li></ul></li></ul></li><li><span><a href=\"#Filtering-Data\" data-toc-modified-id=\"Filtering-Data-5\"><span class=\"toc-item-num\">5&nbsp;&nbsp;</span>Filtering Data</a></span><ul class=\"toc-item\"><li><span><a href=\"#Using-the-WHERE-Clause\" data-toc-modified-id=\"Using-the-WHERE-Clause-5.1\"><span class=\"toc-item-num\">5.1&nbsp;&nbsp;</span>Using the WHERE Clause</a></span><ul class=\"toc-item\"><li><span><a href=\"#Caution:-WHERE-Clause-Position\" data-toc-modified-id=\"Caution:-WHERE-Clause-Position-5.1.1\"><span class=\"toc-item-num\">5.1.1&nbsp;&nbsp;</span>Caution: WHERE Clause Position</a></span></li><li><span><a href=\"#When-to-Use-Quotes\" data-toc-modified-id=\"When-to-Use-Quotes-5.1.2\"><span class=\"toc-item-num\">5.1.2&nbsp;&nbsp;</span>When to Use Quotes</a></span></li><li><span><a href=\"#!=-or-<>?\" data-toc-modified-id=\"!=-or-<>?-5.1.3\"><span class=\"toc-item-num\">5.1.3&nbsp;&nbsp;</span>!= or &lt;&gt;?</a></span></li></ul></li><li><span><a href=\"#Checking-for-a-Range-of-Values\" data-toc-modified-id=\"Checking-for-a-Range-of-Values-5.2\"><span class=\"toc-item-num\">5.2&nbsp;&nbsp;</span>Checking for a Range of Values</a></span></li><li><span><a href=\"#Checking-for-No-Value\" data-toc-modified-id=\"Checking-for-No-Value-5.3\"><span class=\"toc-item-num\">5.3&nbsp;&nbsp;</span>Checking for No Value</a></span><ul class=\"toc-item\"><li><span><a href=\"#Caution:-NULL-and-Nonmatches\" data-toc-modified-id=\"Caution:-NULL-and-Nonmatches-5.3.1\"><span class=\"toc-item-num\">5.3.1&nbsp;&nbsp;</span>Caution: NULL and Nonmatches</a></span></li></ul></li></ul></li><li><span><a href=\"#Advanced-Data-Filtering\" data-toc-modified-id=\"Advanced-Data-Filtering-6\"><span class=\"toc-item-num\">6&nbsp;&nbsp;</span>Advanced Data Filtering</a></span><ul class=\"toc-item\"><li><span><a href=\"#Operator\" data-toc-modified-id=\"Operator-6.1\"><span class=\"toc-item-num\">6.1&nbsp;&nbsp;</span>Operator</a></span></li><li><span><a href=\"#AND\" data-toc-modified-id=\"AND-6.2\"><span class=\"toc-item-num\">6.2&nbsp;&nbsp;</span>AND</a></span><ul class=\"toc-item\"><li><span><a href=\"#Note:-No-ORDER-BY-Clause-Specified\" data-toc-modified-id=\"Note:-No-ORDER-BY-Clause-Specified-6.2.1\"><span class=\"toc-item-num\">6.2.1&nbsp;&nbsp;</span>Note: No ORDER BY Clause Specified</a></span></li></ul></li><li><span><a href=\"#OR\" data-toc-modified-id=\"OR-6.3\"><span class=\"toc-item-num\">6.3&nbsp;&nbsp;</span>OR</a></span></li><li><span><a href=\"#Understanding-Order-of-Evaluation\" data-toc-modified-id=\"Understanding-Order-of-Evaluation-6.4\"><span class=\"toc-item-num\">6.4&nbsp;&nbsp;</span>Understanding Order of Evaluation</a></span><ul class=\"toc-item\"><li><span><a href=\"#Tip:-Using-Parentheses-in-WHERE-Clauses\" data-toc-modified-id=\"Tip:-Using-Parentheses-in-WHERE-Clauses-6.4.1\"><span class=\"toc-item-num\">6.4.1&nbsp;&nbsp;</span>Tip: Using Parentheses in WHERE Clauses</a></span></li></ul></li><li><span><a href=\"#IN\" data-toc-modified-id=\"IN-6.5\"><span class=\"toc-item-num\">6.5&nbsp;&nbsp;</span>IN</a></span></li><li><span><a href=\"#NOT\" data-toc-modified-id=\"NOT-6.6\"><span class=\"toc-item-num\">6.6&nbsp;&nbsp;</span>NOT</a></span></li></ul></li><li><span><a href=\"#Using-Wildcard-Filtering\" data-toc-modified-id=\"Using-Wildcard-Filtering-7\"><span class=\"toc-item-num\">7&nbsp;&nbsp;</span>Using Wildcard Filtering</a></span><ul class=\"toc-item\"><li><span><a href=\"#Wildcards\" data-toc-modified-id=\"Wildcards-7.1\"><span class=\"toc-item-num\">7.1&nbsp;&nbsp;</span>Wildcards</a></span></li><li><span><a href=\"#Search-pattern\" data-toc-modified-id=\"Search-pattern-7.2\"><span class=\"toc-item-num\">7.2&nbsp;&nbsp;</span>Search pattern</a></span></li><li><span><a href=\"#Predicate\" data-toc-modified-id=\"Predicate-7.3\"><span class=\"toc-item-num\">7.3&nbsp;&nbsp;</span>Predicate</a></span></li><li><span><a href=\"#The-Percent-Sign-(%)-Wildcard\" data-toc-modified-id=\"The-Percent-Sign-(%)-Wildcard-7.4\"><span class=\"toc-item-num\">7.4&nbsp;&nbsp;</span>The Percent Sign (%) Wildcard</a></span><ul class=\"toc-item\"><li><span><a href=\"#Note:-Case-Sensitivity\" data-toc-modified-id=\"Note:-Case-Sensitivity-7.4.1\"><span class=\"toc-item-num\">7.4.1&nbsp;&nbsp;</span>Note: Case Sensitivity</a></span></li><li><span><a href=\"#Tip:-Searching-for-Partial-Email-Addresses\" data-toc-modified-id=\"Tip:-Searching-for-Partial-Email-Addresses-7.4.2\"><span class=\"toc-item-num\">7.4.2&nbsp;&nbsp;</span>Tip: Searching for Partial Email Addresses</a></span></li><li><span><a href=\"#Note:-Watch-for-Trailing-Spaces\" data-toc-modified-id=\"Note:-Watch-for-Trailing-Spaces-7.4.3\"><span class=\"toc-item-num\">7.4.3&nbsp;&nbsp;</span>Note: Watch for Trailing Spaces</a></span></li><li><span><a href=\"#Caution:-Watch-for-NULL\" data-toc-modified-id=\"Caution:-Watch-for-NULL-7.4.4\"><span class=\"toc-item-num\">7.4.4&nbsp;&nbsp;</span>Caution: Watch for NULL</a></span></li></ul></li><li><span><a href=\"#The-Underscore-(_)-Wildcard\" data-toc-modified-id=\"The-Underscore-(_)-Wildcard-7.5\"><span class=\"toc-item-num\">7.5&nbsp;&nbsp;</span>The Underscore (_) Wildcard</a></span><ul class=\"toc-item\"><li><span><a href=\"#Note:-Watch-for-Trailing-Spaces\" data-toc-modified-id=\"Note:-Watch-for-Trailing-Spaces-7.5.1\"><span class=\"toc-item-num\">7.5.1&nbsp;&nbsp;</span>Note: Watch for Trailing Spaces</a></span></li></ul></li><li><span><a href=\"#The-Brackets-([])-Wildcard\" data-toc-modified-id=\"The-Brackets-([])-Wildcard-7.6\"><span class=\"toc-item-num\">7.6&nbsp;&nbsp;</span>The Brackets ([]) Wildcard</a></span><ul class=\"toc-item\"><li><span><a href=\"#Note:-Sets-Are-Not-Commonly-Supported\" data-toc-modified-id=\"Note:-Sets-Are-Not-Commonly-Supported-7.6.1\"><span class=\"toc-item-num\">7.6.1&nbsp;&nbsp;</span>Note: Sets Are Not Commonly Supported</a></span></li></ul></li><li><span><a href=\"#Tips-for-Using-Wildcards\" data-toc-modified-id=\"Tips-for-Using-Wildcards-7.7\"><span class=\"toc-item-num\">7.7&nbsp;&nbsp;</span>Tips for Using Wildcards</a></span></li></ul></li><li><span><a href=\"#Creating-Calculated-Fields\" data-toc-modified-id=\"Creating-Calculated-Fields-8\"><span class=\"toc-item-num\">8&nbsp;&nbsp;</span>Creating Calculated Fields</a></span><ul class=\"toc-item\"><li><span><a href=\"#Field\" data-toc-modified-id=\"Field-8.1\"><span class=\"toc-item-num\">8.1&nbsp;&nbsp;</span>Field</a></span></li><li><span><a href=\"#Concatenate\" data-toc-modified-id=\"Concatenate-8.2\"><span class=\"toc-item-num\">8.2&nbsp;&nbsp;</span>Concatenate</a></span><ul class=\"toc-item\"><li><span><a href=\"#Caution:-Alias-Names\" data-toc-modified-id=\"Caution:-Alias-Names-8.2.1\"><span class=\"toc-item-num\">8.2.1&nbsp;&nbsp;</span>Caution: Alias Names</a></span></li></ul></li><li><span><a href=\"#Performing-Mathematical-Calculations\" data-toc-modified-id=\"Performing-Mathematical-Calculations-8.3\"><span class=\"toc-item-num\">8.3&nbsp;&nbsp;</span>Performing Mathematical Calculations</a></span></li><li><span><a href=\"#SQL-Mathematical-Operators\" data-toc-modified-id=\"SQL-Mathematical-Operators-8.4\"><span class=\"toc-item-num\">8.4&nbsp;&nbsp;</span>SQL Mathematical Operators</a></span></li></ul></li><li><span><a href=\"#Using-Data-Manipulation-Functions\" data-toc-modified-id=\"Using-Data-Manipulation-Functions-9\"><span class=\"toc-item-num\">9&nbsp;&nbsp;</span>Using Data Manipulation Functions</a></span><ul class=\"toc-item\"><li><span><a href=\"#Using-Functions\" data-toc-modified-id=\"Using-Functions-9.1\"><span class=\"toc-item-num\">9.1&nbsp;&nbsp;</span>Using Functions</a></span></li><li><span><a href=\"#Text-Manipulation-Functions\" data-toc-modified-id=\"Text-Manipulation-Functions-9.2\"><span class=\"toc-item-num\">9.2&nbsp;&nbsp;</span>Text Manipulation Functions</a></span><ul class=\"toc-item\"><li><span><a href=\"#Tip:-UPPERCASE,-lowercase,-MixedCase\" data-toc-modified-id=\"Tip:-UPPERCASE,-lowercase,-MixedCase-9.2.1\"><span class=\"toc-item-num\">9.2.1&nbsp;&nbsp;</span>Tip: UPPERCASE, lowercase, MixedCase</a></span></li></ul></li><li><span><a href=\"#Date-and-Time-Manipulation-Functions\" data-toc-modified-id=\"Date-and-Time-Manipulation-Functions-9.3\"><span class=\"toc-item-num\">9.3&nbsp;&nbsp;</span>Date and Time Manipulation Functions</a></span></li><li><span><a href=\"#Numeric-Manipulation-Functions\" data-toc-modified-id=\"Numeric-Manipulation-Functions-9.4\"><span class=\"toc-item-num\">9.4&nbsp;&nbsp;</span>Numeric Manipulation Functions</a></span></li></ul></li><li><span><a href=\"#Summarizing-Data\" data-toc-modified-id=\"Summarizing-Data-10\"><span class=\"toc-item-num\">10&nbsp;&nbsp;</span>Summarizing Data</a></span><ul class=\"toc-item\"><li><span><a href=\"#Using-Aggregate-Functions\" data-toc-modified-id=\"Using-Aggregate-Functions-10.1\"><span class=\"toc-item-num\">10.1&nbsp;&nbsp;</span>Using Aggregate Functions</a></span></li><li><span><a href=\"#Aggregate-Functions\" data-toc-modified-id=\"Aggregate-Functions-10.2\"><span class=\"toc-item-num\">10.2&nbsp;&nbsp;</span>Aggregate Functions</a></span><ul class=\"toc-item\"><li><span><a href=\"#Caution:-Individual-Columns-Only\" data-toc-modified-id=\"Caution:-Individual-Columns-Only-10.2.1\"><span class=\"toc-item-num\">10.2.1&nbsp;&nbsp;</span>Caution: Individual Columns Only</a></span></li><li><span><a href=\"#Note:-NULL-Values\" data-toc-modified-id=\"Note:-NULL-Values-10.2.2\"><span class=\"toc-item-num\">10.2.2&nbsp;&nbsp;</span>Note: NULL Values</a></span></li></ul></li><li><span><a href=\"#The-count-values\" data-toc-modified-id=\"The-count-values-10.3\"><span class=\"toc-item-num\">10.3&nbsp;&nbsp;</span>The count values</a></span><ul class=\"toc-item\"><li><span><a href=\"#Tip:-Using-MAX()-with-Nonnumeric-Data\" data-toc-modified-id=\"Tip:-Using-MAX()-with-Nonnumeric-Data-10.3.1\"><span class=\"toc-item-num\">10.3.1&nbsp;&nbsp;</span>Tip: Using MAX() with Nonnumeric Data</a></span></li><li><span><a href=\"#Note:-NULL-Values\" data-toc-modified-id=\"Note:-NULL-Values-10.3.2\"><span class=\"toc-item-num\">10.3.2&nbsp;&nbsp;</span>Note: NULL Values</a></span></li><li><span><a href=\"#Tip:-Using-MIN()-with-Nonnumeric-Data\" data-toc-modified-id=\"Tip:-Using-MIN()-with-Nonnumeric-Data-10.3.3\"><span class=\"toc-item-num\">10.3.3&nbsp;&nbsp;</span>Tip: Using MIN() with Nonnumeric Data</a></span></li><li><span><a href=\"#Note:-NULL-Values\" data-toc-modified-id=\"Note:-NULL-Values-10.3.4\"><span class=\"toc-item-num\">10.3.4&nbsp;&nbsp;</span>Note: NULL Values</a></span></li><li><span><a href=\"#Tip:-Performing-Calculations-on-Multiple-Columns\" data-toc-modified-id=\"Tip:-Performing-Calculations-on-Multiple-Columns-10.3.5\"><span class=\"toc-item-num\">10.3.5&nbsp;&nbsp;</span>Tip: Performing Calculations on Multiple Columns</a></span></li><li><span><a href=\"#Note:-NULL-Values\" data-toc-modified-id=\"Note:-NULL-Values-10.3.6\"><span class=\"toc-item-num\">10.3.6&nbsp;&nbsp;</span>Note: NULL Values</a></span></li></ul></li><li><span><a href=\"#Aggregates-on-Distinct-Values\" data-toc-modified-id=\"Aggregates-on-Distinct-Values-10.4\"><span class=\"toc-item-num\">10.4&nbsp;&nbsp;</span>Aggregates on Distinct Values</a></span><ul class=\"toc-item\"><li><span><a href=\"#Tip:-ALL-Is-Default\" data-toc-modified-id=\"Tip:-ALL-Is-Default-10.4.1\"><span class=\"toc-item-num\">10.4.1&nbsp;&nbsp;</span>Tip: ALL Is Default</a></span></li><li><span><a href=\"#Caution:-No-DISTINCT-with-COUNT(*)\" data-toc-modified-id=\"Caution:-No-DISTINCT-with-COUNT(*)-10.4.2\"><span class=\"toc-item-num\">10.4.2&nbsp;&nbsp;</span>Caution: No DISTINCT with COUNT(*)</a></span></li><li><span><a href=\"#Tip:-Using-DISTINCT-with-MIN()-and-MAX()\" data-toc-modified-id=\"Tip:-Using-DISTINCT-with-MIN()-and-MAX()-10.4.3\"><span class=\"toc-item-num\">10.4.3&nbsp;&nbsp;</span>Tip: Using DISTINCT with MIN() and MAX()</a></span></li><li><span><a href=\"#Note:-Additional-Aggregate-Arguments\" data-toc-modified-id=\"Note:-Additional-Aggregate-Arguments-10.4.4\"><span class=\"toc-item-num\">10.4.4&nbsp;&nbsp;</span>Note: Additional Aggregate Arguments</a></span></li><li><span><a href=\"#Caution:-Naming-Aliases\" data-toc-modified-id=\"Caution:-Naming-Aliases-10.4.5\"><span class=\"toc-item-num\">10.4.5&nbsp;&nbsp;</span>Caution: Naming Aliases</a></span></li></ul></li></ul></li><li><span><a href=\"#Grouping-Data\" data-toc-modified-id=\"Grouping-Data-11\"><span class=\"toc-item-num\">11&nbsp;&nbsp;</span>Grouping Data</a></span><ul class=\"toc-item\"><li><span><a href=\"#Filtering-Groups\" data-toc-modified-id=\"Filtering-Groups-11.1\"><span class=\"toc-item-num\">11.1&nbsp;&nbsp;</span>Filtering Groups</a></span><ul class=\"toc-item\"><li><span><a href=\"#Tip:-The-ALL-Clause\" data-toc-modified-id=\"Tip:-The-ALL-Clause-11.1.1\"><span class=\"toc-item-num\">11.1.1&nbsp;&nbsp;</span>Tip: The ALL Clause</a></span></li><li><span><a href=\"#Caution:-Specifying-Columns-by-Relative-Position\" data-toc-modified-id=\"Caution:-Specifying-Columns-by-Relative-Position-11.1.2\"><span class=\"toc-item-num\">11.1.2&nbsp;&nbsp;</span>Caution: Specifying Columns by Relative Position</a></span></li><li><span><a href=\"#Tip:-HAVING-Supports-All-WHERE’s-Operators\" data-toc-modified-id=\"Tip:-HAVING-Supports-All-WHERE’s-Operators-11.1.3\"><span class=\"toc-item-num\">11.1.3&nbsp;&nbsp;</span>Tip: HAVING Supports All WHERE’s Operators</a></span></li><li><span><a href=\"#Note:-The-Difference-Between-HAVING-and-WHERE\" data-toc-modified-id=\"Note:-The-Difference-Between-HAVING-and-WHERE-11.1.4\"><span class=\"toc-item-num\">11.1.4&nbsp;&nbsp;</span>Note: The Difference Between HAVING and WHERE</a></span></li><li><span><a href=\"#Note:-Using-HAVING-and-WHERE\" data-toc-modified-id=\"Note:-Using-HAVING-and-WHERE-11.1.5\"><span class=\"toc-item-num\">11.1.5&nbsp;&nbsp;</span>Note: Using HAVING and WHERE</a></span></li><li><span><a href=\"#Tip:-Don’t-Forget-ORDER-BY\" data-toc-modified-id=\"Tip:-Don’t-Forget-ORDER-BY-11.1.6\"><span class=\"toc-item-num\">11.1.6&nbsp;&nbsp;</span>Tip: Don’t Forget ORDER BY</a></span></li></ul></li><li><span><a href=\"#SELECT-Clause-Ordering\" data-toc-modified-id=\"SELECT-Clause-Ordering-11.2\"><span class=\"toc-item-num\">11.2&nbsp;&nbsp;</span>SELECT Clause Ordering</a></span></li></ul></li><li><span><a href=\"#Working-with-Subqueries\" data-toc-modified-id=\"Working-with-Subqueries-12\"><span class=\"toc-item-num\">12&nbsp;&nbsp;</span>Working with Subqueries</a></span><ul class=\"toc-item\"><li><span><a href=\"#Query\" data-toc-modified-id=\"Query-12.1\"><span class=\"toc-item-num\">12.1&nbsp;&nbsp;</span>Query</a></span><ul class=\"toc-item\"><li><span><a href=\"#Caution:-Single-Column-Only\" data-toc-modified-id=\"Caution:-Single-Column-Only-12.1.1\"><span class=\"toc-item-num\">12.1.1&nbsp;&nbsp;</span>Caution: Single Column Only</a></span></li><li><span><a href=\"#Caution:-Subqueries-and-Performance\" data-toc-modified-id=\"Caution:-Subqueries-and-Performance-12.1.2\"><span class=\"toc-item-num\">12.1.2&nbsp;&nbsp;</span>Caution: Subqueries and Performance</a></span></li></ul></li><li><span><a href=\"#Using-Subqueries-as-Calculated-Fields\" data-toc-modified-id=\"Using-Subqueries-as-Calculated-Fields-12.2\"><span class=\"toc-item-num\">12.2&nbsp;&nbsp;</span>Using Subqueries as Calculated Fields</a></span><ul class=\"toc-item\"><li><span><a href=\"#Caution:-Fully-Qualified-Column-Names\" data-toc-modified-id=\"Caution:-Fully-Qualified-Column-Names-12.2.1\"><span class=\"toc-item-num\">12.2.1&nbsp;&nbsp;</span>Caution: Fully Qualified Column Names</a></span></li><li><span><a href=\"#Tip:-Subqueries-May-Not-Always-Be-the-Best-Option\" data-toc-modified-id=\"Tip:-Subqueries-May-Not-Always-Be-the-Best-Option-12.2.2\"><span class=\"toc-item-num\">12.2.2&nbsp;&nbsp;</span>Tip: Subqueries May Not Always Be the Best Option</a></span></li></ul></li></ul></li><li><span><a href=\"#Joining-Tables\" data-toc-modified-id=\"Joining-Tables-13\"><span class=\"toc-item-num\">13&nbsp;&nbsp;</span>Joining Tables</a></span><ul class=\"toc-item\"><li><span><a href=\"#Scale\" data-toc-modified-id=\"Scale-13.1\"><span class=\"toc-item-num\">13.1&nbsp;&nbsp;</span>Scale</a></span></li><li><span><a href=\"#Why-Use-Joins?\" data-toc-modified-id=\"Why-Use-Joins?-13.2\"><span class=\"toc-item-num\">13.2&nbsp;&nbsp;</span>Why Use Joins?</a></span></li></ul></li></ul></div>"
   ]
  },
  {
   "cell_type": "markdown",
   "metadata": {},
   "source": [
    "# Learning SQL\n",
    "\n",
    "* Source code for  Sams Teach Yourself SQL in 10 Minutes Fifth Edition Ben Forta code: \n",
    "\n",
    "https://forta.com/books/0135182794/\n",
    "\n",
    "\n",
    "* challenges\n",
    "https://forta.com/books/0135182794/challenges/"
   ]
  },
  {
   "cell_type": "markdown",
   "metadata": {},
   "source": [
    "\n",
    "\n",
    "1-  Introduction to SQL\n",
    "- SQL is a standard language query for storing, manipulating and retrieving data in databases.\n",
    "- Our SQL tutorial will teach you how to use SQL in: MySQL, SQL Server, MS Access, Oracle, Sybase, Informix, Postgres, and other database systems.\n",
    "- SQL is a standard language for accessing and manipulating databases.\n",
    "\n",
    "2- What is SQL?\n",
    "* SQL stands for Structured Query Language\n",
    "* SQL lets you access and manipulate databases\n",
    "* SQL became a standard of the American National Standards Institute (ANSI) in 1986, and of the International Organization for Standardization (ISO) in 1987\n",
    "\n",
    "3- What Can SQL do?\n",
    "* SQL can execute queries against a database\n",
    "* SQL can retrieve data from a database\n",
    "* SQL can insert records in a database\n",
    "* SQL can update records in a database\n",
    "* SQL can delete records from a database\n",
    "* SQL can create new databases\n",
    "* SQL can create new tables in a database\n",
    "* SQL can create stored procedures in a database\n",
    "* SQL can create views in a database\n",
    "* SQL can set permissions on tables, procedures, and views\n",
    "\n",
    "## RDBMS\n",
    "\n",
    "RDBMS stands for Relational Database Management System.\n",
    "\n",
    "RDBMS is the basis for SQL, and for all modern database systems such as MS SQL Server, IBM DB2, Oracle, MySQL, and Microsoft Access.\n",
    "\n",
    "The data in RDBMS is stored in database objects called tables. A table is a collection of related data entries and it consists of columns and rows.\n",
    "\n",
    "Look at the \"Customers\" table:\n",
    "\n",
    "## Database : \n",
    "A container (usually a file or set of files) to store organized data. People often use the term database to refer to the database software they are running. This is incorrect and a source of much confusion. \n",
    "\n",
    "Database software\n",
    "is actually called the Database Management System (or DBMS). The\n",
    "database is the container created and manipulated via the DBMS, and exactly\n",
    "what the database is and what form it takes vary from one database to the\n",
    "next.\n",
    "\n",
    "## Table\n",
    "A structured list of data of a specific type.\n",
    "## Table Names\n",
    "What makes a table name unique is actually a combination of several things\n",
    "including the database name and table name. Some databases also use the\n",
    "name of the database owner as part of the unique name. \n",
    "\n",
    "This means that while\n",
    "you cannot use the same table name twice in the same database, you definitely\n",
    "can reuse table names in different databases.\n",
    "\n",
    "## Schema\n",
    "Information about database and table layout and properties.\n",
    "\n",
    "## Column\n",
    "A single field in a table. All tables are made up of one or more columns.\n",
    "\n",
    "## Breaking Up Data\n",
    "It is extremely important to break data into multiple columns correctly. For\n",
    "example, city, state, and ZIP (or postal) code should always be separate\n",
    "columns. When you break these out, it becomes possible to sort or filter data\n",
    "by specific columns (for example, to find all customers in a particular state or\n",
    "in a particular city). If city and state are combined into one column, it would\n",
    "be extremely difficult to sort or filter by state.\n",
    "\n",
    "When you break up data, the level of granularity is up to you and your\n",
    "specific requirements. For example, addresses are typically stored with the\n",
    "house number and street name together. This is fine, unless you might one day\n",
    "need to sort data by street name, in which case splitting house number and\n",
    "street name would be preferable.\n",
    "\n",
    "## Datatype\n",
    "A type of allowed data. Every table column has an associated datatype that\n",
    "restricts (or allows) specific data in that column.\n",
    "\n",
    "## Datatype Compatibility\n",
    "Datatypes and their names are one of the primary sources of SQL\n",
    "incompatibility. While most basic datatypes are supported consistently, many\n",
    "more advanced datatypes are not. And worse, occasionally you’ll find that the\n",
    "same datatype is referred to by different names in different DBMSs. There is\n",
    "not much you can do about this, but it is important to keep in mind when you\n",
    "create table schemas.\n",
    "\n",
    "## Row\n",
    "A record in a table.\n",
    "\n",
    "## Primary key\n",
    "A column (or set of columns) whose values uniquely identify every row in a\n",
    "table.\n",
    "\n",
    "\n",
    "## Always Define Primary Keys\n",
    "Although primary keys are not actually required, most database designers\n",
    "ensure that every table they create has a primary key so that future data\n",
    "manipulation is possible and manageable.\n",
    "\n",
    "Any column in a table can be defined as the primary key, as long as it meets the\n",
    "following conditions:\n",
    "- No two rows can have the same primary key value.\n",
    "- Every row must have a value in the primary key column(s). (So, no NULL values.)\n",
    "- Values in primary key columns should never be modified or updated.\n",
    "- Primary key values should never be reused. (If a row is deleted from the table, its primary key may not be assigned to any new rows in the future.)\n",
    "\n",
    "## What Is SQL?\n",
    "SQL (pronounced as the letters S-Q-L or as sequel) is an abbreviation for\n",
    "Structured Query Language. SQL is a language designed specifically for\n",
    "communicating with databases.\n",
    "\n",
    "## SQL Extensions\n",
    "Many DBMS vendors have extended their support for SQL by adding\n",
    "statements or instructions to the language. The purpose of these extensions is\n",
    "to provide additional functionality or simplified ways to perform specific\n",
    "operations. And while often extremely useful, these extensions tend to be very\n",
    "DBMS specific, and they are rarely supported by more than a single vendor.\n",
    "Standard SQL is governed by the ANSI standards committee, and is thus\n",
    "called ANSI SQL. All major DBMSs, even those with their own extensions,\n",
    "support ANSI SQL. Individual implementations have their own names (PLSQL, used by Oracle; Transact-SQL, used by Microsoft SQL Server; and so\n",
    "on).\n",
    "For the most part, the SQL taught in this book is ANSI SQL. On the odd\n",
    "occasion where DBMS-specific SQL is used, it is so noted."
   ]
  },
  {
   "cell_type": "markdown",
   "metadata": {},
   "source": [
    "# SQL Statement Syntax\n",
    "\n",
    "``` mysql\n",
    "\n",
    "ALTER TABLE tablename\n",
    "(\n",
    "ADD|DROP column datatype [NULL|NOT NULL] [CONSTRAINTS],\n",
    "ADD|DROP column datatype [NULL|NOT NULL] [CONSTRAINTS],\n",
    "...\n",
    ");\n",
    "\n",
    "\n",
    "\n",
    "COMMIT [TRANSACTION];\n",
    "\n",
    "\n",
    "\n",
    "CREATE INDEX indexname\n",
    "ON tablename (column, ...);\n",
    "\n",
    "\n",
    "\n",
    "CREATE PROCEDURE procedurename [parameters] [options]\n",
    "AS\n",
    "SQL statement;\n",
    "\n",
    "\n",
    "\n",
    "\n",
    "CREATE TABLE tablename\n",
    "(\n",
    "column datatype [NULL|NOT NULL] [CONSTRAINTS],\n",
    "column datatype [NULL|NOT NULL] [CONSTRAINTS],\n",
    "...\n",
    ");\n",
    "\n",
    "\n",
    "\n",
    "\n",
    "CREATE VIEW viewname AS\n",
    "SELECT columns, ...\n",
    "FROM tables, ...\n",
    "[WHERE ...]\n",
    "[GROUP BY ...]\n",
    "[HAVING ...];\n",
    "\n",
    "\n",
    "\n",
    "DELETE FROM tablename\n",
    "[WHERE ...];\n",
    "\n",
    "\n",
    "\n",
    "DROP INDEX|PROCEDURE|TABLE|VIEW indexname|procedurename|tablename|\n",
    "viewname;\n",
    "\n",
    "\n",
    "\n",
    "INSERT INTO tablename [(columns, ...)]\n",
    "VALUES(values, ...);\n",
    "\n",
    "\n",
    "\n",
    "INSERT INTO tablename [(columns, ...)]\n",
    "SELECT columns, ... FROM tablename, ...\n",
    "[WHERE ...];\n",
    "\n",
    "\n",
    "\n",
    "ROLLBACK [TO savepointname];\n",
    "OR\n",
    "ROLLBACK TRANSACTION;\n",
    "\n",
    "\n",
    "\n",
    "SELECT columnname, ...\n",
    "FROM tablename, ...\n",
    "[WHERE ...]\n",
    "[UNION ...]\n",
    "[GROUP BY ...]\n",
    "[HAVING ...]\n",
    "[ORDER BY ...];\n",
    "\n",
    "\n",
    "\n",
    "UPDATE tablename\n",
    "SET columname = value, ...\n",
    "[WHERE ...];\n",
    "\n",
    "\n",
    "```"
   ]
  },
  {
   "cell_type": "markdown",
   "metadata": {},
   "source": [
    "``` mysql\n",
    "\n",
    "\n",
    "create database teach_yourself_sql;\n",
    "\n",
    "use teach_yourself_sql;\n",
    "\n",
    "\n",
    "\n",
    "-- ----------------------\n",
    "-- Create Customers table\n",
    "-- ----------------------\n",
    "CREATE TABLE Customers\n",
    "(\n",
    "  cust_id      char(10)  NOT NULL ,\n",
    "  cust_name    char(50)  NOT NULL ,\n",
    "  cust_address char(50)  NULL ,\n",
    "  cust_city    char(50)  NULL ,\n",
    "  cust_state   char(5)   NULL ,\n",
    "  cust_zip     char(10)  NULL ,\n",
    "  cust_country char(50)  NULL ,\n",
    "  cust_contact char(50)  NULL ,\n",
    "  cust_email   char(255) NULL \n",
    ");\n",
    "\n",
    "-- -----------------------\n",
    "-- Create OrderItems table\n",
    "-- -----------------------\n",
    "CREATE TABLE OrderItems\n",
    "(\n",
    "  order_num  int          NOT NULL ,\n",
    "  order_item int          NOT NULL ,\n",
    "  prod_id    char(10)     NOT NULL ,\n",
    "  quantity   int          NOT NULL ,\n",
    "  item_price decimal(8,2) NOT NULL \n",
    ");\n",
    "\n",
    "\n",
    "-- -------------------\n",
    "-- Create Orders table\n",
    "-- -------------------\n",
    "CREATE TABLE Orders\n",
    "(\n",
    "  order_num  int      NOT NULL ,\n",
    "  order_date datetime NOT NULL ,\n",
    "  cust_id    char(10) NOT NULL \n",
    ");\n",
    "\n",
    "-- ---------------------\n",
    "-- Create Products table\n",
    "-- ---------------------\n",
    "CREATE TABLE Products\n",
    "(\n",
    "  prod_id    char(10)      NOT NULL ,\n",
    "  vend_id    char(10)      NOT NULL ,\n",
    "  prod_name  char(255)     NOT NULL ,\n",
    "  prod_price decimal(8,2)  NOT NULL ,\n",
    "  prod_desc  text          NULL \n",
    ");\n",
    "\n",
    "-- --------------------\n",
    "-- Create Vendors table\n",
    "-- --------------------\n",
    "CREATE TABLE Vendors\n",
    "(\n",
    "  vend_id      char(10) NOT NULL ,\n",
    "  vend_name    char(50) NOT NULL ,\n",
    "  vend_address char(50) NULL ,\n",
    "  vend_city    char(50) NULL ,\n",
    "  vend_state   char(5)  NULL ,\n",
    "  vend_zip     char(10) NULL ,\n",
    "  vend_country char(50) NULL \n",
    ");\n",
    "\n",
    "\n",
    "-- -------------------\n",
    "-- Define primary keys\n",
    "-- -------------------\n",
    "ALTER TABLE Customers ADD PRIMARY KEY (cust_id);\n",
    "ALTER TABLE OrderItems ADD PRIMARY KEY (order_num, order_item);\n",
    "ALTER TABLE Orders ADD PRIMARY KEY (order_num);\n",
    "ALTER TABLE Products ADD PRIMARY KEY (prod_id);\n",
    "ALTER TABLE Vendors ADD PRIMARY KEY (vend_id);\n",
    "\n",
    "\n",
    "-- -------------------\n",
    "-- Define foreign keys\n",
    "-- -------------------\n",
    "ALTER TABLE OrderItems ADD CONSTRAINT FK_OrderItems_Orders FOREIGN KEY (order_num) REFERENCES Orders (order_num);\n",
    "ALTER TABLE OrderItems ADD CONSTRAINT FK_OrderItems_Products FOREIGN KEY (prod_id) REFERENCES Products (prod_id);\n",
    "ALTER TABLE Orders ADD CONSTRAINT FK_Orders_Customers FOREIGN KEY (cust_id) REFERENCES Customers (cust_id);\n",
    "ALTER TABLE Products ADD CONSTRAINT FK_Products_Vendors FOREIGN KEY (vend_id) REFERENCES Vendors (vend_id);\n",
    "\n",
    "\n",
    "\n",
    "\n",
    "-- ------------------------\n",
    "-- Populate Customers table\n",
    "-- ------------------------\n",
    "INSERT INTO Customers(cust_id, cust_name, cust_address, cust_city, cust_state, cust_zip, cust_country, cust_contact, cust_email)\n",
    "VALUES('1000000001', 'Village Toys', '200 Maple Lane', 'Detroit', 'MI', '44444', 'USA', 'John Smith', 'sales@villagetoys.com');\n",
    "INSERT INTO Customers(cust_id, cust_name, cust_address, cust_city, cust_state, cust_zip, cust_country, cust_contact)\n",
    "VALUES('1000000002', 'Kids Place', '333 South Lake Drive', 'Columbus', 'OH', '43333', 'USA', 'Michelle Green');\n",
    "INSERT INTO Customers(cust_id, cust_name, cust_address, cust_city, cust_state, cust_zip, cust_country, cust_contact, cust_email)\n",
    "VALUES('1000000003', 'Fun4All', '1 Sunny Place', 'Muncie', 'IN', '42222', 'USA', 'Jim Jones', 'jjones@fun4all.com');\n",
    "INSERT INTO Customers(cust_id, cust_name, cust_address, cust_city, cust_state, cust_zip, cust_country, cust_contact, cust_email)\n",
    "VALUES('1000000004', 'Fun4All', '829 Riverside Drive', 'Phoenix', 'AZ', '88888', 'USA', 'Denise L. Stephens', 'dstephens@fun4all.com');\n",
    "INSERT INTO Customers(cust_id, cust_name, cust_address, cust_city, cust_state, cust_zip, cust_country, cust_contact)\n",
    "VALUES('1000000005', 'The Toy Store', '4545 53rd Street', 'Chicago', 'IL', '54545', 'USA', 'Kim Howard');\n",
    "\n",
    "-- ----------------------\n",
    "-- Populate Vendors table\n",
    "-- ----------------------\n",
    "INSERT INTO Vendors(vend_id, vend_name, vend_address, vend_city, vend_state, vend_zip, vend_country)\n",
    "VALUES('BRS01','Bears R Us','123 Main Street','Bear Town','MI','44444', 'USA');\n",
    "INSERT INTO Vendors(vend_id, vend_name, vend_address, vend_city, vend_state, vend_zip, vend_country)\n",
    "VALUES('BRE02','Bear Emporium','500 Park Street','Anytown','OH','44333', 'USA');\n",
    "INSERT INTO Vendors(vend_id, vend_name, vend_address, vend_city, vend_state, vend_zip, vend_country)\n",
    "VALUES('DLL01','Doll House Inc.','555 High Street','Dollsville','CA','99999', 'USA');\n",
    "INSERT INTO Vendors(vend_id, vend_name, vend_address, vend_city, vend_state, vend_zip, vend_country)\n",
    "VALUES('FRB01','Furball Inc.','1000 5th Avenue','New York','NY','11111', 'USA');\n",
    "INSERT INTO Vendors(vend_id, vend_name, vend_address, vend_city, vend_state, vend_zip, vend_country)\n",
    "VALUES('FNG01','Fun and Games','42 Galaxy Road','London', NULL,'N16 6PS', 'England');\n",
    "INSERT INTO Vendors(vend_id, vend_name, vend_address, vend_city, vend_state, vend_zip, vend_country)\n",
    "VALUES('JTS01','Jouets et ours','1 Rue Amusement','Paris', NULL,'45678', 'France');\n",
    "\n",
    "-- -----------------------\n",
    "-- Populate Products table\n",
    "-- -----------------------\n",
    "INSERT INTO Products(prod_id, vend_id, prod_name, prod_price, prod_desc)\n",
    "VALUES('BR01', 'BRS01', '8 inch teddy bear', 5.99, '8 inch teddy bear, comes with cap and jacket');\n",
    "INSERT INTO Products(prod_id, vend_id, prod_name, prod_price, prod_desc)\n",
    "VALUES('BR02', 'BRS01', '12 inch teddy bear', 8.99, '12 inch teddy bear, comes with cap and jacket');\n",
    "INSERT INTO Products(prod_id, vend_id, prod_name, prod_price, prod_desc)\n",
    "VALUES('BR03', 'BRS01', '18 inch teddy bear', 11.99, '18 inch teddy bear, comes with cap and jacket');\n",
    "INSERT INTO Products(prod_id, vend_id, prod_name, prod_price, prod_desc)\n",
    "VALUES('BNBG01', 'DLL01', 'Fish bean bag toy', 3.49, 'Fish bean bag toy, complete with bean bag worms with which to feed it');\n",
    "INSERT INTO Products(prod_id, vend_id, prod_name, prod_price, prod_desc)\n",
    "VALUES('BNBG02', 'DLL01', 'Bird bean bag toy', 3.49, 'Bird bean bag toy, eggs are not included');\n",
    "INSERT INTO Products(prod_id, vend_id, prod_name, prod_price, prod_desc)\n",
    "VALUES('BNBG03', 'DLL01', 'Rabbit bean bag toy', 3.49, 'Rabbit bean bag toy, comes with bean bag carrots');\n",
    "INSERT INTO Products(prod_id, vend_id, prod_name, prod_price, prod_desc)\n",
    "VALUES('RGAN01', 'DLL01', 'Raggedy Ann', 4.99, '18 inch Raggedy Ann doll');\n",
    "INSERT INTO Products(prod_id, vend_id, prod_name, prod_price, prod_desc)\n",
    "VALUES('RYL01', 'FNG01', 'King doll', 9.49, '12 inch king doll with royal garments and crown');\n",
    "INSERT INTO Products(prod_id, vend_id, prod_name, prod_price, prod_desc)\n",
    "VALUES('RYL02', 'FNG01', 'Queen doll', 9.49, '12 inch queen doll with royal garments and crown');\n",
    "\n",
    "-- ---------------------\n",
    "-- Populate Orders table\n",
    "-- ---------------------\n",
    "INSERT INTO Orders(order_num, order_date, cust_id)\n",
    "VALUES(20005, '2020-05-01', '1000000001');\n",
    "INSERT INTO Orders(order_num, order_date, cust_id)\n",
    "VALUES(20006, '2020-01-12', '1000000003');\n",
    "INSERT INTO Orders(order_num, order_date, cust_id)\n",
    "VALUES(20007, '2020-01-30', '1000000004');\n",
    "INSERT INTO Orders(order_num, order_date, cust_id)\n",
    "VALUES(20008, '2020-02-03', '1000000005');\n",
    "INSERT INTO Orders(order_num, order_date, cust_id)\n",
    "VALUES(20009, '2020-02-08', '1000000001');\n",
    "\n",
    "-- -------------------------\n",
    "-- Populate OrderItems table\n",
    "-- -------------------------\n",
    "INSERT INTO OrderItems(order_num, order_item, prod_id, quantity, item_price)\n",
    "VALUES(20005, 1, 'BR01', 100, 5.49);\n",
    "INSERT INTO OrderItems(order_num, order_item, prod_id, quantity, item_price)\n",
    "VALUES(20005, 2, 'BR03', 100, 10.99);\n",
    "INSERT INTO OrderItems(order_num, order_item, prod_id, quantity, item_price)\n",
    "VALUES(20006, 1, 'BR01', 20, 5.99);\n",
    "INSERT INTO OrderItems(order_num, order_item, prod_id, quantity, item_price)\n",
    "VALUES(20006, 2, 'BR02', 10, 8.99);\n",
    "INSERT INTO OrderItems(order_num, order_item, prod_id, quantity, item_price)\n",
    "VALUES(20006, 3, 'BR03', 10, 11.99);\n",
    "INSERT INTO OrderItems(order_num, order_item, prod_id, quantity, item_price)\n",
    "VALUES(20007, 1, 'BR03', 50, 11.49);\n",
    "INSERT INTO OrderItems(order_num, order_item, prod_id, quantity, item_price)\n",
    "VALUES(20007, 2, 'BNBG01', 100, 2.99);\n",
    "INSERT INTO OrderItems(order_num, order_item, prod_id, quantity, item_price)\n",
    "VALUES(20007, 3, 'BNBG02', 100, 2.99);\n",
    "INSERT INTO OrderItems(order_num, order_item, prod_id, quantity, item_price)\n",
    "VALUES(20007, 4, 'BNBG03', 100, 2.99);\n",
    "INSERT INTO OrderItems(order_num, order_item, prod_id, quantity, item_price)\n",
    "VALUES(20007, 5, 'RGAN01', 50, 4.49);\n",
    "INSERT INTO OrderItems(order_num, order_item, prod_id, quantity, item_price)\n",
    "VALUES(20008, 1, 'RGAN01', 5, 4.99);\n",
    "INSERT INTO OrderItems(order_num, order_item, prod_id, quantity, item_price)\n",
    "VALUES(20008, 2, 'BR03', 5, 11.99);\n",
    "INSERT INTO OrderItems(order_num, order_item, prod_id, quantity, item_price)\n",
    "VALUES(20008, 3, 'BNBG01', 10, 3.49);\n",
    "INSERT INTO OrderItems(order_num, order_item, prod_id, quantity, item_price)\n",
    "VALUES(20008, 4, 'BNBG02', 10, 3.49);\n",
    "INSERT INTO OrderItems(order_num, order_item, prod_id, quantity, item_price)\n",
    "VALUES(20008, 5, 'BNBG03', 10, 3.49);\n",
    "INSERT INTO OrderItems(order_num, order_item, prod_id, quantity, item_price)\n",
    "VALUES(20009, 1, 'BNBG01', 250, 2.49);\n",
    "INSERT INTO OrderItems(order_num, order_item, prod_id, quantity, item_price)\n",
    "VALUES(20009, 2, 'BNBG02', 250, 2.49);\n",
    "INSERT INTO OrderItems(order_num, order_item, prod_id, quantity, item_price)\n",
    "VALUES(20009, 3, 'BNBG03', 250, 2.49);\n",
    "```"
   ]
  },
  {
   "cell_type": "markdown",
   "metadata": {},
   "source": [
    "#  Retrieving Data\n",
    "It is important to note that SQL statements are not case sensitive, so SELECT is\n",
    "the same as select, which is the same as Select. Many SQL developers find\n",
    "that using uppercase for all SQL keywords and lowercase for column and\n",
    "table names makes code easier to read and debug. However, be aware that\n",
    "while the SQL language is case-insensitive, the names of tables, columns, and\n",
    "values may not be (that depends on your DBMS and how it is configured)."
   ]
  },
  {
   "cell_type": "raw",
   "metadata": {
    "ExecuteTime": {
     "end_time": "2021-07-22T02:12:28.699546Z",
     "start_time": "2021-07-22T02:12:28.691568Z"
    }
   },
   "source": [
    "pip install mysql-connector\n",
    "pip install mysql\n"
   ]
  },
  {
   "cell_type": "code",
   "execution_count": 51,
   "metadata": {
    "ExecuteTime": {
     "end_time": "2021-07-23T19:01:32.973140Z",
     "start_time": "2021-07-23T19:01:32.962165Z"
    }
   },
   "outputs": [
    {
     "data": {
      "text/html": [
       "<div>\n",
       "<style scoped>\n",
       "    .dataframe tbody tr th:only-of-type {\n",
       "        vertical-align: middle;\n",
       "    }\n",
       "\n",
       "    .dataframe tbody tr th {\n",
       "        vertical-align: top;\n",
       "    }\n",
       "\n",
       "    .dataframe thead th {\n",
       "        text-align: right;\n",
       "    }\n",
       "</style>\n",
       "<table border=\"1\" class=\"dataframe\">\n",
       "  <thead>\n",
       "    <tr style=\"text-align: right;\">\n",
       "      <th></th>\n",
       "      <th>prod_name</th>\n",
       "    </tr>\n",
       "  </thead>\n",
       "  <tbody>\n",
       "    <tr>\n",
       "      <th>0</th>\n",
       "      <td>Fish bean bag toy</td>\n",
       "    </tr>\n",
       "    <tr>\n",
       "      <th>1</th>\n",
       "      <td>Bird bean bag toy</td>\n",
       "    </tr>\n",
       "    <tr>\n",
       "      <th>2</th>\n",
       "      <td>Rabbit bean bag toy</td>\n",
       "    </tr>\n",
       "    <tr>\n",
       "      <th>3</th>\n",
       "      <td>8 inch teddy bear</td>\n",
       "    </tr>\n",
       "    <tr>\n",
       "      <th>4</th>\n",
       "      <td>12 inch teddy bear</td>\n",
       "    </tr>\n",
       "    <tr>\n",
       "      <th>5</th>\n",
       "      <td>18 inch teddy bear</td>\n",
       "    </tr>\n",
       "    <tr>\n",
       "      <th>6</th>\n",
       "      <td>Raggedy Ann</td>\n",
       "    </tr>\n",
       "    <tr>\n",
       "      <th>7</th>\n",
       "      <td>King doll</td>\n",
       "    </tr>\n",
       "    <tr>\n",
       "      <th>8</th>\n",
       "      <td>Queen doll</td>\n",
       "    </tr>\n",
       "  </tbody>\n",
       "</table>\n",
       "</div>"
      ],
      "text/plain": [
       "             prod_name\n",
       "0    Fish bean bag toy\n",
       "1    Bird bean bag toy\n",
       "2  Rabbit bean bag toy\n",
       "3    8 inch teddy bear\n",
       "4   12 inch teddy bear\n",
       "5   18 inch teddy bear\n",
       "6          Raggedy Ann\n",
       "7            King doll\n",
       "8           Queen doll"
      ]
     },
     "execution_count": 51,
     "metadata": {},
     "output_type": "execute_result"
    }
   ],
   "source": [
    "# Create connection:\n",
    "import mysql.connector\n",
    "import pandas as pd\n",
    "def query(query):\n",
    "        mySql_connector = mysql.connector.connect(\n",
    "        host=\"localhost\", \n",
    "        user=\"root\",\n",
    "        passwd=\"We12501250@#%\",\n",
    "        database=\"teach_yourself_sql\" , use_pure=True\n",
    "        )\n",
    "        \n",
    "        data= pd.read_sql_query(query , mySql_connector  )\n",
    "        return data\n",
    "    \n",
    "'''order = 10100\n",
    "status = 'Shipped'\n",
    "sql = \"\"\"SELECT  * from orders where orderNumber = ?\n",
    "         and status = ? order by orderNumber\"\"\"\n",
    "df1 = pd.read_sql_query(sql, cnx, params=[order, status])\n",
    "'''\n",
    "\n",
    "\n",
    "data=query(\"\"\"\n",
    "SELECT prod_name\n",
    "FROM Products;\n",
    "\n",
    "\n",
    "\"\"\")\n",
    "data"
   ]
  },
  {
   "cell_type": "code",
   "execution_count": 52,
   "metadata": {
    "ExecuteTime": {
     "end_time": "2021-07-23T19:01:32.989176Z",
     "start_time": "2021-07-23T19:01:32.974165Z"
    }
   },
   "outputs": [
    {
     "data": {
      "text/html": [
       "<div>\n",
       "<style scoped>\n",
       "    .dataframe tbody tr th:only-of-type {\n",
       "        vertical-align: middle;\n",
       "    }\n",
       "\n",
       "    .dataframe tbody tr th {\n",
       "        vertical-align: top;\n",
       "    }\n",
       "\n",
       "    .dataframe thead th {\n",
       "        text-align: right;\n",
       "    }\n",
       "</style>\n",
       "<table border=\"1\" class=\"dataframe\">\n",
       "  <thead>\n",
       "    <tr style=\"text-align: right;\">\n",
       "      <th></th>\n",
       "      <th>prod_id</th>\n",
       "      <th>prod_name</th>\n",
       "      <th>prod_price</th>\n",
       "    </tr>\n",
       "  </thead>\n",
       "  <tbody>\n",
       "    <tr>\n",
       "      <th>0</th>\n",
       "      <td>BNBG01</td>\n",
       "      <td>Fish bean bag toy</td>\n",
       "      <td>3.49</td>\n",
       "    </tr>\n",
       "    <tr>\n",
       "      <th>1</th>\n",
       "      <td>BNBG02</td>\n",
       "      <td>Bird bean bag toy</td>\n",
       "      <td>3.49</td>\n",
       "    </tr>\n",
       "    <tr>\n",
       "      <th>2</th>\n",
       "      <td>BNBG03</td>\n",
       "      <td>Rabbit bean bag toy</td>\n",
       "      <td>3.49</td>\n",
       "    </tr>\n",
       "    <tr>\n",
       "      <th>3</th>\n",
       "      <td>BR01</td>\n",
       "      <td>8 inch teddy bear</td>\n",
       "      <td>5.99</td>\n",
       "    </tr>\n",
       "    <tr>\n",
       "      <th>4</th>\n",
       "      <td>BR02</td>\n",
       "      <td>12 inch teddy bear</td>\n",
       "      <td>8.99</td>\n",
       "    </tr>\n",
       "    <tr>\n",
       "      <th>5</th>\n",
       "      <td>BR03</td>\n",
       "      <td>18 inch teddy bear</td>\n",
       "      <td>11.99</td>\n",
       "    </tr>\n",
       "    <tr>\n",
       "      <th>6</th>\n",
       "      <td>RGAN01</td>\n",
       "      <td>Raggedy Ann</td>\n",
       "      <td>4.99</td>\n",
       "    </tr>\n",
       "    <tr>\n",
       "      <th>7</th>\n",
       "      <td>RYL01</td>\n",
       "      <td>King doll</td>\n",
       "      <td>9.49</td>\n",
       "    </tr>\n",
       "    <tr>\n",
       "      <th>8</th>\n",
       "      <td>RYL02</td>\n",
       "      <td>Queen doll</td>\n",
       "      <td>9.49</td>\n",
       "    </tr>\n",
       "  </tbody>\n",
       "</table>\n",
       "</div>"
      ],
      "text/plain": [
       "  prod_id            prod_name  prod_price\n",
       "0  BNBG01    Fish bean bag toy        3.49\n",
       "1  BNBG02    Bird bean bag toy        3.49\n",
       "2  BNBG03  Rabbit bean bag toy        3.49\n",
       "3    BR01    8 inch teddy bear        5.99\n",
       "4    BR02   12 inch teddy bear        8.99\n",
       "5    BR03   18 inch teddy bear       11.99\n",
       "6  RGAN01          Raggedy Ann        4.99\n",
       "7   RYL01            King doll        9.49\n",
       "8   RYL02           Queen doll        9.49"
      ]
     },
     "execution_count": 52,
     "metadata": {},
     "output_type": "execute_result"
    }
   ],
   "source": [
    "data=query(\"\"\"\n",
    "SELECT prod_id, prod_name, prod_price\n",
    "FROM Products;\n",
    "\"\"\")\n",
    "data"
   ]
  },
  {
   "cell_type": "markdown",
   "metadata": {},
   "source": [
    "## Presentation of Data\n",
    "SQL statements typically return raw, unformatted data, and different DBMSs\n",
    "and clients may display the data differently (with different alignment or\n",
    "decimal places, for example). Data formatting is a presentation issue, not a\n",
    "retrieval issue. Therefore, presentation is typically specified in the\n",
    "application that displays the data. Actual retrieved data (without applicationprovided formatting) is rarely used.\n",
    "\n",
    "\n",
    "## wildcard (*):\n",
    "\n",
    "`As a rule, you are better off not using the * wildcard unless you really do\n",
    "need every column in the table. Even though use of wildcards may save youthe time and effort needed to list the desired columns explicitly, retrieving\n",
    "unnecessary columns usually slows down the performance of your retrieval\n",
    "and your application.`\n",
    "\n"
   ]
  },
  {
   "cell_type": "code",
   "execution_count": 53,
   "metadata": {
    "ExecuteTime": {
     "end_time": "2021-07-23T19:01:33.005171Z",
     "start_time": "2021-07-23T19:01:32.990156Z"
    }
   },
   "outputs": [
    {
     "data": {
      "text/html": [
       "<div>\n",
       "<style scoped>\n",
       "    .dataframe tbody tr th:only-of-type {\n",
       "        vertical-align: middle;\n",
       "    }\n",
       "\n",
       "    .dataframe tbody tr th {\n",
       "        vertical-align: top;\n",
       "    }\n",
       "\n",
       "    .dataframe thead th {\n",
       "        text-align: right;\n",
       "    }\n",
       "</style>\n",
       "<table border=\"1\" class=\"dataframe\">\n",
       "  <thead>\n",
       "    <tr style=\"text-align: right;\">\n",
       "      <th></th>\n",
       "      <th>prod_id</th>\n",
       "      <th>vend_id</th>\n",
       "      <th>prod_name</th>\n",
       "      <th>prod_price</th>\n",
       "      <th>prod_desc</th>\n",
       "    </tr>\n",
       "  </thead>\n",
       "  <tbody>\n",
       "    <tr>\n",
       "      <th>0</th>\n",
       "      <td>BNBG01</td>\n",
       "      <td>DLL01</td>\n",
       "      <td>Fish bean bag toy</td>\n",
       "      <td>3.49</td>\n",
       "      <td>Fish bean bag toy, complete with bean bag worm...</td>\n",
       "    </tr>\n",
       "    <tr>\n",
       "      <th>1</th>\n",
       "      <td>BNBG02</td>\n",
       "      <td>DLL01</td>\n",
       "      <td>Bird bean bag toy</td>\n",
       "      <td>3.49</td>\n",
       "      <td>Bird bean bag toy, eggs are not included</td>\n",
       "    </tr>\n",
       "    <tr>\n",
       "      <th>2</th>\n",
       "      <td>BNBG03</td>\n",
       "      <td>DLL01</td>\n",
       "      <td>Rabbit bean bag toy</td>\n",
       "      <td>3.49</td>\n",
       "      <td>Rabbit bean bag toy, comes with bean bag carrots</td>\n",
       "    </tr>\n",
       "    <tr>\n",
       "      <th>3</th>\n",
       "      <td>BR01</td>\n",
       "      <td>BRS01</td>\n",
       "      <td>8 inch teddy bear</td>\n",
       "      <td>5.99</td>\n",
       "      <td>8 inch teddy bear, comes with cap and jacket</td>\n",
       "    </tr>\n",
       "    <tr>\n",
       "      <th>4</th>\n",
       "      <td>BR02</td>\n",
       "      <td>BRS01</td>\n",
       "      <td>12 inch teddy bear</td>\n",
       "      <td>8.99</td>\n",
       "      <td>12 inch teddy bear, comes with cap and jacket</td>\n",
       "    </tr>\n",
       "    <tr>\n",
       "      <th>5</th>\n",
       "      <td>BR03</td>\n",
       "      <td>BRS01</td>\n",
       "      <td>18 inch teddy bear</td>\n",
       "      <td>11.99</td>\n",
       "      <td>18 inch teddy bear, comes with cap and jacket</td>\n",
       "    </tr>\n",
       "    <tr>\n",
       "      <th>6</th>\n",
       "      <td>RGAN01</td>\n",
       "      <td>DLL01</td>\n",
       "      <td>Raggedy Ann</td>\n",
       "      <td>4.99</td>\n",
       "      <td>18 inch Raggedy Ann doll</td>\n",
       "    </tr>\n",
       "    <tr>\n",
       "      <th>7</th>\n",
       "      <td>RYL01</td>\n",
       "      <td>FNG01</td>\n",
       "      <td>King doll</td>\n",
       "      <td>9.49</td>\n",
       "      <td>12 inch king doll with royal garments and crown</td>\n",
       "    </tr>\n",
       "    <tr>\n",
       "      <th>8</th>\n",
       "      <td>RYL02</td>\n",
       "      <td>FNG01</td>\n",
       "      <td>Queen doll</td>\n",
       "      <td>9.49</td>\n",
       "      <td>12 inch queen doll with royal garments and crown</td>\n",
       "    </tr>\n",
       "  </tbody>\n",
       "</table>\n",
       "</div>"
      ],
      "text/plain": [
       "  prod_id vend_id            prod_name  prod_price  \\\n",
       "0  BNBG01   DLL01    Fish bean bag toy        3.49   \n",
       "1  BNBG02   DLL01    Bird bean bag toy        3.49   \n",
       "2  BNBG03   DLL01  Rabbit bean bag toy        3.49   \n",
       "3    BR01   BRS01    8 inch teddy bear        5.99   \n",
       "4    BR02   BRS01   12 inch teddy bear        8.99   \n",
       "5    BR03   BRS01   18 inch teddy bear       11.99   \n",
       "6  RGAN01   DLL01          Raggedy Ann        4.99   \n",
       "7   RYL01   FNG01            King doll        9.49   \n",
       "8   RYL02   FNG01           Queen doll        9.49   \n",
       "\n",
       "                                           prod_desc  \n",
       "0  Fish bean bag toy, complete with bean bag worm...  \n",
       "1           Bird bean bag toy, eggs are not included  \n",
       "2   Rabbit bean bag toy, comes with bean bag carrots  \n",
       "3       8 inch teddy bear, comes with cap and jacket  \n",
       "4      12 inch teddy bear, comes with cap and jacket  \n",
       "5      18 inch teddy bear, comes with cap and jacket  \n",
       "6                           18 inch Raggedy Ann doll  \n",
       "7    12 inch king doll with royal garments and crown  \n",
       "8   12 inch queen doll with royal garments and crown  "
      ]
     },
     "execution_count": 53,
     "metadata": {},
     "output_type": "execute_result"
    }
   ],
   "source": [
    "data=query(\"\"\"\n",
    "SELECT *\n",
    "FROM Products;\n",
    "\"\"\")\n",
    "data"
   ]
  },
  {
   "cell_type": "code",
   "execution_count": 54,
   "metadata": {
    "ExecuteTime": {
     "end_time": "2021-07-23T19:01:33.021146Z",
     "start_time": "2021-07-23T19:01:33.006135Z"
    }
   },
   "outputs": [
    {
     "data": {
      "text/html": [
       "<div>\n",
       "<style scoped>\n",
       "    .dataframe tbody tr th:only-of-type {\n",
       "        vertical-align: middle;\n",
       "    }\n",
       "\n",
       "    .dataframe tbody tr th {\n",
       "        vertical-align: top;\n",
       "    }\n",
       "\n",
       "    .dataframe thead th {\n",
       "        text-align: right;\n",
       "    }\n",
       "</style>\n",
       "<table border=\"1\" class=\"dataframe\">\n",
       "  <thead>\n",
       "    <tr style=\"text-align: right;\">\n",
       "      <th></th>\n",
       "      <th>vend_id</th>\n",
       "    </tr>\n",
       "  </thead>\n",
       "  <tbody>\n",
       "    <tr>\n",
       "      <th>0</th>\n",
       "      <td>BRS01</td>\n",
       "    </tr>\n",
       "    <tr>\n",
       "      <th>1</th>\n",
       "      <td>DLL01</td>\n",
       "    </tr>\n",
       "    <tr>\n",
       "      <th>2</th>\n",
       "      <td>FNG01</td>\n",
       "    </tr>\n",
       "  </tbody>\n",
       "</table>\n",
       "</div>"
      ],
      "text/plain": [
       "  vend_id\n",
       "0   BRS01\n",
       "1   DLL01\n",
       "2   FNG01"
      ]
     },
     "execution_count": 54,
     "metadata": {},
     "output_type": "execute_result"
    }
   ],
   "source": [
    "data=query(\"\"\"\n",
    "SELECT distinct vend_id\n",
    "FROM Products;\n",
    "\"\"\")\n",
    "data"
   ]
  },
  {
   "cell_type": "markdown",
   "metadata": {},
   "source": [
    "## Distinct row\n",
    "\n",
    "SELECT DISTINCT vend_id tells the DBMS to only return distinct (unique) vend_id\n",
    "rows, and so only three rows are returned, as seen in the following output. If\n",
    "used, the DISTINCT keyword must be placed directly in front of the column names \n",
    "### Caution: Can’t Be Partially DISTINCT\n",
    "The DISTINCT keyword applies to all columns, not just the one it precedes. If\n",
    "you were to specify SELECT DISTINCT vend_id, prod_price, six of the nine\n",
    "rows would be retrieved because the combined specified columns produced\n",
    "six unique combinations."
   ]
  },
  {
   "cell_type": "code",
   "execution_count": 55,
   "metadata": {
    "ExecuteTime": {
     "end_time": "2021-07-23T19:01:33.037137Z",
     "start_time": "2021-07-23T19:01:33.022165Z"
    }
   },
   "outputs": [
    {
     "data": {
      "text/html": [
       "<div>\n",
       "<style scoped>\n",
       "    .dataframe tbody tr th:only-of-type {\n",
       "        vertical-align: middle;\n",
       "    }\n",
       "\n",
       "    .dataframe tbody tr th {\n",
       "        vertical-align: top;\n",
       "    }\n",
       "\n",
       "    .dataframe thead th {\n",
       "        text-align: right;\n",
       "    }\n",
       "</style>\n",
       "<table border=\"1\" class=\"dataframe\">\n",
       "  <thead>\n",
       "    <tr style=\"text-align: right;\">\n",
       "      <th></th>\n",
       "      <th>vend_id</th>\n",
       "      <th>prod_price</th>\n",
       "    </tr>\n",
       "  </thead>\n",
       "  <tbody>\n",
       "    <tr>\n",
       "      <th>0</th>\n",
       "      <td>DLL01</td>\n",
       "      <td>3.49</td>\n",
       "    </tr>\n",
       "    <tr>\n",
       "      <th>1</th>\n",
       "      <td>DLL01</td>\n",
       "      <td>3.49</td>\n",
       "    </tr>\n",
       "    <tr>\n",
       "      <th>2</th>\n",
       "      <td>DLL01</td>\n",
       "      <td>3.49</td>\n",
       "    </tr>\n",
       "    <tr>\n",
       "      <th>3</th>\n",
       "      <td>BRS01</td>\n",
       "      <td>5.99</td>\n",
       "    </tr>\n",
       "    <tr>\n",
       "      <th>4</th>\n",
       "      <td>BRS01</td>\n",
       "      <td>8.99</td>\n",
       "    </tr>\n",
       "    <tr>\n",
       "      <th>5</th>\n",
       "      <td>BRS01</td>\n",
       "      <td>11.99</td>\n",
       "    </tr>\n",
       "    <tr>\n",
       "      <th>6</th>\n",
       "      <td>DLL01</td>\n",
       "      <td>4.99</td>\n",
       "    </tr>\n",
       "    <tr>\n",
       "      <th>7</th>\n",
       "      <td>FNG01</td>\n",
       "      <td>9.49</td>\n",
       "    </tr>\n",
       "    <tr>\n",
       "      <th>8</th>\n",
       "      <td>FNG01</td>\n",
       "      <td>9.49</td>\n",
       "    </tr>\n",
       "  </tbody>\n",
       "</table>\n",
       "</div>"
      ],
      "text/plain": [
       "  vend_id  prod_price\n",
       "0   DLL01        3.49\n",
       "1   DLL01        3.49\n",
       "2   DLL01        3.49\n",
       "3   BRS01        5.99\n",
       "4   BRS01        8.99\n",
       "5   BRS01       11.99\n",
       "6   DLL01        4.99\n",
       "7   FNG01        9.49\n",
       "8   FNG01        9.49"
      ]
     },
     "execution_count": 55,
     "metadata": {},
     "output_type": "execute_result"
    }
   ],
   "source": [
    "query(\"SELECT  vend_id, prod_price FROM Products;\")"
   ]
  },
  {
   "cell_type": "code",
   "execution_count": 56,
   "metadata": {
    "ExecuteTime": {
     "end_time": "2021-07-23T19:01:33.053168Z",
     "start_time": "2021-07-23T19:01:33.038168Z"
    }
   },
   "outputs": [
    {
     "data": {
      "text/html": [
       "<div>\n",
       "<style scoped>\n",
       "    .dataframe tbody tr th:only-of-type {\n",
       "        vertical-align: middle;\n",
       "    }\n",
       "\n",
       "    .dataframe tbody tr th {\n",
       "        vertical-align: top;\n",
       "    }\n",
       "\n",
       "    .dataframe thead th {\n",
       "        text-align: right;\n",
       "    }\n",
       "</style>\n",
       "<table border=\"1\" class=\"dataframe\">\n",
       "  <thead>\n",
       "    <tr style=\"text-align: right;\">\n",
       "      <th></th>\n",
       "      <th>vend_id</th>\n",
       "      <th>prod_price</th>\n",
       "    </tr>\n",
       "  </thead>\n",
       "  <tbody>\n",
       "    <tr>\n",
       "      <th>0</th>\n",
       "      <td>DLL01</td>\n",
       "      <td>3.49</td>\n",
       "    </tr>\n",
       "    <tr>\n",
       "      <th>1</th>\n",
       "      <td>BRS01</td>\n",
       "      <td>5.99</td>\n",
       "    </tr>\n",
       "    <tr>\n",
       "      <th>2</th>\n",
       "      <td>BRS01</td>\n",
       "      <td>8.99</td>\n",
       "    </tr>\n",
       "    <tr>\n",
       "      <th>3</th>\n",
       "      <td>BRS01</td>\n",
       "      <td>11.99</td>\n",
       "    </tr>\n",
       "    <tr>\n",
       "      <th>4</th>\n",
       "      <td>DLL01</td>\n",
       "      <td>4.99</td>\n",
       "    </tr>\n",
       "    <tr>\n",
       "      <th>5</th>\n",
       "      <td>FNG01</td>\n",
       "      <td>9.49</td>\n",
       "    </tr>\n",
       "  </tbody>\n",
       "</table>\n",
       "</div>"
      ],
      "text/plain": [
       "  vend_id  prod_price\n",
       "0   DLL01        3.49\n",
       "1   BRS01        5.99\n",
       "2   BRS01        8.99\n",
       "3   BRS01       11.99\n",
       "4   DLL01        4.99\n",
       "5   FNG01        9.49"
      ]
     },
     "execution_count": 56,
     "metadata": {},
     "output_type": "execute_result"
    }
   ],
   "source": [
    "query(\"SELECT DISTINCT vend_id, prod_price FROM Products;\")"
   ]
  },
  {
   "cell_type": "markdown",
   "metadata": {},
   "source": [
    "## Limiting Results\n",
    "The previous statement uses the SELECT statement to retrieve a single column.\n",
    "LIMIT 5 instructs the supported DBMSs to return no more than five rows. The\n",
    "output from this statement is shown in the following code."
   ]
  },
  {
   "cell_type": "code",
   "execution_count": 57,
   "metadata": {
    "ExecuteTime": {
     "end_time": "2021-07-23T19:01:33.068164Z",
     "start_time": "2021-07-23T19:01:33.054172Z"
    }
   },
   "outputs": [
    {
     "data": {
      "text/html": [
       "<div>\n",
       "<style scoped>\n",
       "    .dataframe tbody tr th:only-of-type {\n",
       "        vertical-align: middle;\n",
       "    }\n",
       "\n",
       "    .dataframe tbody tr th {\n",
       "        vertical-align: top;\n",
       "    }\n",
       "\n",
       "    .dataframe thead th {\n",
       "        text-align: right;\n",
       "    }\n",
       "</style>\n",
       "<table border=\"1\" class=\"dataframe\">\n",
       "  <thead>\n",
       "    <tr style=\"text-align: right;\">\n",
       "      <th></th>\n",
       "      <th>prod_name</th>\n",
       "    </tr>\n",
       "  </thead>\n",
       "  <tbody>\n",
       "    <tr>\n",
       "      <th>0</th>\n",
       "      <td>Fish bean bag toy</td>\n",
       "    </tr>\n",
       "    <tr>\n",
       "      <th>1</th>\n",
       "      <td>Bird bean bag toy</td>\n",
       "    </tr>\n",
       "    <tr>\n",
       "      <th>2</th>\n",
       "      <td>Rabbit bean bag toy</td>\n",
       "    </tr>\n",
       "    <tr>\n",
       "      <th>3</th>\n",
       "      <td>8 inch teddy bear</td>\n",
       "    </tr>\n",
       "    <tr>\n",
       "      <th>4</th>\n",
       "      <td>12 inch teddy bear</td>\n",
       "    </tr>\n",
       "    <tr>\n",
       "      <th>5</th>\n",
       "      <td>18 inch teddy bear</td>\n",
       "    </tr>\n",
       "    <tr>\n",
       "      <th>6</th>\n",
       "      <td>Raggedy Ann</td>\n",
       "    </tr>\n",
       "    <tr>\n",
       "      <th>7</th>\n",
       "      <td>King doll</td>\n",
       "    </tr>\n",
       "    <tr>\n",
       "      <th>8</th>\n",
       "      <td>Queen doll</td>\n",
       "    </tr>\n",
       "  </tbody>\n",
       "</table>\n",
       "</div>"
      ],
      "text/plain": [
       "             prod_name\n",
       "0    Fish bean bag toy\n",
       "1    Bird bean bag toy\n",
       "2  Rabbit bean bag toy\n",
       "3    8 inch teddy bear\n",
       "4   12 inch teddy bear\n",
       "5   18 inch teddy bear\n",
       "6          Raggedy Ann\n",
       "7            King doll\n",
       "8           Queen doll"
      ]
     },
     "execution_count": 57,
     "metadata": {},
     "output_type": "execute_result"
    }
   ],
   "source": [
    "query('''SELECT prod_name\n",
    "FROM Products\n",
    "''')"
   ]
  },
  {
   "cell_type": "code",
   "execution_count": 58,
   "metadata": {
    "ExecuteTime": {
     "end_time": "2021-07-23T19:01:33.083165Z",
     "start_time": "2021-07-23T19:01:33.070139Z"
    }
   },
   "outputs": [
    {
     "data": {
      "text/html": [
       "<div>\n",
       "<style scoped>\n",
       "    .dataframe tbody tr th:only-of-type {\n",
       "        vertical-align: middle;\n",
       "    }\n",
       "\n",
       "    .dataframe tbody tr th {\n",
       "        vertical-align: top;\n",
       "    }\n",
       "\n",
       "    .dataframe thead th {\n",
       "        text-align: right;\n",
       "    }\n",
       "</style>\n",
       "<table border=\"1\" class=\"dataframe\">\n",
       "  <thead>\n",
       "    <tr style=\"text-align: right;\">\n",
       "      <th></th>\n",
       "      <th>prod_name</th>\n",
       "    </tr>\n",
       "  </thead>\n",
       "  <tbody>\n",
       "    <tr>\n",
       "      <th>0</th>\n",
       "      <td>Fish bean bag toy</td>\n",
       "    </tr>\n",
       "    <tr>\n",
       "      <th>1</th>\n",
       "      <td>Bird bean bag toy</td>\n",
       "    </tr>\n",
       "    <tr>\n",
       "      <th>2</th>\n",
       "      <td>Rabbit bean bag toy</td>\n",
       "    </tr>\n",
       "    <tr>\n",
       "      <th>3</th>\n",
       "      <td>8 inch teddy bear</td>\n",
       "    </tr>\n",
       "    <tr>\n",
       "      <th>4</th>\n",
       "      <td>12 inch teddy bear</td>\n",
       "    </tr>\n",
       "  </tbody>\n",
       "</table>\n",
       "</div>"
      ],
      "text/plain": [
       "             prod_name\n",
       "0    Fish bean bag toy\n",
       "1    Bird bean bag toy\n",
       "2  Rabbit bean bag toy\n",
       "3    8 inch teddy bear\n",
       "4   12 inch teddy bear"
      ]
     },
     "execution_count": 58,
     "metadata": {},
     "output_type": "execute_result"
    }
   ],
   "source": [
    "query('''SELECT prod_name\n",
    "FROM Products\n",
    "LIMIT 5 ''')"
   ]
  },
  {
   "cell_type": "markdown",
   "metadata": {},
   "source": [
    "## OFFSET 5 \n",
    "LIMIT 5 OFFSET 5 instructs supported DBMSs to return five rows starting from\n",
    "row 5. The first number is the number of rows to retrieve, and the second is\n",
    "where to start."
   ]
  },
  {
   "cell_type": "code",
   "execution_count": 59,
   "metadata": {
    "ExecuteTime": {
     "end_time": "2021-07-23T19:01:33.099164Z",
     "start_time": "2021-07-23T19:01:33.084137Z"
    }
   },
   "outputs": [
    {
     "data": {
      "text/html": [
       "<div>\n",
       "<style scoped>\n",
       "    .dataframe tbody tr th:only-of-type {\n",
       "        vertical-align: middle;\n",
       "    }\n",
       "\n",
       "    .dataframe tbody tr th {\n",
       "        vertical-align: top;\n",
       "    }\n",
       "\n",
       "    .dataframe thead th {\n",
       "        text-align: right;\n",
       "    }\n",
       "</style>\n",
       "<table border=\"1\" class=\"dataframe\">\n",
       "  <thead>\n",
       "    <tr style=\"text-align: right;\">\n",
       "      <th></th>\n",
       "      <th>prod_name</th>\n",
       "    </tr>\n",
       "  </thead>\n",
       "  <tbody>\n",
       "    <tr>\n",
       "      <th>0</th>\n",
       "      <td>18 inch teddy bear</td>\n",
       "    </tr>\n",
       "    <tr>\n",
       "      <th>1</th>\n",
       "      <td>Raggedy Ann</td>\n",
       "    </tr>\n",
       "    <tr>\n",
       "      <th>2</th>\n",
       "      <td>King doll</td>\n",
       "    </tr>\n",
       "    <tr>\n",
       "      <th>3</th>\n",
       "      <td>Queen doll</td>\n",
       "    </tr>\n",
       "  </tbody>\n",
       "</table>\n",
       "</div>"
      ],
      "text/plain": [
       "            prod_name\n",
       "0  18 inch teddy bear\n",
       "1         Raggedy Ann\n",
       "2           King doll\n",
       "3          Queen doll"
      ]
     },
     "execution_count": 59,
     "metadata": {},
     "output_type": "execute_result"
    }
   ],
   "source": [
    "query('''SELECT prod_name\n",
    "FROM Products\n",
    "LIMIT 5 OFFSET 5;''')"
   ]
  },
  {
   "cell_type": "markdown",
   "metadata": {},
   "source": [
    "### Caution: Row 0\n",
    "The first row retrieved is row 0, not row 1. As such, LIMIT 1 OFFSET 1 will\n",
    "retrieve the second row, not the first one."
   ]
  },
  {
   "cell_type": "code",
   "execution_count": 60,
   "metadata": {
    "ExecuteTime": {
     "end_time": "2021-07-23T19:01:33.115164Z",
     "start_time": "2021-07-23T19:01:33.100172Z"
    }
   },
   "outputs": [
    {
     "data": {
      "text/html": [
       "<div>\n",
       "<style scoped>\n",
       "    .dataframe tbody tr th:only-of-type {\n",
       "        vertical-align: middle;\n",
       "    }\n",
       "\n",
       "    .dataframe tbody tr th {\n",
       "        vertical-align: top;\n",
       "    }\n",
       "\n",
       "    .dataframe thead th {\n",
       "        text-align: right;\n",
       "    }\n",
       "</style>\n",
       "<table border=\"1\" class=\"dataframe\">\n",
       "  <thead>\n",
       "    <tr style=\"text-align: right;\">\n",
       "      <th></th>\n",
       "      <th>prod_name</th>\n",
       "    </tr>\n",
       "  </thead>\n",
       "  <tbody>\n",
       "  </tbody>\n",
       "</table>\n",
       "</div>"
      ],
      "text/plain": [
       "Empty DataFrame\n",
       "Columns: [prod_name]\n",
       "Index: []"
      ]
     },
     "execution_count": 60,
     "metadata": {},
     "output_type": "execute_result"
    }
   ],
   "source": [
    "query('''SELECT prod_name\n",
    "FROM Products\n",
    "LIMIT 0 OFFSET 0;''')"
   ]
  },
  {
   "cell_type": "code",
   "execution_count": 61,
   "metadata": {
    "ExecuteTime": {
     "end_time": "2021-07-23T19:01:33.131142Z",
     "start_time": "2021-07-23T19:01:33.116182Z"
    }
   },
   "outputs": [
    {
     "data": {
      "text/html": [
       "<div>\n",
       "<style scoped>\n",
       "    .dataframe tbody tr th:only-of-type {\n",
       "        vertical-align: middle;\n",
       "    }\n",
       "\n",
       "    .dataframe tbody tr th {\n",
       "        vertical-align: top;\n",
       "    }\n",
       "\n",
       "    .dataframe thead th {\n",
       "        text-align: right;\n",
       "    }\n",
       "</style>\n",
       "<table border=\"1\" class=\"dataframe\">\n",
       "  <thead>\n",
       "    <tr style=\"text-align: right;\">\n",
       "      <th></th>\n",
       "      <th>prod_name</th>\n",
       "    </tr>\n",
       "  </thead>\n",
       "  <tbody>\n",
       "    <tr>\n",
       "      <th>0</th>\n",
       "      <td>Bird bean bag toy</td>\n",
       "    </tr>\n",
       "  </tbody>\n",
       "</table>\n",
       "</div>"
      ],
      "text/plain": [
       "           prod_name\n",
       "0  Bird bean bag toy"
      ]
     },
     "execution_count": 61,
     "metadata": {},
     "output_type": "execute_result"
    }
   ],
   "source": [
    "query('''SELECT prod_name\n",
    "FROM Products\n",
    "LIMIT 1 OFFSET 1;''')"
   ]
  },
  {
   "cell_type": "markdown",
   "metadata": {},
   "source": [
    "## Challenges\n",
    "1. Write a SQL statement to retrieve all customer IDs (cust_id) from the Customers table."
   ]
  },
  {
   "cell_type": "code",
   "execution_count": 62,
   "metadata": {
    "ExecuteTime": {
     "end_time": "2021-07-23T19:01:33.147169Z",
     "start_time": "2021-07-23T19:01:33.132170Z"
    }
   },
   "outputs": [
    {
     "data": {
      "text/html": [
       "<div>\n",
       "<style scoped>\n",
       "    .dataframe tbody tr th:only-of-type {\n",
       "        vertical-align: middle;\n",
       "    }\n",
       "\n",
       "    .dataframe tbody tr th {\n",
       "        vertical-align: top;\n",
       "    }\n",
       "\n",
       "    .dataframe thead th {\n",
       "        text-align: right;\n",
       "    }\n",
       "</style>\n",
       "<table border=\"1\" class=\"dataframe\">\n",
       "  <thead>\n",
       "    <tr style=\"text-align: right;\">\n",
       "      <th></th>\n",
       "      <th>cust_id</th>\n",
       "    </tr>\n",
       "  </thead>\n",
       "  <tbody>\n",
       "    <tr>\n",
       "      <th>0</th>\n",
       "      <td>1000000001</td>\n",
       "    </tr>\n",
       "    <tr>\n",
       "      <th>1</th>\n",
       "      <td>1000000002</td>\n",
       "    </tr>\n",
       "    <tr>\n",
       "      <th>2</th>\n",
       "      <td>1000000003</td>\n",
       "    </tr>\n",
       "    <tr>\n",
       "      <th>3</th>\n",
       "      <td>1000000004</td>\n",
       "    </tr>\n",
       "    <tr>\n",
       "      <th>4</th>\n",
       "      <td>1000000005</td>\n",
       "    </tr>\n",
       "  </tbody>\n",
       "</table>\n",
       "</div>"
      ],
      "text/plain": [
       "      cust_id\n",
       "0  1000000001\n",
       "1  1000000002\n",
       "2  1000000003\n",
       "3  1000000004\n",
       "4  1000000005"
      ]
     },
     "execution_count": 62,
     "metadata": {},
     "output_type": "execute_result"
    }
   ],
   "source": [
    "query('''SELECT cust_id\n",
    "FROM Customers;''')"
   ]
  },
  {
   "cell_type": "markdown",
   "metadata": {},
   "source": [
    "2. The OrderItems table contains every item ordered (and some were ordered multiple times). Write a SQL statement to retrieve a list of the products (prod_id) ordered (not every order, just a unique list of products). Here’s a\n",
    "hint: you should end up with seven unique rows displayed."
   ]
  },
  {
   "cell_type": "code",
   "execution_count": 63,
   "metadata": {
    "ExecuteTime": {
     "end_time": "2021-07-23T19:01:33.163165Z",
     "start_time": "2021-07-23T19:01:33.148176Z"
    }
   },
   "outputs": [
    {
     "data": {
      "text/html": [
       "<div>\n",
       "<style scoped>\n",
       "    .dataframe tbody tr th:only-of-type {\n",
       "        vertical-align: middle;\n",
       "    }\n",
       "\n",
       "    .dataframe tbody tr th {\n",
       "        vertical-align: top;\n",
       "    }\n",
       "\n",
       "    .dataframe thead th {\n",
       "        text-align: right;\n",
       "    }\n",
       "</style>\n",
       "<table border=\"1\" class=\"dataframe\">\n",
       "  <thead>\n",
       "    <tr style=\"text-align: right;\">\n",
       "      <th></th>\n",
       "      <th>prod_id</th>\n",
       "    </tr>\n",
       "  </thead>\n",
       "  <tbody>\n",
       "    <tr>\n",
       "      <th>0</th>\n",
       "      <td>BNBG01</td>\n",
       "    </tr>\n",
       "    <tr>\n",
       "      <th>1</th>\n",
       "      <td>BNBG02</td>\n",
       "    </tr>\n",
       "    <tr>\n",
       "      <th>2</th>\n",
       "      <td>BNBG03</td>\n",
       "    </tr>\n",
       "    <tr>\n",
       "      <th>3</th>\n",
       "      <td>BR01</td>\n",
       "    </tr>\n",
       "    <tr>\n",
       "      <th>4</th>\n",
       "      <td>BR02</td>\n",
       "    </tr>\n",
       "    <tr>\n",
       "      <th>5</th>\n",
       "      <td>BR03</td>\n",
       "    </tr>\n",
       "    <tr>\n",
       "      <th>6</th>\n",
       "      <td>RGAN01</td>\n",
       "    </tr>\n",
       "  </tbody>\n",
       "</table>\n",
       "</div>"
      ],
      "text/plain": [
       "  prod_id\n",
       "0  BNBG01\n",
       "1  BNBG02\n",
       "2  BNBG03\n",
       "3    BR01\n",
       "4    BR02\n",
       "5    BR03\n",
       "6  RGAN01"
      ]
     },
     "execution_count": 63,
     "metadata": {},
     "output_type": "execute_result"
    }
   ],
   "source": [
    "query('''SELECT distinct prod_id\n",
    "FROM OrderItems;''')"
   ]
  },
  {
   "cell_type": "markdown",
   "metadata": {},
   "source": [
    "3. Write a SQL statement that retrieves all columns from the Customers table and an alternate SELECT that retrieves just the customer ID. Use comments to comment out one SELECT so as to be able to run the other. (And, of course, test both statements.)"
   ]
  },
  {
   "cell_type": "code",
   "execution_count": 64,
   "metadata": {
    "ExecuteTime": {
     "end_time": "2021-07-23T19:01:33.178164Z",
     "start_time": "2021-07-23T19:01:33.164166Z"
    }
   },
   "outputs": [
    {
     "data": {
      "text/html": [
       "<div>\n",
       "<style scoped>\n",
       "    .dataframe tbody tr th:only-of-type {\n",
       "        vertical-align: middle;\n",
       "    }\n",
       "\n",
       "    .dataframe tbody tr th {\n",
       "        vertical-align: top;\n",
       "    }\n",
       "\n",
       "    .dataframe thead th {\n",
       "        text-align: right;\n",
       "    }\n",
       "</style>\n",
       "<table border=\"1\" class=\"dataframe\">\n",
       "  <thead>\n",
       "    <tr style=\"text-align: right;\">\n",
       "      <th></th>\n",
       "      <th>cust_id</th>\n",
       "    </tr>\n",
       "  </thead>\n",
       "  <tbody>\n",
       "    <tr>\n",
       "      <th>0</th>\n",
       "      <td>1000000001</td>\n",
       "    </tr>\n",
       "    <tr>\n",
       "      <th>1</th>\n",
       "      <td>1000000002</td>\n",
       "    </tr>\n",
       "    <tr>\n",
       "      <th>2</th>\n",
       "      <td>1000000003</td>\n",
       "    </tr>\n",
       "    <tr>\n",
       "      <th>3</th>\n",
       "      <td>1000000004</td>\n",
       "    </tr>\n",
       "    <tr>\n",
       "      <th>4</th>\n",
       "      <td>1000000005</td>\n",
       "    </tr>\n",
       "  </tbody>\n",
       "</table>\n",
       "</div>"
      ],
      "text/plain": [
       "      cust_id\n",
       "0  1000000001\n",
       "1  1000000002\n",
       "2  1000000003\n",
       "3  1000000004\n",
       "4  1000000005"
      ]
     },
     "execution_count": 64,
     "metadata": {},
     "output_type": "execute_result"
    }
   ],
   "source": [
    "query('''\n",
    "SELECT cust_id \n",
    "FROM Customers;\n",
    "\n",
    "''')"
   ]
  },
  {
   "cell_type": "code",
   "execution_count": 65,
   "metadata": {
    "ExecuteTime": {
     "end_time": "2021-07-23T19:01:33.193173Z",
     "start_time": "2021-07-23T19:01:33.179165Z"
    }
   },
   "outputs": [
    {
     "data": {
      "text/html": [
       "<div>\n",
       "<style scoped>\n",
       "    .dataframe tbody tr th:only-of-type {\n",
       "        vertical-align: middle;\n",
       "    }\n",
       "\n",
       "    .dataframe tbody tr th {\n",
       "        vertical-align: top;\n",
       "    }\n",
       "\n",
       "    .dataframe thead th {\n",
       "        text-align: right;\n",
       "    }\n",
       "</style>\n",
       "<table border=\"1\" class=\"dataframe\">\n",
       "  <thead>\n",
       "    <tr style=\"text-align: right;\">\n",
       "      <th></th>\n",
       "      <th>cust_id</th>\n",
       "      <th>cust_name</th>\n",
       "      <th>cust_address</th>\n",
       "      <th>cust_city</th>\n",
       "      <th>cust_state</th>\n",
       "      <th>cust_zip</th>\n",
       "      <th>cust_country</th>\n",
       "      <th>cust_contact</th>\n",
       "      <th>cust_email</th>\n",
       "    </tr>\n",
       "  </thead>\n",
       "  <tbody>\n",
       "    <tr>\n",
       "      <th>0</th>\n",
       "      <td>1000000001</td>\n",
       "      <td>Village Toys</td>\n",
       "      <td>200 Maple Lane</td>\n",
       "      <td>Detroit</td>\n",
       "      <td>MI</td>\n",
       "      <td>44444</td>\n",
       "      <td>USA</td>\n",
       "      <td>John Smith</td>\n",
       "      <td>sales@villagetoys.com</td>\n",
       "    </tr>\n",
       "    <tr>\n",
       "      <th>1</th>\n",
       "      <td>1000000002</td>\n",
       "      <td>Kids Place</td>\n",
       "      <td>333 South Lake Drive</td>\n",
       "      <td>Columbus</td>\n",
       "      <td>OH</td>\n",
       "      <td>43333</td>\n",
       "      <td>USA</td>\n",
       "      <td>Michelle Green</td>\n",
       "      <td>None</td>\n",
       "    </tr>\n",
       "    <tr>\n",
       "      <th>2</th>\n",
       "      <td>1000000003</td>\n",
       "      <td>Fun4All</td>\n",
       "      <td>1 Sunny Place</td>\n",
       "      <td>Muncie</td>\n",
       "      <td>IN</td>\n",
       "      <td>42222</td>\n",
       "      <td>USA</td>\n",
       "      <td>Jim Jones</td>\n",
       "      <td>jjones@fun4all.com</td>\n",
       "    </tr>\n",
       "    <tr>\n",
       "      <th>3</th>\n",
       "      <td>1000000004</td>\n",
       "      <td>Fun4All</td>\n",
       "      <td>829 Riverside Drive</td>\n",
       "      <td>Phoenix</td>\n",
       "      <td>AZ</td>\n",
       "      <td>88888</td>\n",
       "      <td>USA</td>\n",
       "      <td>Denise L. Stephens</td>\n",
       "      <td>dstephens@fun4all.com</td>\n",
       "    </tr>\n",
       "    <tr>\n",
       "      <th>4</th>\n",
       "      <td>1000000005</td>\n",
       "      <td>The Toy Store</td>\n",
       "      <td>4545 53rd Street</td>\n",
       "      <td>Chicago</td>\n",
       "      <td>IL</td>\n",
       "      <td>54545</td>\n",
       "      <td>USA</td>\n",
       "      <td>Kim Howard</td>\n",
       "      <td>None</td>\n",
       "    </tr>\n",
       "  </tbody>\n",
       "</table>\n",
       "</div>"
      ],
      "text/plain": [
       "      cust_id      cust_name          cust_address cust_city cust_state  \\\n",
       "0  1000000001   Village Toys        200 Maple Lane   Detroit         MI   \n",
       "1  1000000002     Kids Place  333 South Lake Drive  Columbus         OH   \n",
       "2  1000000003        Fun4All         1 Sunny Place    Muncie         IN   \n",
       "3  1000000004        Fun4All   829 Riverside Drive   Phoenix         AZ   \n",
       "4  1000000005  The Toy Store      4545 53rd Street   Chicago         IL   \n",
       "\n",
       "  cust_zip cust_country        cust_contact             cust_email  \n",
       "0    44444          USA          John Smith  sales@villagetoys.com  \n",
       "1    43333          USA      Michelle Green                   None  \n",
       "2    42222          USA           Jim Jones     jjones@fun4all.com  \n",
       "3    88888          USA  Denise L. Stephens  dstephens@fun4all.com  \n",
       "4    54545          USA          Kim Howard                   None  "
      ]
     },
     "execution_count": 65,
     "metadata": {},
     "output_type": "execute_result"
    }
   ],
   "source": [
    "query('''\n",
    "SELECT *\n",
    "# SELECT cust_id \n",
    "FROM Customers;\n",
    "\n",
    "''')"
   ]
  },
  {
   "cell_type": "markdown",
   "metadata": {},
   "source": [
    "# Sorting Retrieved Data\n",
    "##  Clause\n",
    "`SQL statements are made up of clauses, some required and some optional. A\n",
    "clause usually consists of a keyword and supplied data. An example of this is\n",
    "the SELECT statement’s FROM clause, which you saw in the last lesson.`\n"
   ]
  },
  {
   "cell_type": "code",
   "execution_count": 66,
   "metadata": {
    "ExecuteTime": {
     "end_time": "2021-07-23T19:01:33.209149Z",
     "start_time": "2021-07-23T19:01:33.194156Z"
    }
   },
   "outputs": [
    {
     "data": {
      "text/html": [
       "<div>\n",
       "<style scoped>\n",
       "    .dataframe tbody tr th:only-of-type {\n",
       "        vertical-align: middle;\n",
       "    }\n",
       "\n",
       "    .dataframe tbody tr th {\n",
       "        vertical-align: top;\n",
       "    }\n",
       "\n",
       "    .dataframe thead th {\n",
       "        text-align: right;\n",
       "    }\n",
       "</style>\n",
       "<table border=\"1\" class=\"dataframe\">\n",
       "  <thead>\n",
       "    <tr style=\"text-align: right;\">\n",
       "      <th></th>\n",
       "      <th>prod_name</th>\n",
       "    </tr>\n",
       "  </thead>\n",
       "  <tbody>\n",
       "    <tr>\n",
       "      <th>0</th>\n",
       "      <td>12 inch teddy bear</td>\n",
       "    </tr>\n",
       "    <tr>\n",
       "      <th>1</th>\n",
       "      <td>18 inch teddy bear</td>\n",
       "    </tr>\n",
       "    <tr>\n",
       "      <th>2</th>\n",
       "      <td>8 inch teddy bear</td>\n",
       "    </tr>\n",
       "    <tr>\n",
       "      <th>3</th>\n",
       "      <td>Bird bean bag toy</td>\n",
       "    </tr>\n",
       "    <tr>\n",
       "      <th>4</th>\n",
       "      <td>Fish bean bag toy</td>\n",
       "    </tr>\n",
       "    <tr>\n",
       "      <th>5</th>\n",
       "      <td>King doll</td>\n",
       "    </tr>\n",
       "    <tr>\n",
       "      <th>6</th>\n",
       "      <td>Queen doll</td>\n",
       "    </tr>\n",
       "    <tr>\n",
       "      <th>7</th>\n",
       "      <td>Rabbit bean bag toy</td>\n",
       "    </tr>\n",
       "    <tr>\n",
       "      <th>8</th>\n",
       "      <td>Raggedy Ann</td>\n",
       "    </tr>\n",
       "  </tbody>\n",
       "</table>\n",
       "</div>"
      ],
      "text/plain": [
       "             prod_name\n",
       "0   12 inch teddy bear\n",
       "1   18 inch teddy bear\n",
       "2    8 inch teddy bear\n",
       "3    Bird bean bag toy\n",
       "4    Fish bean bag toy\n",
       "5            King doll\n",
       "6           Queen doll\n",
       "7  Rabbit bean bag toy\n",
       "8          Raggedy Ann"
      ]
     },
     "execution_count": 66,
     "metadata": {},
     "output_type": "execute_result"
    }
   ],
   "source": [
    "query('''\n",
    "SELECT prod_name\n",
    "FROM Products\n",
    "ORDER BY prod_name;\n",
    "''')"
   ]
  },
  {
   "cell_type": "markdown",
   "metadata": {},
   "source": [
    "### Caution: Position of ORDER BY Clause\n",
    "When specifying an ORDER BY clause, be sure that it is the last clause in your\n",
    "SELECT statement. If it is not the last clause, an error will be generated.\n",
    "\n",
    "## Specifying Sort Direction\n",
    "Data sorting is not limited to **`ascending sort orders`** (from A to Z). Although this is\n",
    "the **`default`** sort order, the ORDER BY clause can also be used to sort in descending\n",
    "order (from Z to A). To sort by descending order, you must specify the keyword\n",
    "**`DESC`**.\n",
    "\n",
    "\n",
    "## Sorting by Multiple Columns"
   ]
  },
  {
   "cell_type": "code",
   "execution_count": 67,
   "metadata": {
    "ExecuteTime": {
     "end_time": "2021-07-23T19:01:33.225178Z",
     "start_time": "2021-07-23T19:01:33.210176Z"
    }
   },
   "outputs": [
    {
     "data": {
      "text/html": [
       "<div>\n",
       "<style scoped>\n",
       "    .dataframe tbody tr th:only-of-type {\n",
       "        vertical-align: middle;\n",
       "    }\n",
       "\n",
       "    .dataframe tbody tr th {\n",
       "        vertical-align: top;\n",
       "    }\n",
       "\n",
       "    .dataframe thead th {\n",
       "        text-align: right;\n",
       "    }\n",
       "</style>\n",
       "<table border=\"1\" class=\"dataframe\">\n",
       "  <thead>\n",
       "    <tr style=\"text-align: right;\">\n",
       "      <th></th>\n",
       "      <th>prod_id</th>\n",
       "      <th>prod_price</th>\n",
       "      <th>prod_name</th>\n",
       "    </tr>\n",
       "  </thead>\n",
       "  <tbody>\n",
       "    <tr>\n",
       "      <th>0</th>\n",
       "      <td>BR03</td>\n",
       "      <td>11.99</td>\n",
       "      <td>18 inch teddy bear</td>\n",
       "    </tr>\n",
       "    <tr>\n",
       "      <th>1</th>\n",
       "      <td>RYL01</td>\n",
       "      <td>9.49</td>\n",
       "      <td>King doll</td>\n",
       "    </tr>\n",
       "    <tr>\n",
       "      <th>2</th>\n",
       "      <td>RYL02</td>\n",
       "      <td>9.49</td>\n",
       "      <td>Queen doll</td>\n",
       "    </tr>\n",
       "    <tr>\n",
       "      <th>3</th>\n",
       "      <td>BR02</td>\n",
       "      <td>8.99</td>\n",
       "      <td>12 inch teddy bear</td>\n",
       "    </tr>\n",
       "    <tr>\n",
       "      <th>4</th>\n",
       "      <td>BR01</td>\n",
       "      <td>5.99</td>\n",
       "      <td>8 inch teddy bear</td>\n",
       "    </tr>\n",
       "    <tr>\n",
       "      <th>5</th>\n",
       "      <td>RGAN01</td>\n",
       "      <td>4.99</td>\n",
       "      <td>Raggedy Ann</td>\n",
       "    </tr>\n",
       "    <tr>\n",
       "      <th>6</th>\n",
       "      <td>BNBG02</td>\n",
       "      <td>3.49</td>\n",
       "      <td>Bird bean bag toy</td>\n",
       "    </tr>\n",
       "    <tr>\n",
       "      <th>7</th>\n",
       "      <td>BNBG01</td>\n",
       "      <td>3.49</td>\n",
       "      <td>Fish bean bag toy</td>\n",
       "    </tr>\n",
       "    <tr>\n",
       "      <th>8</th>\n",
       "      <td>BNBG03</td>\n",
       "      <td>3.49</td>\n",
       "      <td>Rabbit bean bag toy</td>\n",
       "    </tr>\n",
       "  </tbody>\n",
       "</table>\n",
       "</div>"
      ],
      "text/plain": [
       "  prod_id  prod_price            prod_name\n",
       "0    BR03       11.99   18 inch teddy bear\n",
       "1   RYL01        9.49            King doll\n",
       "2   RYL02        9.49           Queen doll\n",
       "3    BR02        8.99   12 inch teddy bear\n",
       "4    BR01        5.99    8 inch teddy bear\n",
       "5  RGAN01        4.99          Raggedy Ann\n",
       "6  BNBG02        3.49    Bird bean bag toy\n",
       "7  BNBG01        3.49    Fish bean bag toy\n",
       "8  BNBG03        3.49  Rabbit bean bag toy"
      ]
     },
     "execution_count": 67,
     "metadata": {},
     "output_type": "execute_result"
    }
   ],
   "source": [
    "query('''\n",
    "SELECT prod_id, prod_price, prod_name\n",
    "FROM Products\n",
    "ORDER BY prod_price desc, prod_name ;\n",
    "\n",
    "''')"
   ]
  },
  {
   "cell_type": "markdown",
   "metadata": {},
   "source": [
    "## Sorting by Column Position\n",
    "In addition to being able to specify sort order using column names, ORDER BY\n",
    "also supports ordering specified by relative column position. The best way to\n",
    "understand this is to look at an example:"
   ]
  },
  {
   "cell_type": "code",
   "execution_count": 68,
   "metadata": {
    "ExecuteTime": {
     "end_time": "2021-07-23T19:01:33.241137Z",
     "start_time": "2021-07-23T19:01:33.226138Z"
    }
   },
   "outputs": [
    {
     "data": {
      "text/html": [
       "<div>\n",
       "<style scoped>\n",
       "    .dataframe tbody tr th:only-of-type {\n",
       "        vertical-align: middle;\n",
       "    }\n",
       "\n",
       "    .dataframe tbody tr th {\n",
       "        vertical-align: top;\n",
       "    }\n",
       "\n",
       "    .dataframe thead th {\n",
       "        text-align: right;\n",
       "    }\n",
       "</style>\n",
       "<table border=\"1\" class=\"dataframe\">\n",
       "  <thead>\n",
       "    <tr style=\"text-align: right;\">\n",
       "      <th></th>\n",
       "      <th>prod_id</th>\n",
       "      <th>prod_price</th>\n",
       "      <th>prod_name</th>\n",
       "    </tr>\n",
       "  </thead>\n",
       "  <tbody>\n",
       "    <tr>\n",
       "      <th>0</th>\n",
       "      <td>BR03</td>\n",
       "      <td>11.99</td>\n",
       "      <td>18 inch teddy bear</td>\n",
       "    </tr>\n",
       "    <tr>\n",
       "      <th>1</th>\n",
       "      <td>RYL01</td>\n",
       "      <td>9.49</td>\n",
       "      <td>King doll</td>\n",
       "    </tr>\n",
       "    <tr>\n",
       "      <th>2</th>\n",
       "      <td>RYL02</td>\n",
       "      <td>9.49</td>\n",
       "      <td>Queen doll</td>\n",
       "    </tr>\n",
       "    <tr>\n",
       "      <th>3</th>\n",
       "      <td>BR02</td>\n",
       "      <td>8.99</td>\n",
       "      <td>12 inch teddy bear</td>\n",
       "    </tr>\n",
       "    <tr>\n",
       "      <th>4</th>\n",
       "      <td>BR01</td>\n",
       "      <td>5.99</td>\n",
       "      <td>8 inch teddy bear</td>\n",
       "    </tr>\n",
       "    <tr>\n",
       "      <th>5</th>\n",
       "      <td>RGAN01</td>\n",
       "      <td>4.99</td>\n",
       "      <td>Raggedy Ann</td>\n",
       "    </tr>\n",
       "    <tr>\n",
       "      <th>6</th>\n",
       "      <td>BNBG02</td>\n",
       "      <td>3.49</td>\n",
       "      <td>Bird bean bag toy</td>\n",
       "    </tr>\n",
       "    <tr>\n",
       "      <th>7</th>\n",
       "      <td>BNBG01</td>\n",
       "      <td>3.49</td>\n",
       "      <td>Fish bean bag toy</td>\n",
       "    </tr>\n",
       "    <tr>\n",
       "      <th>8</th>\n",
       "      <td>BNBG03</td>\n",
       "      <td>3.49</td>\n",
       "      <td>Rabbit bean bag toy</td>\n",
       "    </tr>\n",
       "  </tbody>\n",
       "</table>\n",
       "</div>"
      ],
      "text/plain": [
       "  prod_id  prod_price            prod_name\n",
       "0    BR03       11.99   18 inch teddy bear\n",
       "1   RYL01        9.49            King doll\n",
       "2   RYL02        9.49           Queen doll\n",
       "3    BR02        8.99   12 inch teddy bear\n",
       "4    BR01        5.99    8 inch teddy bear\n",
       "5  RGAN01        4.99          Raggedy Ann\n",
       "6  BNBG02        3.49    Bird bean bag toy\n",
       "7  BNBG01        3.49    Fish bean bag toy\n",
       "8  BNBG03        3.49  Rabbit bean bag toy"
      ]
     },
     "execution_count": 68,
     "metadata": {},
     "output_type": "execute_result"
    }
   ],
   "source": [
    "query('''\n",
    "SELECT prod_id, prod_price, prod_name\n",
    "FROM Products\n",
    "ORDER BY 2 desc, 3 ;\n",
    "\n",
    "''')"
   ]
  },
  {
   "cell_type": "markdown",
   "metadata": {},
   "source": [
    "###  Case Sensitivity and Sort Orders\n",
    "\n",
    "When you are sorting textual data, is`A` the same as `a`? And does `a` come\n",
    "before `B` or after `Z`? These are not theoretical questions, and the answers\n",
    "depend on how the database is set up.\n",
    "\n",
    "\n",
    "In dictionary sort order, A is treated the same as a, and that is the default\n",
    "behavior for most DBMSs. However, most good DBMSs enable database\n",
    "administrators to change this behavior if needed. (If your database contains\n",
    "lots of foreign language characters, this might become necessary.)\n",
    "\n",
    "\n",
    "The key here is that, if you do need an alternate sort order, you may not be\n",
    "able to accomplish this with a simple ORDER BY clause. "
   ]
  },
  {
   "cell_type": "markdown",
   "metadata": {},
   "source": [
    "Write a SQL statement to retrieve all customer names (cust_names) from the\n",
    "Customers table, and display the results sorted from Z to A"
   ]
  },
  {
   "cell_type": "code",
   "execution_count": 69,
   "metadata": {
    "ExecuteTime": {
     "end_time": "2021-07-23T19:01:33.257139Z",
     "start_time": "2021-07-23T19:01:33.242165Z"
    }
   },
   "outputs": [
    {
     "data": {
      "text/html": [
       "<div>\n",
       "<style scoped>\n",
       "    .dataframe tbody tr th:only-of-type {\n",
       "        vertical-align: middle;\n",
       "    }\n",
       "\n",
       "    .dataframe tbody tr th {\n",
       "        vertical-align: top;\n",
       "    }\n",
       "\n",
       "    .dataframe thead th {\n",
       "        text-align: right;\n",
       "    }\n",
       "</style>\n",
       "<table border=\"1\" class=\"dataframe\">\n",
       "  <thead>\n",
       "    <tr style=\"text-align: right;\">\n",
       "      <th></th>\n",
       "      <th>cust_name</th>\n",
       "    </tr>\n",
       "  </thead>\n",
       "  <tbody>\n",
       "    <tr>\n",
       "      <th>0</th>\n",
       "      <td>Village Toys</td>\n",
       "    </tr>\n",
       "    <tr>\n",
       "      <th>1</th>\n",
       "      <td>The Toy Store</td>\n",
       "    </tr>\n",
       "    <tr>\n",
       "      <th>2</th>\n",
       "      <td>Kids Place</td>\n",
       "    </tr>\n",
       "    <tr>\n",
       "      <th>3</th>\n",
       "      <td>Fun4All</td>\n",
       "    </tr>\n",
       "    <tr>\n",
       "      <th>4</th>\n",
       "      <td>Fun4All</td>\n",
       "    </tr>\n",
       "  </tbody>\n",
       "</table>\n",
       "</div>"
      ],
      "text/plain": [
       "       cust_name\n",
       "0   Village Toys\n",
       "1  The Toy Store\n",
       "2     Kids Place\n",
       "3        Fun4All\n",
       "4        Fun4All"
      ]
     },
     "execution_count": 69,
     "metadata": {},
     "output_type": "execute_result"
    }
   ],
   "source": [
    "query('''\n",
    "SELECT cust_name\n",
    "FROM Customers\n",
    "order by 1 desc ;\n",
    "\n",
    "''')"
   ]
  },
  {
   "cell_type": "markdown",
   "metadata": {},
   "source": [
    "# Filtering Data\n",
    "## Using the WHERE Clause\n",
    "Database tables usually contain large amounts of data, and you seldom need to\n",
    "retrieve all the rows in a table. More often than not you’ll want to extract a subset\n",
    "of the table’s data as needed for specific operations or reports. Retrieving just the\n",
    "data you want involves specifying search criteria, also known as a filter\n",
    "condition.\n"
   ]
  },
  {
   "cell_type": "code",
   "execution_count": 70,
   "metadata": {
    "ExecuteTime": {
     "end_time": "2021-07-23T19:01:33.273165Z",
     "start_time": "2021-07-23T19:01:33.258138Z"
    }
   },
   "outputs": [
    {
     "data": {
      "text/html": [
       "<div>\n",
       "<style scoped>\n",
       "    .dataframe tbody tr th:only-of-type {\n",
       "        vertical-align: middle;\n",
       "    }\n",
       "\n",
       "    .dataframe tbody tr th {\n",
       "        vertical-align: top;\n",
       "    }\n",
       "\n",
       "    .dataframe thead th {\n",
       "        text-align: right;\n",
       "    }\n",
       "</style>\n",
       "<table border=\"1\" class=\"dataframe\">\n",
       "  <thead>\n",
       "    <tr style=\"text-align: right;\">\n",
       "      <th></th>\n",
       "      <th>prod_name</th>\n",
       "      <th>prod_price</th>\n",
       "    </tr>\n",
       "  </thead>\n",
       "  <tbody>\n",
       "    <tr>\n",
       "      <th>0</th>\n",
       "      <td>Fish bean bag toy</td>\n",
       "      <td>3.49</td>\n",
       "    </tr>\n",
       "    <tr>\n",
       "      <th>1</th>\n",
       "      <td>Bird bean bag toy</td>\n",
       "      <td>3.49</td>\n",
       "    </tr>\n",
       "    <tr>\n",
       "      <th>2</th>\n",
       "      <td>Rabbit bean bag toy</td>\n",
       "      <td>3.49</td>\n",
       "    </tr>\n",
       "  </tbody>\n",
       "</table>\n",
       "</div>"
      ],
      "text/plain": [
       "             prod_name  prod_price\n",
       "0    Fish bean bag toy        3.49\n",
       "1    Bird bean bag toy        3.49\n",
       "2  Rabbit bean bag toy        3.49"
      ]
     },
     "execution_count": 70,
     "metadata": {},
     "output_type": "execute_result"
    }
   ],
   "source": [
    "query('''\n",
    "SELECT prod_name, prod_price\n",
    "FROM Products\n",
    "WHERE prod_price < 4;\n",
    "\n",
    "''')"
   ]
  },
  {
   "cell_type": "markdown",
   "metadata": {},
   "source": [
    "### Caution: WHERE Clause Position\n",
    "When using both ORDER BY and WHERE clauses, make sure that ORDER BY comes\n",
    "after the WHERE. Otherwise, an error will be generated.\n",
    "\n",
    "\n",
    "|Operator| Description|\n",
    "|--------|------------|\n",
    "| = | Equality|\n",
    "| <> | Nonequality|\n",
    "| !=  | Nonequality|\n",
    "| <  | Less than|\n",
    "|<= | Less than or equal to|\n",
    "|!< | Not less than|\n",
    "| > | Greater than|\n",
    "| >= | Greater than or equal to |\n",
    "| !>  | Not greater than |\n",
    "| BETWEEN | Between two specified values |\n",
    "IS NULL | Is a NULL value |"
   ]
  },
  {
   "cell_type": "markdown",
   "metadata": {},
   "source": [
    "### When to Use Quotes\n",
    "If you look closely at the conditions used in the above WHERE clauses, you will\n",
    "notice that some values are enclosed within single quotes, and others are not.\n",
    "The single quotes are used to delimit a string. If you are comparing a value\n",
    "against a column that is a string datatype, the delimiting quotes are required.\n",
    "Quotes are not used to delimit values used with numeric columns."
   ]
  },
  {
   "cell_type": "code",
   "execution_count": 71,
   "metadata": {
    "ExecuteTime": {
     "end_time": "2021-07-23T19:01:33.289161Z",
     "start_time": "2021-07-23T19:01:33.274165Z"
    }
   },
   "outputs": [
    {
     "data": {
      "text/html": [
       "<div>\n",
       "<style scoped>\n",
       "    .dataframe tbody tr th:only-of-type {\n",
       "        vertical-align: middle;\n",
       "    }\n",
       "\n",
       "    .dataframe tbody tr th {\n",
       "        vertical-align: top;\n",
       "    }\n",
       "\n",
       "    .dataframe thead th {\n",
       "        text-align: right;\n",
       "    }\n",
       "</style>\n",
       "<table border=\"1\" class=\"dataframe\">\n",
       "  <thead>\n",
       "    <tr style=\"text-align: right;\">\n",
       "      <th></th>\n",
       "      <th>vend_id</th>\n",
       "      <th>prod_name</th>\n",
       "    </tr>\n",
       "  </thead>\n",
       "  <tbody>\n",
       "    <tr>\n",
       "      <th>0</th>\n",
       "      <td>BRS01</td>\n",
       "      <td>8 inch teddy bear</td>\n",
       "    </tr>\n",
       "    <tr>\n",
       "      <th>1</th>\n",
       "      <td>BRS01</td>\n",
       "      <td>12 inch teddy bear</td>\n",
       "    </tr>\n",
       "    <tr>\n",
       "      <th>2</th>\n",
       "      <td>BRS01</td>\n",
       "      <td>18 inch teddy bear</td>\n",
       "    </tr>\n",
       "    <tr>\n",
       "      <th>3</th>\n",
       "      <td>FNG01</td>\n",
       "      <td>King doll</td>\n",
       "    </tr>\n",
       "    <tr>\n",
       "      <th>4</th>\n",
       "      <td>FNG01</td>\n",
       "      <td>Queen doll</td>\n",
       "    </tr>\n",
       "  </tbody>\n",
       "</table>\n",
       "</div>"
      ],
      "text/plain": [
       "  vend_id           prod_name\n",
       "0   BRS01   8 inch teddy bear\n",
       "1   BRS01  12 inch teddy bear\n",
       "2   BRS01  18 inch teddy bear\n",
       "3   FNG01           King doll\n",
       "4   FNG01          Queen doll"
      ]
     },
     "execution_count": 71,
     "metadata": {},
     "output_type": "execute_result"
    }
   ],
   "source": [
    "query('''\n",
    "SELECT vend_id, prod_name\n",
    "FROM Products\n",
    "WHERE vend_id <> 'DLL01';\n",
    "\n",
    "''')"
   ]
  },
  {
   "cell_type": "markdown",
   "metadata": {},
   "source": [
    "###  != or <>?\n",
    "Usually, you can use != and <> interchangeably. However, not all DBMSs\n",
    "support both forms of the nonequality operator. If in doubt, consult your\n",
    "DBMS documentation."
   ]
  },
  {
   "cell_type": "markdown",
   "metadata": {},
   "source": [
    "## Checking for a Range of Values\n",
    "To check for a range of values, you can use the BETWEEN operator. Its syntax is a\n",
    "little different from other WHERE clause operators because it requires two values:\n",
    "the beginning and end of the range. The BETWEEN operator can be used, for\n",
    "example, to check for all products that cost between $5 and $10 or for all dates\n",
    "that fall between specified start and end dates."
   ]
  },
  {
   "cell_type": "code",
   "execution_count": 72,
   "metadata": {
    "ExecuteTime": {
     "end_time": "2021-07-23T19:01:33.305137Z",
     "start_time": "2021-07-23T19:01:33.290137Z"
    }
   },
   "outputs": [
    {
     "data": {
      "text/html": [
       "<div>\n",
       "<style scoped>\n",
       "    .dataframe tbody tr th:only-of-type {\n",
       "        vertical-align: middle;\n",
       "    }\n",
       "\n",
       "    .dataframe tbody tr th {\n",
       "        vertical-align: top;\n",
       "    }\n",
       "\n",
       "    .dataframe thead th {\n",
       "        text-align: right;\n",
       "    }\n",
       "</style>\n",
       "<table border=\"1\" class=\"dataframe\">\n",
       "  <thead>\n",
       "    <tr style=\"text-align: right;\">\n",
       "      <th></th>\n",
       "      <th>prod_name</th>\n",
       "      <th>prod_price</th>\n",
       "    </tr>\n",
       "  </thead>\n",
       "  <tbody>\n",
       "    <tr>\n",
       "      <th>0</th>\n",
       "      <td>8 inch teddy bear</td>\n",
       "      <td>5.99</td>\n",
       "    </tr>\n",
       "    <tr>\n",
       "      <th>1</th>\n",
       "      <td>12 inch teddy bear</td>\n",
       "      <td>8.99</td>\n",
       "    </tr>\n",
       "    <tr>\n",
       "      <th>2</th>\n",
       "      <td>Raggedy Ann</td>\n",
       "      <td>4.99</td>\n",
       "    </tr>\n",
       "    <tr>\n",
       "      <th>3</th>\n",
       "      <td>King doll</td>\n",
       "      <td>9.49</td>\n",
       "    </tr>\n",
       "    <tr>\n",
       "      <th>4</th>\n",
       "      <td>Queen doll</td>\n",
       "      <td>9.49</td>\n",
       "    </tr>\n",
       "  </tbody>\n",
       "</table>\n",
       "</div>"
      ],
      "text/plain": [
       "            prod_name  prod_price\n",
       "0   8 inch teddy bear        5.99\n",
       "1  12 inch teddy bear        8.99\n",
       "2         Raggedy Ann        4.99\n",
       "3           King doll        9.49\n",
       "4          Queen doll        9.49"
      ]
     },
     "execution_count": 72,
     "metadata": {},
     "output_type": "execute_result"
    }
   ],
   "source": [
    "query('''\n",
    "SELECT prod_name, prod_price\n",
    "FROM Products\n",
    "WHERE prod_price between 4 and 10;\n",
    "\n",
    "''')"
   ]
  },
  {
   "cell_type": "markdown",
   "metadata": {},
   "source": [
    "## Checking for No Value\n",
    "When a table is created, the table designer can specify whether or not individual\n",
    "columns can contain no value. When a column contains no value, it is said to\n",
    "contain a NULL value.\n",
    "\n",
    "`No value, as opposed to a field containing 0, or an empty string, or just spaces`"
   ]
  },
  {
   "cell_type": "code",
   "execution_count": 73,
   "metadata": {
    "ExecuteTime": {
     "end_time": "2021-07-23T19:01:33.321165Z",
     "start_time": "2021-07-23T19:01:33.307166Z"
    }
   },
   "outputs": [
    {
     "data": {
      "text/html": [
       "<div>\n",
       "<style scoped>\n",
       "    .dataframe tbody tr th:only-of-type {\n",
       "        vertical-align: middle;\n",
       "    }\n",
       "\n",
       "    .dataframe tbody tr th {\n",
       "        vertical-align: top;\n",
       "    }\n",
       "\n",
       "    .dataframe thead th {\n",
       "        text-align: right;\n",
       "    }\n",
       "</style>\n",
       "<table border=\"1\" class=\"dataframe\">\n",
       "  <thead>\n",
       "    <tr style=\"text-align: right;\">\n",
       "      <th></th>\n",
       "      <th>prod_name</th>\n",
       "      <th>prod_price</th>\n",
       "    </tr>\n",
       "  </thead>\n",
       "  <tbody>\n",
       "    <tr>\n",
       "      <th>0</th>\n",
       "      <td>8 inch teddy bear</td>\n",
       "      <td>5.99</td>\n",
       "    </tr>\n",
       "    <tr>\n",
       "      <th>1</th>\n",
       "      <td>12 inch teddy bear</td>\n",
       "      <td>8.99</td>\n",
       "    </tr>\n",
       "    <tr>\n",
       "      <th>2</th>\n",
       "      <td>King doll</td>\n",
       "      <td>9.49</td>\n",
       "    </tr>\n",
       "    <tr>\n",
       "      <th>3</th>\n",
       "      <td>Queen doll</td>\n",
       "      <td>9.49</td>\n",
       "    </tr>\n",
       "  </tbody>\n",
       "</table>\n",
       "</div>"
      ],
      "text/plain": [
       "            prod_name  prod_price\n",
       "0   8 inch teddy bear        5.99\n",
       "1  12 inch teddy bear        8.99\n",
       "2           King doll        9.49\n",
       "3          Queen doll        9.49"
      ]
     },
     "execution_count": 73,
     "metadata": {},
     "output_type": "execute_result"
    }
   ],
   "source": [
    "query('''\n",
    "SELECT prod_name, prod_price\n",
    "FROM Products\n",
    "WHERE prod_price BETWEEN 5 AND 10;\n",
    "\n",
    "''')"
   ]
  },
  {
   "cell_type": "code",
   "execution_count": 74,
   "metadata": {
    "ExecuteTime": {
     "end_time": "2021-07-23T19:01:33.337144Z",
     "start_time": "2021-07-23T19:01:33.322165Z"
    }
   },
   "outputs": [
    {
     "data": {
      "text/html": [
       "<div>\n",
       "<style scoped>\n",
       "    .dataframe tbody tr th:only-of-type {\n",
       "        vertical-align: middle;\n",
       "    }\n",
       "\n",
       "    .dataframe tbody tr th {\n",
       "        vertical-align: top;\n",
       "    }\n",
       "\n",
       "    .dataframe thead th {\n",
       "        text-align: right;\n",
       "    }\n",
       "</style>\n",
       "<table border=\"1\" class=\"dataframe\">\n",
       "  <thead>\n",
       "    <tr style=\"text-align: right;\">\n",
       "      <th></th>\n",
       "      <th>cust_name</th>\n",
       "      <th>cust_email</th>\n",
       "    </tr>\n",
       "  </thead>\n",
       "  <tbody>\n",
       "    <tr>\n",
       "      <th>0</th>\n",
       "      <td>Village Toys</td>\n",
       "      <td>sales@villagetoys.com</td>\n",
       "    </tr>\n",
       "    <tr>\n",
       "      <th>1</th>\n",
       "      <td>Kids Place</td>\n",
       "      <td>None</td>\n",
       "    </tr>\n",
       "    <tr>\n",
       "      <th>2</th>\n",
       "      <td>Fun4All</td>\n",
       "      <td>jjones@fun4all.com</td>\n",
       "    </tr>\n",
       "    <tr>\n",
       "      <th>3</th>\n",
       "      <td>Fun4All</td>\n",
       "      <td>dstephens@fun4all.com</td>\n",
       "    </tr>\n",
       "    <tr>\n",
       "      <th>4</th>\n",
       "      <td>The Toy Store</td>\n",
       "      <td>None</td>\n",
       "    </tr>\n",
       "  </tbody>\n",
       "</table>\n",
       "</div>"
      ],
      "text/plain": [
       "       cust_name             cust_email\n",
       "0   Village Toys  sales@villagetoys.com\n",
       "1     Kids Place                   None\n",
       "2        Fun4All     jjones@fun4all.com\n",
       "3        Fun4All  dstephens@fun4all.com\n",
       "4  The Toy Store                   None"
      ]
     },
     "execution_count": 74,
     "metadata": {},
     "output_type": "execute_result"
    }
   ],
   "source": [
    "query('''\n",
    "SELECT cust_name , cust_email\n",
    "FROM Customers\n",
    "''')"
   ]
  },
  {
   "cell_type": "markdown",
   "metadata": {},
   "source": [
    "### Caution: NULL and Nonmatches\n",
    "You might expect that when you filter to select all rows that do not have a\n",
    "particular value, rows with a `NULL` will be returned. But they will not. `NULL` is\n",
    "strange this way, and rows with `NULL` in the filter column are not returned\n",
    "when filtering for matches or when filtering for nonmatches."
   ]
  },
  {
   "cell_type": "code",
   "execution_count": 75,
   "metadata": {
    "ExecuteTime": {
     "end_time": "2021-07-23T19:01:33.353147Z",
     "start_time": "2021-07-23T19:01:33.338137Z"
    }
   },
   "outputs": [
    {
     "data": {
      "text/html": [
       "<div>\n",
       "<style scoped>\n",
       "    .dataframe tbody tr th:only-of-type {\n",
       "        vertical-align: middle;\n",
       "    }\n",
       "\n",
       "    .dataframe tbody tr th {\n",
       "        vertical-align: top;\n",
       "    }\n",
       "\n",
       "    .dataframe thead th {\n",
       "        text-align: right;\n",
       "    }\n",
       "</style>\n",
       "<table border=\"1\" class=\"dataframe\">\n",
       "  <thead>\n",
       "    <tr style=\"text-align: right;\">\n",
       "      <th></th>\n",
       "      <th>cust_name</th>\n",
       "    </tr>\n",
       "  </thead>\n",
       "  <tbody>\n",
       "    <tr>\n",
       "      <th>0</th>\n",
       "      <td>Kids Place</td>\n",
       "    </tr>\n",
       "    <tr>\n",
       "      <th>1</th>\n",
       "      <td>The Toy Store</td>\n",
       "    </tr>\n",
       "  </tbody>\n",
       "</table>\n",
       "</div>"
      ],
      "text/plain": [
       "       cust_name\n",
       "0     Kids Place\n",
       "1  The Toy Store"
      ]
     },
     "execution_count": 75,
     "metadata": {},
     "output_type": "execute_result"
    }
   ],
   "source": [
    "query('''\n",
    "SELECT cust_name\n",
    "FROM Customers\n",
    "WHERE cust_email IS NULL;\n",
    "''')"
   ]
  },
  {
   "cell_type": "markdown",
   "metadata": {},
   "source": [
    "# Advanced Data Filtering\n",
    "\n",
    "## Operator\n",
    "A special keyword used to join or change clauses within a WHERE clause. Also\n",
    "known as logical operators.\n",
    "## AND\n",
    "A keyword used in a WHERE clause to specify that only rows matching all the\n",
    "specified conditions should be retrieved.\n",
    "### Note: No ORDER BY Clause Specified\n",
    "`In the interests of saving space (and your typing), I omitted the ORDER BY clause in many of these examples. As such, it is entirely possible that your output won’t exactly match the output in the book. While the number ofreturned rows should always match, their order may not. Of course, feel free to add an ORDER BY clause if you’d like; it needs to go after the WHERE clause.`\n",
    "## OR\n",
    "A keyword used in a WHERE clause to specify that any rows matching either of\n",
    "the specified conditions should be retrieved."
   ]
  },
  {
   "cell_type": "code",
   "execution_count": 76,
   "metadata": {
    "ExecuteTime": {
     "end_time": "2021-07-23T19:01:33.369154Z",
     "start_time": "2021-07-23T19:01:33.354167Z"
    }
   },
   "outputs": [
    {
     "data": {
      "text/html": [
       "<div>\n",
       "<style scoped>\n",
       "    .dataframe tbody tr th:only-of-type {\n",
       "        vertical-align: middle;\n",
       "    }\n",
       "\n",
       "    .dataframe tbody tr th {\n",
       "        vertical-align: top;\n",
       "    }\n",
       "\n",
       "    .dataframe thead th {\n",
       "        text-align: right;\n",
       "    }\n",
       "</style>\n",
       "<table border=\"1\" class=\"dataframe\">\n",
       "  <thead>\n",
       "    <tr style=\"text-align: right;\">\n",
       "      <th></th>\n",
       "      <th>prod_id</th>\n",
       "      <th>prod_price</th>\n",
       "      <th>prod_name</th>\n",
       "    </tr>\n",
       "  </thead>\n",
       "  <tbody>\n",
       "    <tr>\n",
       "      <th>0</th>\n",
       "      <td>BNBG01</td>\n",
       "      <td>3.49</td>\n",
       "      <td>Fish bean bag toy</td>\n",
       "    </tr>\n",
       "    <tr>\n",
       "      <th>1</th>\n",
       "      <td>BNBG02</td>\n",
       "      <td>3.49</td>\n",
       "      <td>Bird bean bag toy</td>\n",
       "    </tr>\n",
       "    <tr>\n",
       "      <th>2</th>\n",
       "      <td>BNBG03</td>\n",
       "      <td>3.49</td>\n",
       "      <td>Rabbit bean bag toy</td>\n",
       "    </tr>\n",
       "  </tbody>\n",
       "</table>\n",
       "</div>"
      ],
      "text/plain": [
       "  prod_id  prod_price            prod_name\n",
       "0  BNBG01        3.49    Fish bean bag toy\n",
       "1  BNBG02        3.49    Bird bean bag toy\n",
       "2  BNBG03        3.49  Rabbit bean bag toy"
      ]
     },
     "execution_count": 76,
     "metadata": {},
     "output_type": "execute_result"
    }
   ],
   "source": [
    "query('''\n",
    "SELECT prod_id, prod_price, prod_name\n",
    "FROM Products\n",
    "WHERE vend_id = 'DLL01' AND prod_price <= 4;\n",
    "\n",
    "''')\n"
   ]
  },
  {
   "cell_type": "code",
   "execution_count": 77,
   "metadata": {
    "ExecuteTime": {
     "end_time": "2021-07-23T19:01:33.385134Z",
     "start_time": "2021-07-23T19:01:33.370165Z"
    }
   },
   "outputs": [
    {
     "data": {
      "text/html": [
       "<div>\n",
       "<style scoped>\n",
       "    .dataframe tbody tr th:only-of-type {\n",
       "        vertical-align: middle;\n",
       "    }\n",
       "\n",
       "    .dataframe tbody tr th {\n",
       "        vertical-align: top;\n",
       "    }\n",
       "\n",
       "    .dataframe thead th {\n",
       "        text-align: right;\n",
       "    }\n",
       "</style>\n",
       "<table border=\"1\" class=\"dataframe\">\n",
       "  <thead>\n",
       "    <tr style=\"text-align: right;\">\n",
       "      <th></th>\n",
       "      <th>prod_id</th>\n",
       "      <th>prod_price</th>\n",
       "      <th>prod_name</th>\n",
       "    </tr>\n",
       "  </thead>\n",
       "  <tbody>\n",
       "    <tr>\n",
       "      <th>0</th>\n",
       "      <td>BR01</td>\n",
       "      <td>5.99</td>\n",
       "      <td>8 inch teddy bear</td>\n",
       "    </tr>\n",
       "    <tr>\n",
       "      <th>1</th>\n",
       "      <td>BR02</td>\n",
       "      <td>8.99</td>\n",
       "      <td>12 inch teddy bear</td>\n",
       "    </tr>\n",
       "    <tr>\n",
       "      <th>2</th>\n",
       "      <td>BR03</td>\n",
       "      <td>11.99</td>\n",
       "      <td>18 inch teddy bear</td>\n",
       "    </tr>\n",
       "    <tr>\n",
       "      <th>3</th>\n",
       "      <td>BNBG01</td>\n",
       "      <td>3.49</td>\n",
       "      <td>Fish bean bag toy</td>\n",
       "    </tr>\n",
       "    <tr>\n",
       "      <th>4</th>\n",
       "      <td>BNBG02</td>\n",
       "      <td>3.49</td>\n",
       "      <td>Bird bean bag toy</td>\n",
       "    </tr>\n",
       "    <tr>\n",
       "      <th>5</th>\n",
       "      <td>BNBG03</td>\n",
       "      <td>3.49</td>\n",
       "      <td>Rabbit bean bag toy</td>\n",
       "    </tr>\n",
       "    <tr>\n",
       "      <th>6</th>\n",
       "      <td>RGAN01</td>\n",
       "      <td>4.99</td>\n",
       "      <td>Raggedy Ann</td>\n",
       "    </tr>\n",
       "  </tbody>\n",
       "</table>\n",
       "</div>"
      ],
      "text/plain": [
       "  prod_id  prod_price            prod_name\n",
       "0    BR01        5.99    8 inch teddy bear\n",
       "1    BR02        8.99   12 inch teddy bear\n",
       "2    BR03       11.99   18 inch teddy bear\n",
       "3  BNBG01        3.49    Fish bean bag toy\n",
       "4  BNBG02        3.49    Bird bean bag toy\n",
       "5  BNBG03        3.49  Rabbit bean bag toy\n",
       "6  RGAN01        4.99          Raggedy Ann"
      ]
     },
     "execution_count": 77,
     "metadata": {},
     "output_type": "execute_result"
    }
   ],
   "source": [
    "query('''\n",
    "SELECT prod_id, prod_price, prod_name\n",
    "FROM Products\n",
    "WHERE vend_id = 'DLL01' OR vend_id = 'BRS01';\n",
    "''')"
   ]
  },
  {
   "cell_type": "markdown",
   "metadata": {},
   "source": [
    "## Understanding Order of Evaluation\n",
    "\n",
    "![](.\\i\\6YuwE.jpg)\n"
   ]
  },
  {
   "cell_type": "code",
   "execution_count": 78,
   "metadata": {
    "ExecuteTime": {
     "end_time": "2021-07-23T19:01:33.401137Z",
     "start_time": "2021-07-23T19:01:33.386134Z"
    }
   },
   "outputs": [
    {
     "data": {
      "text/html": [
       "<div>\n",
       "<style scoped>\n",
       "    .dataframe tbody tr th:only-of-type {\n",
       "        vertical-align: middle;\n",
       "    }\n",
       "\n",
       "    .dataframe tbody tr th {\n",
       "        vertical-align: top;\n",
       "    }\n",
       "\n",
       "    .dataframe thead th {\n",
       "        text-align: right;\n",
       "    }\n",
       "</style>\n",
       "<table border=\"1\" class=\"dataframe\">\n",
       "  <thead>\n",
       "    <tr style=\"text-align: right;\">\n",
       "      <th></th>\n",
       "      <th>prod_name</th>\n",
       "      <th>prod_price</th>\n",
       "    </tr>\n",
       "  </thead>\n",
       "  <tbody>\n",
       "    <tr>\n",
       "      <th>0</th>\n",
       "      <td>18 inch teddy bear</td>\n",
       "      <td>11.99</td>\n",
       "    </tr>\n",
       "    <tr>\n",
       "      <th>1</th>\n",
       "      <td>Fish bean bag toy</td>\n",
       "      <td>3.49</td>\n",
       "    </tr>\n",
       "    <tr>\n",
       "      <th>2</th>\n",
       "      <td>Bird bean bag toy</td>\n",
       "      <td>3.49</td>\n",
       "    </tr>\n",
       "    <tr>\n",
       "      <th>3</th>\n",
       "      <td>Rabbit bean bag toy</td>\n",
       "      <td>3.49</td>\n",
       "    </tr>\n",
       "    <tr>\n",
       "      <th>4</th>\n",
       "      <td>Raggedy Ann</td>\n",
       "      <td>4.99</td>\n",
       "    </tr>\n",
       "  </tbody>\n",
       "</table>\n",
       "</div>"
      ],
      "text/plain": [
       "             prod_name  prod_price\n",
       "0   18 inch teddy bear       11.99\n",
       "1    Fish bean bag toy        3.49\n",
       "2    Bird bean bag toy        3.49\n",
       "3  Rabbit bean bag toy        3.49\n",
       "4          Raggedy Ann        4.99"
      ]
     },
     "execution_count": 78,
     "metadata": {},
     "output_type": "execute_result"
    }
   ],
   "source": [
    "query('''\n",
    "SELECT prod_name, prod_price\n",
    "FROM Products\n",
    "WHERE vend_id = 'DLL01' OR vend_id = 'BRS01'\n",
    "AND prod_price >= 10;\n",
    "\n",
    "''')"
   ]
  },
  {
   "cell_type": "code",
   "execution_count": 79,
   "metadata": {
    "ExecuteTime": {
     "end_time": "2021-07-23T19:01:33.416164Z",
     "start_time": "2021-07-23T19:01:33.402170Z"
    }
   },
   "outputs": [
    {
     "data": {
      "text/html": [
       "<div>\n",
       "<style scoped>\n",
       "    .dataframe tbody tr th:only-of-type {\n",
       "        vertical-align: middle;\n",
       "    }\n",
       "\n",
       "    .dataframe tbody tr th {\n",
       "        vertical-align: top;\n",
       "    }\n",
       "\n",
       "    .dataframe thead th {\n",
       "        text-align: right;\n",
       "    }\n",
       "</style>\n",
       "<table border=\"1\" class=\"dataframe\">\n",
       "  <thead>\n",
       "    <tr style=\"text-align: right;\">\n",
       "      <th></th>\n",
       "      <th>prod_name</th>\n",
       "      <th>prod_price</th>\n",
       "    </tr>\n",
       "  </thead>\n",
       "  <tbody>\n",
       "    <tr>\n",
       "      <th>0</th>\n",
       "      <td>18 inch teddy bear</td>\n",
       "      <td>11.99</td>\n",
       "    </tr>\n",
       "  </tbody>\n",
       "</table>\n",
       "</div>"
      ],
      "text/plain": [
       "            prod_name  prod_price\n",
       "0  18 inch teddy bear       11.99"
      ]
     },
     "execution_count": 79,
     "metadata": {},
     "output_type": "execute_result"
    }
   ],
   "source": [
    "query('''\n",
    "SELECT prod_name, prod_price\n",
    "FROM Products\n",
    "WHERE (vend_id = 'DLL01' OR vend_id = 'BRS01')\n",
    "AND prod_price >= 10;\n",
    "\n",
    "''')"
   ]
  },
  {
   "cell_type": "markdown",
   "metadata": {},
   "source": [
    "### Tip: Using Parentheses in WHERE Clauses\n",
    "Whenever you write WHERE clauses that use both AND and OR operators, use\n",
    "parentheses to explicitly group operators. Don’t ever rely on the default\n",
    "evaluation order, even if it is exactly what you want. There is no downside to\n",
    "using parentheses, and you are always better off eliminating any ambiguity"
   ]
  },
  {
   "cell_type": "code",
   "execution_count": 80,
   "metadata": {
    "ExecuteTime": {
     "end_time": "2021-07-23T19:01:33.432165Z",
     "start_time": "2021-07-23T19:01:33.417138Z"
    }
   },
   "outputs": [
    {
     "data": {
      "text/html": [
       "<div>\n",
       "<style scoped>\n",
       "    .dataframe tbody tr th:only-of-type {\n",
       "        vertical-align: middle;\n",
       "    }\n",
       "\n",
       "    .dataframe tbody tr th {\n",
       "        vertical-align: top;\n",
       "    }\n",
       "\n",
       "    .dataframe thead th {\n",
       "        text-align: right;\n",
       "    }\n",
       "</style>\n",
       "<table border=\"1\" class=\"dataframe\">\n",
       "  <thead>\n",
       "    <tr style=\"text-align: right;\">\n",
       "      <th></th>\n",
       "      <th>prod_name</th>\n",
       "      <th>prod_price</th>\n",
       "    </tr>\n",
       "  </thead>\n",
       "  <tbody>\n",
       "    <tr>\n",
       "      <th>0</th>\n",
       "      <td>12 inch teddy bear</td>\n",
       "      <td>8.99</td>\n",
       "    </tr>\n",
       "    <tr>\n",
       "      <th>1</th>\n",
       "      <td>18 inch teddy bear</td>\n",
       "      <td>11.99</td>\n",
       "    </tr>\n",
       "    <tr>\n",
       "      <th>2</th>\n",
       "      <td>8 inch teddy bear</td>\n",
       "      <td>5.99</td>\n",
       "    </tr>\n",
       "    <tr>\n",
       "      <th>3</th>\n",
       "      <td>Bird bean bag toy</td>\n",
       "      <td>3.49</td>\n",
       "    </tr>\n",
       "    <tr>\n",
       "      <th>4</th>\n",
       "      <td>Fish bean bag toy</td>\n",
       "      <td>3.49</td>\n",
       "    </tr>\n",
       "    <tr>\n",
       "      <th>5</th>\n",
       "      <td>Rabbit bean bag toy</td>\n",
       "      <td>3.49</td>\n",
       "    </tr>\n",
       "    <tr>\n",
       "      <th>6</th>\n",
       "      <td>Raggedy Ann</td>\n",
       "      <td>4.99</td>\n",
       "    </tr>\n",
       "  </tbody>\n",
       "</table>\n",
       "</div>"
      ],
      "text/plain": [
       "             prod_name  prod_price\n",
       "0   12 inch teddy bear        8.99\n",
       "1   18 inch teddy bear       11.99\n",
       "2    8 inch teddy bear        5.99\n",
       "3    Bird bean bag toy        3.49\n",
       "4    Fish bean bag toy        3.49\n",
       "5  Rabbit bean bag toy        3.49\n",
       "6          Raggedy Ann        4.99"
      ]
     },
     "execution_count": 80,
     "metadata": {},
     "output_type": "execute_result"
    }
   ],
   "source": [
    "query('''\n",
    "SELECT prod_name, prod_price\n",
    "FROM Products\n",
    "WHERE vend_id IN ('DLL01','BRS01')\n",
    "ORDER BY prod_name;\n",
    "\n",
    "''')"
   ]
  },
  {
   "cell_type": "code",
   "execution_count": 81,
   "metadata": {
    "ExecuteTime": {
     "end_time": "2021-07-23T19:01:33.448164Z",
     "start_time": "2021-07-23T19:01:33.433138Z"
    }
   },
   "outputs": [
    {
     "data": {
      "text/html": [
       "<div>\n",
       "<style scoped>\n",
       "    .dataframe tbody tr th:only-of-type {\n",
       "        vertical-align: middle;\n",
       "    }\n",
       "\n",
       "    .dataframe tbody tr th {\n",
       "        vertical-align: top;\n",
       "    }\n",
       "\n",
       "    .dataframe thead th {\n",
       "        text-align: right;\n",
       "    }\n",
       "</style>\n",
       "<table border=\"1\" class=\"dataframe\">\n",
       "  <thead>\n",
       "    <tr style=\"text-align: right;\">\n",
       "      <th></th>\n",
       "      <th>prod_name</th>\n",
       "      <th>prod_price</th>\n",
       "    </tr>\n",
       "  </thead>\n",
       "  <tbody>\n",
       "    <tr>\n",
       "      <th>0</th>\n",
       "      <td>12 inch teddy bear</td>\n",
       "      <td>8.99</td>\n",
       "    </tr>\n",
       "    <tr>\n",
       "      <th>1</th>\n",
       "      <td>18 inch teddy bear</td>\n",
       "      <td>11.99</td>\n",
       "    </tr>\n",
       "    <tr>\n",
       "      <th>2</th>\n",
       "      <td>8 inch teddy bear</td>\n",
       "      <td>5.99</td>\n",
       "    </tr>\n",
       "    <tr>\n",
       "      <th>3</th>\n",
       "      <td>Bird bean bag toy</td>\n",
       "      <td>3.49</td>\n",
       "    </tr>\n",
       "    <tr>\n",
       "      <th>4</th>\n",
       "      <td>Fish bean bag toy</td>\n",
       "      <td>3.49</td>\n",
       "    </tr>\n",
       "    <tr>\n",
       "      <th>5</th>\n",
       "      <td>Rabbit bean bag toy</td>\n",
       "      <td>3.49</td>\n",
       "    </tr>\n",
       "    <tr>\n",
       "      <th>6</th>\n",
       "      <td>Raggedy Ann</td>\n",
       "      <td>4.99</td>\n",
       "    </tr>\n",
       "  </tbody>\n",
       "</table>\n",
       "</div>"
      ],
      "text/plain": [
       "             prod_name  prod_price\n",
       "0   12 inch teddy bear        8.99\n",
       "1   18 inch teddy bear       11.99\n",
       "2    8 inch teddy bear        5.99\n",
       "3    Bird bean bag toy        3.49\n",
       "4    Fish bean bag toy        3.49\n",
       "5  Rabbit bean bag toy        3.49\n",
       "6          Raggedy Ann        4.99"
      ]
     },
     "execution_count": 81,
     "metadata": {},
     "output_type": "execute_result"
    }
   ],
   "source": [
    "query('''SELECT prod_name, prod_price\n",
    "FROM Products\n",
    "WHERE vend_id = 'DLL01' OR vend_id = 'BRS01'\n",
    "ORDER BY prod_name;''')"
   ]
  },
  {
   "cell_type": "markdown",
   "metadata": {},
   "source": [
    "## IN\n",
    "A keyword used in a WHERE clause to specify a list of values to be matched\n",
    "using an OR comparison.\n",
    "\n",
    "## NOT\n",
    "A keyword used in a WHERE clause to negate a condition."
   ]
  },
  {
   "cell_type": "code",
   "execution_count": 82,
   "metadata": {
    "ExecuteTime": {
     "end_time": "2021-07-23T19:01:33.464164Z",
     "start_time": "2021-07-23T19:01:33.449152Z"
    }
   },
   "outputs": [
    {
     "data": {
      "text/html": [
       "<div>\n",
       "<style scoped>\n",
       "    .dataframe tbody tr th:only-of-type {\n",
       "        vertical-align: middle;\n",
       "    }\n",
       "\n",
       "    .dataframe tbody tr th {\n",
       "        vertical-align: top;\n",
       "    }\n",
       "\n",
       "    .dataframe thead th {\n",
       "        text-align: right;\n",
       "    }\n",
       "</style>\n",
       "<table border=\"1\" class=\"dataframe\">\n",
       "  <thead>\n",
       "    <tr style=\"text-align: right;\">\n",
       "      <th></th>\n",
       "      <th>prod_name</th>\n",
       "      <th>vend_id</th>\n",
       "    </tr>\n",
       "  </thead>\n",
       "  <tbody>\n",
       "    <tr>\n",
       "      <th>0</th>\n",
       "      <td>12 inch teddy bear</td>\n",
       "      <td>BRS01</td>\n",
       "    </tr>\n",
       "    <tr>\n",
       "      <th>1</th>\n",
       "      <td>18 inch teddy bear</td>\n",
       "      <td>BRS01</td>\n",
       "    </tr>\n",
       "    <tr>\n",
       "      <th>2</th>\n",
       "      <td>8 inch teddy bear</td>\n",
       "      <td>BRS01</td>\n",
       "    </tr>\n",
       "    <tr>\n",
       "      <th>3</th>\n",
       "      <td>King doll</td>\n",
       "      <td>FNG01</td>\n",
       "    </tr>\n",
       "    <tr>\n",
       "      <th>4</th>\n",
       "      <td>Queen doll</td>\n",
       "      <td>FNG01</td>\n",
       "    </tr>\n",
       "  </tbody>\n",
       "</table>\n",
       "</div>"
      ],
      "text/plain": [
       "            prod_name vend_id\n",
       "0  12 inch teddy bear   BRS01\n",
       "1  18 inch teddy bear   BRS01\n",
       "2   8 inch teddy bear   BRS01\n",
       "3           King doll   FNG01\n",
       "4          Queen doll   FNG01"
      ]
     },
     "execution_count": 82,
     "metadata": {},
     "output_type": "execute_result"
    }
   ],
   "source": [
    "query('''\n",
    "SELECT prod_name , vend_id\n",
    "FROM Products\n",
    "WHERE NOT vend_id = 'DLL01'\n",
    "ORDER BY prod_name;\n",
    "''')"
   ]
  },
  {
   "cell_type": "code",
   "execution_count": 83,
   "metadata": {
    "ExecuteTime": {
     "end_time": "2021-07-23T19:01:33.480164Z",
     "start_time": "2021-07-23T19:01:33.465137Z"
    }
   },
   "outputs": [
    {
     "data": {
      "text/html": [
       "<div>\n",
       "<style scoped>\n",
       "    .dataframe tbody tr th:only-of-type {\n",
       "        vertical-align: middle;\n",
       "    }\n",
       "\n",
       "    .dataframe tbody tr th {\n",
       "        vertical-align: top;\n",
       "    }\n",
       "\n",
       "    .dataframe thead th {\n",
       "        text-align: right;\n",
       "    }\n",
       "</style>\n",
       "<table border=\"1\" class=\"dataframe\">\n",
       "  <thead>\n",
       "    <tr style=\"text-align: right;\">\n",
       "      <th></th>\n",
       "      <th>prod_name</th>\n",
       "    </tr>\n",
       "  </thead>\n",
       "  <tbody>\n",
       "    <tr>\n",
       "      <th>0</th>\n",
       "      <td>12 inch teddy bear</td>\n",
       "    </tr>\n",
       "    <tr>\n",
       "      <th>1</th>\n",
       "      <td>18 inch teddy bear</td>\n",
       "    </tr>\n",
       "    <tr>\n",
       "      <th>2</th>\n",
       "      <td>8 inch teddy bear</td>\n",
       "    </tr>\n",
       "    <tr>\n",
       "      <th>3</th>\n",
       "      <td>King doll</td>\n",
       "    </tr>\n",
       "    <tr>\n",
       "      <th>4</th>\n",
       "      <td>Queen doll</td>\n",
       "    </tr>\n",
       "  </tbody>\n",
       "</table>\n",
       "</div>"
      ],
      "text/plain": [
       "            prod_name\n",
       "0  12 inch teddy bear\n",
       "1  18 inch teddy bear\n",
       "2   8 inch teddy bear\n",
       "3           King doll\n",
       "4          Queen doll"
      ]
     },
     "execution_count": 83,
     "metadata": {},
     "output_type": "execute_result"
    }
   ],
   "source": [
    "query('''\n",
    "SELECT prod_name\n",
    "FROM Products\n",
    "WHERE vend_id <> 'DLL01'\n",
    "ORDER BY prod_name;\n",
    "\n",
    "''')"
   ]
  },
  {
   "cell_type": "markdown",
   "metadata": {},
   "source": [
    "# Using Wildcard Filtering\n",
    "## Wildcards\n",
    "Special characters used to match parts of a value.\n",
    "## Search pattern\n",
    "A search condition made up of literal text, wildcard characters, or any\n",
    "combination of the above.\n",
    "## Predicate\n",
    "When is an operator not an operator? When it is a “predicate.” Technically,\n",
    "LIKE is a predicate, not an operator. The end result is the same. Just be aware\n",
    "of this term in case you run across it in SQL documentation or manuals.\n",
    "## The Percent Sign (%) Wildcard\n",
    "The most frequently used wildcard is the percent sign (%). Within a search string,\n",
    "% means match any number of occurrences of any character.Wildcards can be used anywhere within the search pattern, and multiple wildcards may be used as well.\n",
    "### Note: Case Sensitivity\n",
    "Depending on our DBMS and how it is configured, searches may be case\n",
    "sensitive, in which case 'fish%' would not match Fish bean bag toy.\n",
    "### Tip: Searching for Partial Email Addresses\n",
    "There is one situation in which wildcards may indeed be useful in the middle\n",
    "of a search pattern, and that is looking for email addresses based on a partial\n",
    "address, such as WHERE email 'LIKE b%@forta.com'.\n",
    "### Note: Watch for Trailing Spaces\n",
    "Some DBMSs pad field contents with spaces. For example, if a column\n",
    "expects 50 characters and the text stored is Fish bean bag toy (17\n",
    "characters), 33 spaces may be appended to the text so as to fully fill the\n",
    "column. This padding usually has no real impact on data and how it is used,\n",
    "but it could negatively affect the just-used SQL statement. The clause WHERE\n",
    "prod_name LIKE 'F%y' will only match prod_namethen it will not end with if\n",
    "it starts with F and ends with y, and if the value is padded with spaces, then it\n",
    "will not end with y and so Fish bean bag toy will not be retrieved. One\n",
    "simple solution to this problem is to append a second % to the search pattern.\n",
    "'F%y%' will also match characters (or spaces) after the y.\n",
    "### Caution: Watch for NULL\n",
    "It may seem that the % wildcard matches anything, but there is one exception:\n",
    "NULL. Not even the clause WHERE prod_name LIKE '%' will match a row with\n",
    "the value NULL as the product name."
   ]
  },
  {
   "cell_type": "code",
   "execution_count": 84,
   "metadata": {
    "ExecuteTime": {
     "end_time": "2021-07-23T19:01:33.496164Z",
     "start_time": "2021-07-23T19:01:33.481166Z"
    }
   },
   "outputs": [
    {
     "data": {
      "text/html": [
       "<div>\n",
       "<style scoped>\n",
       "    .dataframe tbody tr th:only-of-type {\n",
       "        vertical-align: middle;\n",
       "    }\n",
       "\n",
       "    .dataframe tbody tr th {\n",
       "        vertical-align: top;\n",
       "    }\n",
       "\n",
       "    .dataframe thead th {\n",
       "        text-align: right;\n",
       "    }\n",
       "</style>\n",
       "<table border=\"1\" class=\"dataframe\">\n",
       "  <thead>\n",
       "    <tr style=\"text-align: right;\">\n",
       "      <th></th>\n",
       "      <th>prod_id</th>\n",
       "      <th>prod_name</th>\n",
       "    </tr>\n",
       "  </thead>\n",
       "  <tbody>\n",
       "    <tr>\n",
       "      <th>0</th>\n",
       "      <td>BNBG01</td>\n",
       "      <td>Fish bean bag toy</td>\n",
       "    </tr>\n",
       "    <tr>\n",
       "      <th>1</th>\n",
       "      <td>BNBG02</td>\n",
       "      <td>Bird bean bag toy</td>\n",
       "    </tr>\n",
       "    <tr>\n",
       "      <th>2</th>\n",
       "      <td>BNBG03</td>\n",
       "      <td>Rabbit bean bag toy</td>\n",
       "    </tr>\n",
       "  </tbody>\n",
       "</table>\n",
       "</div>"
      ],
      "text/plain": [
       "  prod_id            prod_name\n",
       "0  BNBG01    Fish bean bag toy\n",
       "1  BNBG02    Bird bean bag toy\n",
       "2  BNBG03  Rabbit bean bag toy"
      ]
     },
     "execution_count": 84,
     "metadata": {},
     "output_type": "execute_result"
    }
   ],
   "source": [
    "query('''\n",
    "SELECT prod_id, prod_name\n",
    "FROM Products\n",
    "WHERE prod_name LIKE '%bean bag%';\n",
    "''')"
   ]
  },
  {
   "cell_type": "code",
   "execution_count": 85,
   "metadata": {
    "ExecuteTime": {
     "end_time": "2021-07-23T19:01:33.512134Z",
     "start_time": "2021-07-23T19:01:33.497139Z"
    }
   },
   "outputs": [
    {
     "data": {
      "text/html": [
       "<div>\n",
       "<style scoped>\n",
       "    .dataframe tbody tr th:only-of-type {\n",
       "        vertical-align: middle;\n",
       "    }\n",
       "\n",
       "    .dataframe tbody tr th {\n",
       "        vertical-align: top;\n",
       "    }\n",
       "\n",
       "    .dataframe thead th {\n",
       "        text-align: right;\n",
       "    }\n",
       "</style>\n",
       "<table border=\"1\" class=\"dataframe\">\n",
       "  <thead>\n",
       "    <tr style=\"text-align: right;\">\n",
       "      <th></th>\n",
       "      <th>prod_name</th>\n",
       "    </tr>\n",
       "  </thead>\n",
       "  <tbody>\n",
       "    <tr>\n",
       "      <th>0</th>\n",
       "      <td>Fish bean bag toy</td>\n",
       "    </tr>\n",
       "  </tbody>\n",
       "</table>\n",
       "</div>"
      ],
      "text/plain": [
       "           prod_name\n",
       "0  Fish bean bag toy"
      ]
     },
     "execution_count": 85,
     "metadata": {},
     "output_type": "execute_result"
    }
   ],
   "source": [
    "query('''\n",
    "SELECT prod_name\n",
    "FROM Products\n",
    "WHERE prod_name LIKE 'F%y%';\n",
    "''')"
   ]
  },
  {
   "cell_type": "markdown",
   "metadata": {},
   "source": [
    "## The Underscore (_) Wildcard\n",
    "The underscore is used just like %,\n",
    "but instead of matching multiple characters, the underscore matches just a single\n",
    "character.\n",
    "\n",
    "### Note: Watch for Trailing Spaces\n",
    "As in the previous example, you may have to append a wildcard to the pattern\n",
    "for this example to work."
   ]
  },
  {
   "cell_type": "code",
   "execution_count": 86,
   "metadata": {
    "ExecuteTime": {
     "end_time": "2021-07-23T19:01:33.527165Z",
     "start_time": "2021-07-23T19:01:33.513135Z"
    }
   },
   "outputs": [
    {
     "data": {
      "text/html": [
       "<div>\n",
       "<style scoped>\n",
       "    .dataframe tbody tr th:only-of-type {\n",
       "        vertical-align: middle;\n",
       "    }\n",
       "\n",
       "    .dataframe tbody tr th {\n",
       "        vertical-align: top;\n",
       "    }\n",
       "\n",
       "    .dataframe thead th {\n",
       "        text-align: right;\n",
       "    }\n",
       "</style>\n",
       "<table border=\"1\" class=\"dataframe\">\n",
       "  <thead>\n",
       "    <tr style=\"text-align: right;\">\n",
       "      <th></th>\n",
       "      <th>prod_id</th>\n",
       "      <th>prod_name</th>\n",
       "    </tr>\n",
       "  </thead>\n",
       "  <tbody>\n",
       "    <tr>\n",
       "      <th>0</th>\n",
       "      <td>BR02</td>\n",
       "      <td>12 inch teddy bear</td>\n",
       "    </tr>\n",
       "    <tr>\n",
       "      <th>1</th>\n",
       "      <td>BR03</td>\n",
       "      <td>18 inch teddy bear</td>\n",
       "    </tr>\n",
       "  </tbody>\n",
       "</table>\n",
       "</div>"
      ],
      "text/plain": [
       "  prod_id           prod_name\n",
       "0    BR02  12 inch teddy bear\n",
       "1    BR03  18 inch teddy bear"
      ]
     },
     "execution_count": 86,
     "metadata": {},
     "output_type": "execute_result"
    }
   ],
   "source": [
    "query('''\n",
    "SELECT prod_id, prod_name\n",
    "FROM Products\n",
    "WHERE prod_name LIKE '__ inch teddy bear';\n",
    "''')"
   ]
  },
  {
   "cell_type": "code",
   "execution_count": 87,
   "metadata": {
    "ExecuteTime": {
     "end_time": "2021-07-23T19:01:33.543166Z",
     "start_time": "2021-07-23T19:01:33.528170Z"
    }
   },
   "outputs": [
    {
     "data": {
      "text/html": [
       "<div>\n",
       "<style scoped>\n",
       "    .dataframe tbody tr th:only-of-type {\n",
       "        vertical-align: middle;\n",
       "    }\n",
       "\n",
       "    .dataframe tbody tr th {\n",
       "        vertical-align: top;\n",
       "    }\n",
       "\n",
       "    .dataframe thead th {\n",
       "        text-align: right;\n",
       "    }\n",
       "</style>\n",
       "<table border=\"1\" class=\"dataframe\">\n",
       "  <thead>\n",
       "    <tr style=\"text-align: right;\">\n",
       "      <th></th>\n",
       "      <th>prod_id</th>\n",
       "      <th>prod_name</th>\n",
       "    </tr>\n",
       "  </thead>\n",
       "  <tbody>\n",
       "    <tr>\n",
       "      <th>0</th>\n",
       "      <td>BR01</td>\n",
       "      <td>8 inch teddy bear</td>\n",
       "    </tr>\n",
       "    <tr>\n",
       "      <th>1</th>\n",
       "      <td>BR02</td>\n",
       "      <td>12 inch teddy bear</td>\n",
       "    </tr>\n",
       "    <tr>\n",
       "      <th>2</th>\n",
       "      <td>BR03</td>\n",
       "      <td>18 inch teddy bear</td>\n",
       "    </tr>\n",
       "  </tbody>\n",
       "</table>\n",
       "</div>"
      ],
      "text/plain": [
       "  prod_id           prod_name\n",
       "0    BR01   8 inch teddy bear\n",
       "1    BR02  12 inch teddy bear\n",
       "2    BR03  18 inch teddy bear"
      ]
     },
     "execution_count": 87,
     "metadata": {},
     "output_type": "execute_result"
    }
   ],
   "source": [
    "query('''\n",
    "SELECT prod_id, prod_name\n",
    "FROM Products\n",
    "WHERE prod_name LIKE '% inch teddy bear';\n",
    "''')"
   ]
  },
  {
   "cell_type": "markdown",
   "metadata": {
    "ExecuteTime": {
     "end_time": "2021-07-22T03:50:04.825231Z",
     "start_time": "2021-07-22T03:50:04.810218Z"
    }
   },
   "source": [
    "## The Brackets ([]) Wildcard\n",
    "The brackets ([]) wildcard is used to specify a set of characters, any one of\n",
    "which must match a character in the specified position (the location of the\n",
    "wildcard).\n",
    "\n",
    "### Note: Sets Are Not Commonly Supported\n",
    "Unlike the wildcards described thus far, the use of [] to create sets is not\n",
    "supported by all DBMSs. Sets are supported in Microsoft SQL Server, but\n",
    "are not supported in MySQL, Oracle, DB2, and SQLite. Consult your DBMS\n",
    "documentation to determine if sets are supported."
   ]
  },
  {
   "cell_type": "code",
   "execution_count": 88,
   "metadata": {
    "ExecuteTime": {
     "end_time": "2021-07-23T19:01:33.559165Z",
     "start_time": "2021-07-23T19:01:33.544166Z"
    }
   },
   "outputs": [
    {
     "data": {
      "text/html": [
       "<div>\n",
       "<style scoped>\n",
       "    .dataframe tbody tr th:only-of-type {\n",
       "        vertical-align: middle;\n",
       "    }\n",
       "\n",
       "    .dataframe tbody tr th {\n",
       "        vertical-align: top;\n",
       "    }\n",
       "\n",
       "    .dataframe thead th {\n",
       "        text-align: right;\n",
       "    }\n",
       "</style>\n",
       "<table border=\"1\" class=\"dataframe\">\n",
       "  <thead>\n",
       "    <tr style=\"text-align: right;\">\n",
       "      <th></th>\n",
       "      <th>cust_contact</th>\n",
       "    </tr>\n",
       "  </thead>\n",
       "  <tbody>\n",
       "  </tbody>\n",
       "</table>\n",
       "</div>"
      ],
      "text/plain": [
       "Empty DataFrame\n",
       "Columns: [cust_contact]\n",
       "Index: []"
      ]
     },
     "execution_count": 88,
     "metadata": {},
     "output_type": "execute_result"
    }
   ],
   "source": [
    "query('''\n",
    "\n",
    "SELECT cust_contact\n",
    "FROM Customers\n",
    "WHERE cust_contact LIKE '[JM]%'\n",
    "ORDER BY cust_contact;\n",
    "\n",
    "''')"
   ]
  },
  {
   "cell_type": "markdown",
   "metadata": {},
   "source": [
    "## Tips for Using Wildcards\n",
    "\n",
    "- Don’t overuse wildcards. If another search operator will do, use it instead.\n",
    "\n",
    "- When you do use wildcards, try not to use them at the beginning of the search pattern unless absolutely necessary. Search patterns that begin with wildcards are the slowest to process.\n",
    "\n",
    "- Pay careful attention to the placement of the wildcard symbols. If they are misplaced, you might not return the data you intended."
   ]
  },
  {
   "cell_type": "markdown",
   "metadata": {},
   "source": [
    "# Creating Calculated Fields\n",
    "Data stored within a database’s tables is often not available in the exact format\n",
    "needed by your applications. Here are some examples:\n",
    "- You need to display a field containing the name of a company along with the company’s location, but that information is stored in separate table columns.\n",
    "- City, state, and ZIP codes are stored in separate columns (as they should be), but your mailing label printing program needs them retrieved as one correctly formatted field.\n",
    "- Column data is in mixed upper- and lowercase, and your report needs all data presented in uppercase.\n",
    "- An OrderItems table stores item price and quantity, but not the expanded price (price multiplied by quantity) of each item. To print invoices, you need that expanded price.\n",
    "- You need total, averages, or other calculations based on table data.\n",
    "## Field\n",
    "Essentially means the same thing as column and often used interchangeably,\n",
    "although database columns are typically called columns and the term fields is\n",
    "usually used in conjunction with calculated fields.\n",
    "\n",
    "## Concatenate\n",
    "Joining values together (by appending them to each other) to form a single\n",
    "long value.\n",
    "\n",
    "### Caution: Alias Names\n",
    "Aliases may be single words or complete strings. If the latter is used, then the\n",
    "string should be enclosed within quotes. This practice is legal but is stronglydiscouraged. While multiword names are indeed highly readable, they create\n",
    "all sorts of problems for many client applications—so much so that one of the\n",
    "most common uses of aliases is to rename multiword column names to singleword names (as explained above).\n",
    "\n",
    "Aliases are also sometimes referred to as derived columns, so regardless of\n",
    "the term you run across, they mean the same thing."
   ]
  },
  {
   "cell_type": "code",
   "execution_count": 89,
   "metadata": {
    "ExecuteTime": {
     "end_time": "2021-07-23T19:01:33.575167Z",
     "start_time": "2021-07-23T19:01:33.560136Z"
    }
   },
   "outputs": [
    {
     "data": {
      "text/html": [
       "<div>\n",
       "<style scoped>\n",
       "    .dataframe tbody tr th:only-of-type {\n",
       "        vertical-align: middle;\n",
       "    }\n",
       "\n",
       "    .dataframe tbody tr th {\n",
       "        vertical-align: top;\n",
       "    }\n",
       "\n",
       "    .dataframe thead th {\n",
       "        text-align: right;\n",
       "    }\n",
       "</style>\n",
       "<table border=\"1\" class=\"dataframe\">\n",
       "  <thead>\n",
       "    <tr style=\"text-align: right;\">\n",
       "      <th></th>\n",
       "      <th>concat</th>\n",
       "    </tr>\n",
       "  </thead>\n",
       "  <tbody>\n",
       "    <tr>\n",
       "      <th>0</th>\n",
       "      <td>Bear Emporium (USA)</td>\n",
       "    </tr>\n",
       "    <tr>\n",
       "      <th>1</th>\n",
       "      <td>Bears R Us (USA)</td>\n",
       "    </tr>\n",
       "    <tr>\n",
       "      <th>2</th>\n",
       "      <td>Doll House Inc. (USA)</td>\n",
       "    </tr>\n",
       "    <tr>\n",
       "      <th>3</th>\n",
       "      <td>Fun and Games (England)</td>\n",
       "    </tr>\n",
       "    <tr>\n",
       "      <th>4</th>\n",
       "      <td>Furball Inc. (USA)</td>\n",
       "    </tr>\n",
       "    <tr>\n",
       "      <th>5</th>\n",
       "      <td>Jouets et ours (France)</td>\n",
       "    </tr>\n",
       "  </tbody>\n",
       "</table>\n",
       "</div>"
      ],
      "text/plain": [
       "                    concat\n",
       "0      Bear Emporium (USA)\n",
       "1         Bears R Us (USA)\n",
       "2    Doll House Inc. (USA)\n",
       "3  Fun and Games (England)\n",
       "4       Furball Inc. (USA)\n",
       "5  Jouets et ours (France)"
      ]
     },
     "execution_count": 89,
     "metadata": {},
     "output_type": "execute_result"
    }
   ],
   "source": [
    "query('''\n",
    "SELECT Concat(vend_name, ' (', vend_country, ')') as concat\n",
    "FROM Vendors\n",
    "ORDER BY vend_name;\n",
    "''')"
   ]
  },
  {
   "cell_type": "markdown",
   "metadata": {},
   "source": [
    "- The name stored in the vend_name column\n",
    "- A string containing a space and an open parenthesisThe country stored in the vend_country column\n",
    "- A string containing the close parenthesis"
   ]
  },
  {
   "cell_type": "markdown",
   "metadata": {
    "ExecuteTime": {
     "end_time": "2021-07-22T04:07:42.720739Z",
     "start_time": "2021-07-22T04:07:42.693062Z"
    }
   },
   "source": [
    "## Performing Mathematical Calculations\n"
   ]
  },
  {
   "cell_type": "code",
   "execution_count": 90,
   "metadata": {
    "ExecuteTime": {
     "end_time": "2021-07-23T19:01:33.591165Z",
     "start_time": "2021-07-23T19:01:33.576165Z"
    }
   },
   "outputs": [
    {
     "data": {
      "text/html": [
       "<div>\n",
       "<style scoped>\n",
       "    .dataframe tbody tr th:only-of-type {\n",
       "        vertical-align: middle;\n",
       "    }\n",
       "\n",
       "    .dataframe tbody tr th {\n",
       "        vertical-align: top;\n",
       "    }\n",
       "\n",
       "    .dataframe thead th {\n",
       "        text-align: right;\n",
       "    }\n",
       "</style>\n",
       "<table border=\"1\" class=\"dataframe\">\n",
       "  <thead>\n",
       "    <tr style=\"text-align: right;\">\n",
       "      <th></th>\n",
       "      <th>prod_id</th>\n",
       "      <th>quantity</th>\n",
       "      <th>item_price</th>\n",
       "      <th>expanded_price</th>\n",
       "    </tr>\n",
       "  </thead>\n",
       "  <tbody>\n",
       "    <tr>\n",
       "      <th>0</th>\n",
       "      <td>RGAN01</td>\n",
       "      <td>5</td>\n",
       "      <td>4.99</td>\n",
       "      <td>24.95</td>\n",
       "    </tr>\n",
       "    <tr>\n",
       "      <th>1</th>\n",
       "      <td>BR03</td>\n",
       "      <td>5</td>\n",
       "      <td>11.99</td>\n",
       "      <td>59.95</td>\n",
       "    </tr>\n",
       "    <tr>\n",
       "      <th>2</th>\n",
       "      <td>BNBG01</td>\n",
       "      <td>10</td>\n",
       "      <td>3.49</td>\n",
       "      <td>34.90</td>\n",
       "    </tr>\n",
       "    <tr>\n",
       "      <th>3</th>\n",
       "      <td>BNBG02</td>\n",
       "      <td>10</td>\n",
       "      <td>3.49</td>\n",
       "      <td>34.90</td>\n",
       "    </tr>\n",
       "    <tr>\n",
       "      <th>4</th>\n",
       "      <td>BNBG03</td>\n",
       "      <td>10</td>\n",
       "      <td>3.49</td>\n",
       "      <td>34.90</td>\n",
       "    </tr>\n",
       "  </tbody>\n",
       "</table>\n",
       "</div>"
      ],
      "text/plain": [
       "  prod_id  quantity  item_price  expanded_price\n",
       "0  RGAN01         5        4.99           24.95\n",
       "1    BR03         5       11.99           59.95\n",
       "2  BNBG01        10        3.49           34.90\n",
       "3  BNBG02        10        3.49           34.90\n",
       "4  BNBG03        10        3.49           34.90"
      ]
     },
     "execution_count": 90,
     "metadata": {},
     "output_type": "execute_result"
    }
   ],
   "source": [
    "query('''\n",
    "SELECT prod_id, quantity, item_price,\n",
    "quantity*item_price AS expanded_price\n",
    "FROM OrderItems\n",
    "WHERE order_num = 20008;\n",
    "''')"
   ]
  },
  {
   "cell_type": "markdown",
   "metadata": {},
   "source": [
    "## SQL Mathematical Operators\n",
    "\n",
    "| Operator | Description |\n",
    "|--------|------------|\n",
    "| + | Addition|\n",
    "| - | Subtraction |\n",
    "| * | Multiplication |\n",
    "| / | Division |"
   ]
  },
  {
   "cell_type": "markdown",
   "metadata": {},
   "source": [
    "# Using Data Manipulation Functions\n",
    "\n",
    "\n",
    "| Function | Syntax |\n",
    "|--------|------------|\n",
    "| Extract part of a string |  DB2, Oracle, PostgreSQL, and SQLite use SUBSTR(). MariaDB, MySQL, and SQL Server use SUBSTRING(). | \n",
    "| Datatype conversion |  Oracle uses multiple functions, one for each conversion type. DB2, PostgreSQL, and SQL Server use CAST(). MariaDB, MySQL, and SQL Server use CONVERT(). | \n",
    "| Get current date | DB2 and PostgreSQL use CURRENT_DATE. MariaDB and MySQL use CURDATE(). Oracle uses SYSDATE. SQL Server uses GETDATE(). SQLite uses DATE(). | \n",
    "\n",
    "\n",
    "## Using Functions\n",
    "**Most SQL implementations support the following types of functions:**\n",
    "* Text functions are used to manipulate strings of text (for example, trimming or padding values and converting values to upper- and lowercase).\n",
    "* Numeric functions are used to perform mathematical operations on numeric data (for example, returning absolute numbers and performing algebraic calculations).\n",
    "* Date and time functions are used to manipulate date and time values and to extract specific components from these values (for example, returning differences between dates and checking date validity).\n",
    "*  Formatting functions are used to generate user-friendly outputs (for example, displaying dates in local languages and formats, or currencies with the right symbols and comma placement).\n",
    "*  System functions return information specific to the DBMS being used (for example, returning user login information).\n",
    "## Text Manipulation Functions\n",
    "### Tip: UPPERCASE, lowercase, MixedCase\n",
    "As should be clear by now, SQL functions are not case sensitive, so you can\n",
    "use upper(), UPPER(), Upper(), or substr(), SUBSTR(), SubStr(), and so on.\n",
    "Case is a user preference, so do as you choose, but be consistent and don’t\n",
    "keep changing styles in your code; it makes the SQL really hard to read.\n",
    "\n",
    "\n",
    "| Function | Description |\n",
    "|--------|------------|\n",
    "| LEFT() (or use substring function | Returns characters from left of string |\n",
    "| LENGTH() (also DATALENGTH() orLEN()) | Returns the length of a string |\n",
    "| LOWER() | Converts string to lowercase |\n",
    "| LTRIM() | Trims white space from left of string |\n",
    "| RIGHT() (or use substring function) | Returns characters from right of string |\n",
    "| RTRIM() Trims white space from right of string |\n",
    "| SUBSTR() or SUBSTRING() | Extracts part of a string |\n",
    "| SOUNDEX() | Returns a string’s SOUNDEX value |\n",
    "| UPPER() | Converts string to uppercas |\n",
    "\n",
    "\n",
    "## Date and Time Manipulation Functions\n",
    "Date and times are stored in tables using datatypes, and each DBMS uses its own\n",
    "special varieties. date and time functions are almost always used to read,\n",
    "expand, and manipulate these values\n",
    "\n",
    "## Numeric Manipulation Functions\n",
    "These functions tend to be used primarily for algebraic, trigonometric, or geometric\n",
    "calculations and, therefore, are not as frequently used as string or date and time\n",
    "manipulation functions.\n",
    "\n",
    "| Function | Description |\n",
    "|--------|------------|\n",
    "| ABS() | Returns a number’s absolute value |\n",
    "| COS() | Returns the trigonometric cosine of a specified angle |\n",
    "| EXP() | Returns the exponential value of a specific numberPI() Returns the value of PI |\n",
    "| SIN() | Returns the trigonometric sine of a specified angle |\n",
    "| SQRT() | Returns the square root of a specified number |\n",
    "| TAN() | Returns the trigonometric tangent of a specified angle |"
   ]
  },
  {
   "cell_type": "code",
   "execution_count": 91,
   "metadata": {
    "ExecuteTime": {
     "end_time": "2021-07-23T19:01:33.607169Z",
     "start_time": "2021-07-23T19:01:33.592177Z"
    }
   },
   "outputs": [
    {
     "data": {
      "text/html": [
       "<div>\n",
       "<style scoped>\n",
       "    .dataframe tbody tr th:only-of-type {\n",
       "        vertical-align: middle;\n",
       "    }\n",
       "\n",
       "    .dataframe tbody tr th {\n",
       "        vertical-align: top;\n",
       "    }\n",
       "\n",
       "    .dataframe thead th {\n",
       "        text-align: right;\n",
       "    }\n",
       "</style>\n",
       "<table border=\"1\" class=\"dataframe\">\n",
       "  <thead>\n",
       "    <tr style=\"text-align: right;\">\n",
       "      <th></th>\n",
       "      <th>vend_name</th>\n",
       "      <th>vend_name_upcase</th>\n",
       "      <th>vend_name_lowcase</th>\n",
       "    </tr>\n",
       "  </thead>\n",
       "  <tbody>\n",
       "    <tr>\n",
       "      <th>0</th>\n",
       "      <td>Bear Emporium</td>\n",
       "      <td>BEAR EMPORIUM</td>\n",
       "      <td>bear emporium</td>\n",
       "    </tr>\n",
       "    <tr>\n",
       "      <th>1</th>\n",
       "      <td>Bears R Us</td>\n",
       "      <td>BEARS R US</td>\n",
       "      <td>bears r us</td>\n",
       "    </tr>\n",
       "    <tr>\n",
       "      <th>2</th>\n",
       "      <td>Doll House Inc.</td>\n",
       "      <td>DOLL HOUSE INC.</td>\n",
       "      <td>doll house inc.</td>\n",
       "    </tr>\n",
       "    <tr>\n",
       "      <th>3</th>\n",
       "      <td>Fun and Games</td>\n",
       "      <td>FUN AND GAMES</td>\n",
       "      <td>fun and games</td>\n",
       "    </tr>\n",
       "    <tr>\n",
       "      <th>4</th>\n",
       "      <td>Furball Inc.</td>\n",
       "      <td>FURBALL INC.</td>\n",
       "      <td>furball inc.</td>\n",
       "    </tr>\n",
       "    <tr>\n",
       "      <th>5</th>\n",
       "      <td>Jouets et ours</td>\n",
       "      <td>JOUETS ET OURS</td>\n",
       "      <td>jouets et ours</td>\n",
       "    </tr>\n",
       "  </tbody>\n",
       "</table>\n",
       "</div>"
      ],
      "text/plain": [
       "         vend_name vend_name_upcase vend_name_lowcase\n",
       "0    Bear Emporium    BEAR EMPORIUM     bear emporium\n",
       "1       Bears R Us       BEARS R US        bears r us\n",
       "2  Doll House Inc.  DOLL HOUSE INC.   doll house inc.\n",
       "3    Fun and Games    FUN AND GAMES     fun and games\n",
       "4     Furball Inc.     FURBALL INC.      furball inc.\n",
       "5   Jouets et ours   JOUETS ET OURS    jouets et ours"
      ]
     },
     "execution_count": 91,
     "metadata": {},
     "output_type": "execute_result"
    }
   ],
   "source": [
    "query('''\n",
    "SELECT vend_name, UPPER(vend_name) AS vend_name_upcase , LOWER(vend_name) AS vend_name_lowcase\n",
    "FROM Vendors\n",
    "ORDER BY vend_name;\n",
    "''')"
   ]
  },
  {
   "cell_type": "code",
   "execution_count": 92,
   "metadata": {
    "ExecuteTime": {
     "end_time": "2021-07-23T19:01:33.623165Z",
     "start_time": "2021-07-23T19:01:33.608137Z"
    }
   },
   "outputs": [
    {
     "data": {
      "text/html": [
       "<div>\n",
       "<style scoped>\n",
       "    .dataframe tbody tr th:only-of-type {\n",
       "        vertical-align: middle;\n",
       "    }\n",
       "\n",
       "    .dataframe tbody tr th {\n",
       "        vertical-align: top;\n",
       "    }\n",
       "\n",
       "    .dataframe thead th {\n",
       "        text-align: right;\n",
       "    }\n",
       "</style>\n",
       "<table border=\"1\" class=\"dataframe\">\n",
       "  <thead>\n",
       "    <tr style=\"text-align: right;\">\n",
       "      <th></th>\n",
       "      <th>order_date</th>\n",
       "      <th>YEAR(order_date)</th>\n",
       "      <th>order_num</th>\n",
       "    </tr>\n",
       "  </thead>\n",
       "  <tbody>\n",
       "    <tr>\n",
       "      <th>0</th>\n",
       "      <td>2020-05-01</td>\n",
       "      <td>2020</td>\n",
       "      <td>20005</td>\n",
       "    </tr>\n",
       "    <tr>\n",
       "      <th>1</th>\n",
       "      <td>2020-01-12</td>\n",
       "      <td>2020</td>\n",
       "      <td>20006</td>\n",
       "    </tr>\n",
       "    <tr>\n",
       "      <th>2</th>\n",
       "      <td>2020-01-30</td>\n",
       "      <td>2020</td>\n",
       "      <td>20007</td>\n",
       "    </tr>\n",
       "    <tr>\n",
       "      <th>3</th>\n",
       "      <td>2020-02-03</td>\n",
       "      <td>2020</td>\n",
       "      <td>20008</td>\n",
       "    </tr>\n",
       "    <tr>\n",
       "      <th>4</th>\n",
       "      <td>2020-02-08</td>\n",
       "      <td>2020</td>\n",
       "      <td>20009</td>\n",
       "    </tr>\n",
       "  </tbody>\n",
       "</table>\n",
       "</div>"
      ],
      "text/plain": [
       "  order_date  YEAR(order_date)  order_num\n",
       "0 2020-05-01              2020      20005\n",
       "1 2020-01-12              2020      20006\n",
       "2 2020-01-30              2020      20007\n",
       "3 2020-02-03              2020      20008\n",
       "4 2020-02-08              2020      20009"
      ]
     },
     "execution_count": 92,
     "metadata": {},
     "output_type": "execute_result"
    }
   ],
   "source": [
    "query('''\n",
    "SELECT order_date , YEAR(order_date) , order_num \n",
    "FROM Orders \n",
    "WHERE YEAR(order_date) = 2020;\n",
    "\n",
    "''')"
   ]
  },
  {
   "cell_type": "markdown",
   "metadata": {
    "ExecuteTime": {
     "end_time": "2021-07-23T15:57:21.489099Z",
     "start_time": "2021-07-23T15:57:21.480099Z"
    }
   },
   "source": [
    "# Summarizing Data\n",
    "## Using Aggregate Functions\n",
    "It is often necessary to summarize data without actually retrieving it all, and SQL\n",
    "provides special functions for this purpose. Using these functions, SQL queries\n",
    "are often used to retrieve data for analysis and reporting purposes. Examples of\n",
    "this type of retrieval are\n",
    "* Determining the number of rows in a table (or the number of rows that meet some condition or contain a specific value)\n",
    "* Obtaining the sum of a set of rows in a table\n",
    "* Finding the highest, lowest, and average values in a table column (either for all rows or for specific rows)\n",
    "## Aggregate Functions\n",
    "Functions that operate on a set of rows to calculate and return a single value.\n",
    "\n",
    "| Function | Description |\n",
    "|--------|------------|\n",
    "| AVG() | Returns a column’s average value |\n",
    "| COUNT() | Returns the number of rows in a column |\n",
    "| MAX() | Returns a column’s highest value |\n",
    "| MIN() | Returns a column’s lowest value |\n",
    "| SUM() | Returns the sum of a column’s values |\n",
    "\n",
    "### Caution: Individual Columns Only\n",
    "AVG() may only be used to determine the average of a specific numeric\n",
    "column, and that column name must be specified as the function parameter. To\n",
    "obtain the average value of multiple columns, you must use multiple AVG()\n",
    "functions. The exception to this is when returning a single value that iscalculated from multiple columns, as will be explained later in this lesson.\n",
    "### Note: NULL Values\n",
    "Column rows containing NULL values are ignored by the AVG() function.\n",
    "## The count values\n",
    "1. Use COUNT(*) to count the number of rows in a table, whether columns contain values or NULL values.\n",
    "2. Use COUNT(column) to count the number of rows that have values in a specific column, ignoring NULL values.\n",
    "\n",
    "**Column rows with NULL values in them are ignored by the COUNT() function if a column name is specified, but not if the asterisk (*) is used.**\n",
    "\n",
    "### Tip: Using MAX() with Nonnumeric Data\n",
    "Although MAX() is usually used to find the highest numeric or date values,\n",
    "many (but not all) DBMSs allow it to be used to return the highest value in\n",
    "any columns including textual columns. When used with textual data, MAX()\n",
    "returns the row that would be the last if the data were sorted by that column.\n",
    "### Note: NULL Values\n",
    "Column rows with NULL values in them are ignored by the MAX() function\n",
    "\n",
    "### Tip: Using MIN() with Nonnumeric Data\n",
    "Although MIN() is usually used to find the lowest numeric or date values,\n",
    "many (but not all) DBMSs allow it to be used to return the lowest value in\n",
    "any columns including textual columns. When used with textual data, MIN()\n",
    "will return the row that would be first if the data were sorted by that column.\n",
    "### Note: NULL Values\n",
    "Column rows with NULL values in them are ignored by the MIN() function."
   ]
  },
  {
   "cell_type": "code",
   "execution_count": 93,
   "metadata": {
    "ExecuteTime": {
     "end_time": "2021-07-23T19:01:33.639167Z",
     "start_time": "2021-07-23T19:01:33.624167Z"
    }
   },
   "outputs": [
    {
     "data": {
      "text/html": [
       "<div>\n",
       "<style scoped>\n",
       "    .dataframe tbody tr th:only-of-type {\n",
       "        vertical-align: middle;\n",
       "    }\n",
       "\n",
       "    .dataframe tbody tr th {\n",
       "        vertical-align: top;\n",
       "    }\n",
       "\n",
       "    .dataframe thead th {\n",
       "        text-align: right;\n",
       "    }\n",
       "</style>\n",
       "<table border=\"1\" class=\"dataframe\">\n",
       "  <thead>\n",
       "    <tr style=\"text-align: right;\">\n",
       "      <th></th>\n",
       "      <th>avg_price</th>\n",
       "      <th>num_prod_price</th>\n",
       "      <th>num_prod_price</th>\n",
       "      <th>max_price</th>\n",
       "      <th>min_price</th>\n",
       "      <th>items_ordered</th>\n",
       "    </tr>\n",
       "  </thead>\n",
       "  <tbody>\n",
       "    <tr>\n",
       "      <th>0</th>\n",
       "      <td>6.823333</td>\n",
       "      <td>9</td>\n",
       "      <td>9</td>\n",
       "      <td>11.99</td>\n",
       "      <td>3.49</td>\n",
       "      <td>61.41</td>\n",
       "    </tr>\n",
       "  </tbody>\n",
       "</table>\n",
       "</div>"
      ],
      "text/plain": [
       "   avg_price  num_prod_price  num_prod_price  max_price  min_price  \\\n",
       "0   6.823333               9               9      11.99       3.49   \n",
       "\n",
       "   items_ordered  \n",
       "0          61.41  "
      ]
     },
     "execution_count": 93,
     "metadata": {},
     "output_type": "execute_result"
    }
   ],
   "source": [
    "query('''\n",
    "SELECT AVG(prod_price) AS avg_price , COUNT(*) AS num_prod_price , COUNT(prod_price) AS num_prod_price ,\n",
    "MAX(prod_price) AS max_price , MIN(prod_price) AS min_price , SUM(prod_price) AS items_ordered\n",
    "FROM Products;\n",
    "''')"
   ]
  },
  {
   "cell_type": "code",
   "execution_count": 94,
   "metadata": {
    "ExecuteTime": {
     "end_time": "2021-07-23T19:01:33.655165Z",
     "start_time": "2021-07-23T19:01:33.640166Z"
    }
   },
   "outputs": [
    {
     "data": {
      "text/html": [
       "<div>\n",
       "<style scoped>\n",
       "    .dataframe tbody tr th:only-of-type {\n",
       "        vertical-align: middle;\n",
       "    }\n",
       "\n",
       "    .dataframe tbody tr th {\n",
       "        vertical-align: top;\n",
       "    }\n",
       "\n",
       "    .dataframe thead th {\n",
       "        text-align: right;\n",
       "    }\n",
       "</style>\n",
       "<table border=\"1\" class=\"dataframe\">\n",
       "  <thead>\n",
       "    <tr style=\"text-align: right;\">\n",
       "      <th></th>\n",
       "      <th>total_price</th>\n",
       "    </tr>\n",
       "  </thead>\n",
       "  <tbody>\n",
       "    <tr>\n",
       "      <th>0</th>\n",
       "      <td>1648.0</td>\n",
       "    </tr>\n",
       "  </tbody>\n",
       "</table>\n",
       "</div>"
      ],
      "text/plain": [
       "   total_price\n",
       "0       1648.0"
      ]
     },
     "execution_count": 94,
     "metadata": {},
     "output_type": "execute_result"
    }
   ],
   "source": [
    "query(''' SELECT SUM(item_price*quantity) AS total_price\n",
    "FROM OrderItems\n",
    "WHERE order_num = 20005;\n",
    "''')"
   ]
  },
  {
   "cell_type": "markdown",
   "metadata": {},
   "source": [
    "### Tip: Performing Calculations on Multiple Columns\n",
    "All the aggregate functions can be used to perform calculations on multiple\n",
    "columns using the standard mathematical operators, as shown in the example.\n",
    "### Note: NULL Values\n",
    "Column rows with NULL values in them are ignored by the SUM() function\n",
    "## Aggregates on Distinct Values\n",
    "1. To perform calculations on all rows, specify the ALL argument or specify no argument at all (because ALL is the default behavior).\n",
    "2. To include only unique values, specify the DISTINCT argument.\n",
    "\n",
    "### Tip: ALL Is Default\n",
    "The ALL argument need not be specified because it is the default behavior. If\n",
    "DISTINCT is not specified, ALL is assumed.\n",
    "\n",
    "### Caution: No DISTINCT with COUNT(*)\n",
    "DISTINCT may only be used with COUNT() if a column name is specified.\n",
    "DISTINCT may not be used with COUNT(*). Similarly, DISTINCT must be used\n",
    "with a column name and not with a calculation or expression.\n",
    "### Tip: Using DISTINCT with MIN() and MAX()\n",
    "Although DISTINCT can technically be used with MIN() and MAX(), there is\n",
    "actually no value in doing so. The minimum and maximum values in a column\n",
    "will be the same whether or not only distinct values are included.\n",
    "\n",
    "### Note: Additional Aggregate Arguments\n",
    "In addition to the DISTINCT and ALL arguments shown here, some DBMSs\n",
    "support additional arguments such as TOP and TOP PERCENT that let you\n",
    "perform calculations on subsets of query results. Refer to your DBMS\n",
    "documentation to determine exactly what arguments are available to you.\n",
    "\n",
    "### Caution: Naming Aliases\n",
    "When specifying alias names to contain the results of an aggregate function,\n",
    "try to not use the name of an actual column in the table. Although there is\n",
    "nothing actually illegal about doing so, many SQL implementations do not\n",
    "support this and will generate obscure error messages if you do so."
   ]
  },
  {
   "cell_type": "code",
   "execution_count": 95,
   "metadata": {
    "ExecuteTime": {
     "end_time": "2021-07-23T19:01:33.671169Z",
     "start_time": "2021-07-23T19:01:33.656137Z"
    }
   },
   "outputs": [
    {
     "data": {
      "text/html": [
       "<div>\n",
       "<style scoped>\n",
       "    .dataframe tbody tr th:only-of-type {\n",
       "        vertical-align: middle;\n",
       "    }\n",
       "\n",
       "    .dataframe tbody tr th {\n",
       "        vertical-align: top;\n",
       "    }\n",
       "\n",
       "    .dataframe thead th {\n",
       "        text-align: right;\n",
       "    }\n",
       "</style>\n",
       "<table border=\"1\" class=\"dataframe\">\n",
       "  <thead>\n",
       "    <tr style=\"text-align: right;\">\n",
       "      <th></th>\n",
       "      <th>prod_id</th>\n",
       "      <th>vend_id</th>\n",
       "      <th>prod_name</th>\n",
       "      <th>prod_price</th>\n",
       "      <th>prod_desc</th>\n",
       "    </tr>\n",
       "  </thead>\n",
       "  <tbody>\n",
       "    <tr>\n",
       "      <th>0</th>\n",
       "      <td>BNBG01</td>\n",
       "      <td>DLL01</td>\n",
       "      <td>Fish bean bag toy</td>\n",
       "      <td>3.49</td>\n",
       "      <td>Fish bean bag toy, complete with bean bag worm...</td>\n",
       "    </tr>\n",
       "    <tr>\n",
       "      <th>1</th>\n",
       "      <td>BNBG02</td>\n",
       "      <td>DLL01</td>\n",
       "      <td>Bird bean bag toy</td>\n",
       "      <td>3.49</td>\n",
       "      <td>Bird bean bag toy, eggs are not included</td>\n",
       "    </tr>\n",
       "    <tr>\n",
       "      <th>2</th>\n",
       "      <td>BNBG03</td>\n",
       "      <td>DLL01</td>\n",
       "      <td>Rabbit bean bag toy</td>\n",
       "      <td>3.49</td>\n",
       "      <td>Rabbit bean bag toy, comes with bean bag carrots</td>\n",
       "    </tr>\n",
       "    <tr>\n",
       "      <th>3</th>\n",
       "      <td>RGAN01</td>\n",
       "      <td>DLL01</td>\n",
       "      <td>Raggedy Ann</td>\n",
       "      <td>4.99</td>\n",
       "      <td>18 inch Raggedy Ann doll</td>\n",
       "    </tr>\n",
       "  </tbody>\n",
       "</table>\n",
       "</div>"
      ],
      "text/plain": [
       "  prod_id vend_id            prod_name  prod_price  \\\n",
       "0  BNBG01   DLL01    Fish bean bag toy        3.49   \n",
       "1  BNBG02   DLL01    Bird bean bag toy        3.49   \n",
       "2  BNBG03   DLL01  Rabbit bean bag toy        3.49   \n",
       "3  RGAN01   DLL01          Raggedy Ann        4.99   \n",
       "\n",
       "                                           prod_desc  \n",
       "0  Fish bean bag toy, complete with bean bag worm...  \n",
       "1           Bird bean bag toy, eggs are not included  \n",
       "2   Rabbit bean bag toy, comes with bean bag carrots  \n",
       "3                           18 inch Raggedy Ann doll  "
      ]
     },
     "execution_count": 95,
     "metadata": {},
     "output_type": "execute_result"
    }
   ],
   "source": [
    "query('''\n",
    "SELECT *\n",
    "FROM Products\n",
    "WHERE vend_id = 'DLL01';\n",
    "\n",
    "''')"
   ]
  },
  {
   "cell_type": "code",
   "execution_count": 96,
   "metadata": {
    "ExecuteTime": {
     "end_time": "2021-07-23T19:01:33.687135Z",
     "start_time": "2021-07-23T19:01:33.672137Z"
    }
   },
   "outputs": [
    {
     "data": {
      "text/html": [
       "<div>\n",
       "<style scoped>\n",
       "    .dataframe tbody tr th:only-of-type {\n",
       "        vertical-align: middle;\n",
       "    }\n",
       "\n",
       "    .dataframe tbody tr th {\n",
       "        vertical-align: top;\n",
       "    }\n",
       "\n",
       "    .dataframe thead th {\n",
       "        text-align: right;\n",
       "    }\n",
       "</style>\n",
       "<table border=\"1\" class=\"dataframe\">\n",
       "  <thead>\n",
       "    <tr style=\"text-align: right;\">\n",
       "      <th></th>\n",
       "      <th>avg_price</th>\n",
       "    </tr>\n",
       "  </thead>\n",
       "  <tbody>\n",
       "    <tr>\n",
       "      <th>0</th>\n",
       "      <td>3.865</td>\n",
       "    </tr>\n",
       "  </tbody>\n",
       "</table>\n",
       "</div>"
      ],
      "text/plain": [
       "   avg_price\n",
       "0      3.865"
      ]
     },
     "execution_count": 96,
     "metadata": {},
     "output_type": "execute_result"
    }
   ],
   "source": [
    "query('''\n",
    "SELECT AVG( prod_price) AS avg_price\n",
    "FROM Products\n",
    "WHERE vend_id = 'DLL01';\n",
    "\n",
    "''')\n",
    "\n",
    "### "
   ]
  },
  {
   "cell_type": "code",
   "execution_count": 97,
   "metadata": {
    "ExecuteTime": {
     "end_time": "2021-07-23T19:01:33.703138Z",
     "start_time": "2021-07-23T19:01:33.688171Z"
    }
   },
   "outputs": [
    {
     "data": {
      "text/html": [
       "<div>\n",
       "<style scoped>\n",
       "    .dataframe tbody tr th:only-of-type {\n",
       "        vertical-align: middle;\n",
       "    }\n",
       "\n",
       "    .dataframe tbody tr th {\n",
       "        vertical-align: top;\n",
       "    }\n",
       "\n",
       "    .dataframe thead th {\n",
       "        text-align: right;\n",
       "    }\n",
       "</style>\n",
       "<table border=\"1\" class=\"dataframe\">\n",
       "  <thead>\n",
       "    <tr style=\"text-align: right;\">\n",
       "      <th></th>\n",
       "      <th>avg_price</th>\n",
       "    </tr>\n",
       "  </thead>\n",
       "  <tbody>\n",
       "    <tr>\n",
       "      <th>0</th>\n",
       "      <td>4.24</td>\n",
       "    </tr>\n",
       "  </tbody>\n",
       "</table>\n",
       "</div>"
      ],
      "text/plain": [
       "   avg_price\n",
       "0       4.24"
      ]
     },
     "execution_count": 97,
     "metadata": {},
     "output_type": "execute_result"
    }
   ],
   "source": [
    "query('''\n",
    "SELECT AVG(DISTINCT prod_price) AS avg_price\n",
    "FROM Products\n",
    "WHERE vend_id = 'DLL01';\n",
    "\n",
    "''')"
   ]
  },
  {
   "cell_type": "markdown",
   "metadata": {},
   "source": [
    "# Grouping Data\n",
    "Groups are created using the GROUP BY clause in your SELECT statement.\n",
    "\n",
    "1. GROUP BY clauses can contain as many columns as you want. This enables you to nest groups, providing you with more granular control over how data is grouped.\n",
    "2. If you have nested groups in your GROUP BY clause, data is summarized at the last specified group. In other words, all the columns specified are evaluated together when grouping is established (so you won’t get data back for each individual column level).\n",
    "3. Every column listed in GROUP BY must be a retrieved column or a valid expression (but not an aggregate function). If an expression is used in theSELECT, that same expression must be specified in GROUP BY. Aliases cannot be used.\n",
    "4. Most SQL implementations do not allow GROUP BY columns with variablelength datatypes (such as text or memo fields).\n",
    "5. Aside from the aggregate calculation statements, every column in your SELECT statement must be present in the GROUP BY clause.\n",
    "6. If the grouping column contains a row with a NULL value, NULL will be returned as a group. If there are multiple rows with NULL values, they’ll all be grouped together. \n",
    "\n",
    "7. The GROUP BY clause must come after any WHERE clause and before any ORDER BY clause.\n",
    "\n",
    "## Filtering Groups\n",
    "In addition to being able to group data using GROUP BY, SQL also allows you to\n",
    "filter which groups to include and which to exclude. For example, you might want\n",
    "a list of all customers who have made at least two orders. To obtain this data, you\n",
    "must filter based on the complete group, not on individual rows.\n",
    "\n",
    "### Tip: The ALL Clause\n",
    "Some SQL implementations (such as Microsoft SQL Server) support an\n",
    "optional ALL clause within GROUP BY. This clause can be used to return all\n",
    "groups, even those that have no matching rows (in which case the aggregate\n",
    "would return NULL). Refer to your DBMS documentation to see if it supports\n",
    "ALL.\n",
    "### Caution: Specifying Columns by Relative Position\n",
    "Some SQL implementations allow you to specify GROUP BY columns by the\n",
    "position in the SELECT list. For example, GROUP BY 2,1 can mean group by the\n",
    "second column selected and then by the first. Although this shorthand syntax\n",
    "is convenient, it is not supported by all SQL implementations. Its use is also\n",
    "risky in that it is highly susceptible to the introduction of errors when editing\n",
    "SQL statements.\n",
    "\n",
    "### Tip: HAVING Supports All WHERE’s Operators\n",
    "In Lesson  “Advanced Data Filtering,” you learned about\n",
    "WHERE clause conditions (including wildcard conditions and clauses with\n",
    "multiple operators). All the techniques and options that you’ve learned about\n",
    "WHERE can be applied to HAVING. The syntax is identical; just the keyword is\n",
    "different."
   ]
  },
  {
   "cell_type": "code",
   "execution_count": 98,
   "metadata": {
    "ExecuteTime": {
     "end_time": "2021-07-23T19:01:33.719138Z",
     "start_time": "2021-07-23T19:01:33.704156Z"
    }
   },
   "outputs": [
    {
     "data": {
      "text/html": [
       "<div>\n",
       "<style scoped>\n",
       "    .dataframe tbody tr th:only-of-type {\n",
       "        vertical-align: middle;\n",
       "    }\n",
       "\n",
       "    .dataframe tbody tr th {\n",
       "        vertical-align: top;\n",
       "    }\n",
       "\n",
       "    .dataframe thead th {\n",
       "        text-align: right;\n",
       "    }\n",
       "</style>\n",
       "<table border=\"1\" class=\"dataframe\">\n",
       "  <thead>\n",
       "    <tr style=\"text-align: right;\">\n",
       "      <th></th>\n",
       "      <th>vend_id</th>\n",
       "      <th>num_prods</th>\n",
       "    </tr>\n",
       "  </thead>\n",
       "  <tbody>\n",
       "    <tr>\n",
       "      <th>0</th>\n",
       "      <td>BRS01</td>\n",
       "      <td>3</td>\n",
       "    </tr>\n",
       "    <tr>\n",
       "      <th>1</th>\n",
       "      <td>DLL01</td>\n",
       "      <td>4</td>\n",
       "    </tr>\n",
       "    <tr>\n",
       "      <th>2</th>\n",
       "      <td>FNG01</td>\n",
       "      <td>2</td>\n",
       "    </tr>\n",
       "  </tbody>\n",
       "</table>\n",
       "</div>"
      ],
      "text/plain": [
       "  vend_id  num_prods\n",
       "0   BRS01          3\n",
       "1   DLL01          4\n",
       "2   FNG01          2"
      ]
     },
     "execution_count": 98,
     "metadata": {},
     "output_type": "execute_result"
    }
   ],
   "source": [
    "query('''\n",
    "SELECT vend_id, COUNT(*) AS num_prods\n",
    "FROM Products\n",
    "GROUP BY vend_id;\n",
    "\n",
    "''')"
   ]
  },
  {
   "cell_type": "markdown",
   "metadata": {},
   "source": [
    "### Note: The Difference Between HAVING and WHERE\n",
    "Here’s another way to look it: WHERE filters before data is grouped, and\n",
    "HAVING filters after data is grouped. This is an important distinction; rows that\n",
    "are eliminated by a WHERE clause will not be included in the group. This could\n",
    "change the calculated values, which in turn could affect which groups are\n",
    "filtered based on the use of those values in the HAVING clause.\n",
    "\n",
    "### Note: Using HAVING and WHERE\n",
    "HAVING is so similar to WHERE that most DBMSs treat them as the same thing if\n",
    "no GROUP BY is specified. Nevertheless, you should make that distinction\n",
    "yourself. Use HAVING only in conjunction with GROUP BY clauses. Use WHERE\n",
    "for standard row-level filtering.\n",
    "\n",
    "| ORDER BY | GROUP BY |\n",
    "|--------|------------|\n",
    "| Sorts generated output. | Groups rows. The output might not be in group order, however. |\n",
    "| Any columns (even columns not selected) may be used. | Only selected columns or expressions columns may be used, and every selected column expression must be used. |\n",
    "| Never required. | Required if using columns (or expressions) withaggregate functions. |\n",
    "\n",
    "### Tip: Don’t Forget ORDER BY\n",
    "As a rule, anytime you use a GROUP BY clause, you should also specify an\n",
    "ORDER BY clause. That is the only way to ensure that data will be sorted\n",
    "properly. Never rely on GROUP BY to sort your data."
   ]
  },
  {
   "cell_type": "code",
   "execution_count": 101,
   "metadata": {
    "ExecuteTime": {
     "end_time": "2021-07-23T19:01:39.313486Z",
     "start_time": "2021-07-23T19:01:39.290479Z"
    }
   },
   "outputs": [
    {
     "data": {
      "text/html": [
       "<div>\n",
       "<style scoped>\n",
       "    .dataframe tbody tr th:only-of-type {\n",
       "        vertical-align: middle;\n",
       "    }\n",
       "\n",
       "    .dataframe tbody tr th {\n",
       "        vertical-align: top;\n",
       "    }\n",
       "\n",
       "    .dataframe thead th {\n",
       "        text-align: right;\n",
       "    }\n",
       "</style>\n",
       "<table border=\"1\" class=\"dataframe\">\n",
       "  <thead>\n",
       "    <tr style=\"text-align: right;\">\n",
       "      <th></th>\n",
       "      <th>cust_id</th>\n",
       "      <th>orders</th>\n",
       "    </tr>\n",
       "  </thead>\n",
       "  <tbody>\n",
       "    <tr>\n",
       "      <th>0</th>\n",
       "      <td>1000000001</td>\n",
       "      <td>2</td>\n",
       "    </tr>\n",
       "  </tbody>\n",
       "</table>\n",
       "</div>"
      ],
      "text/plain": [
       "      cust_id  orders\n",
       "0  1000000001       2"
      ]
     },
     "execution_count": 101,
     "metadata": {},
     "output_type": "execute_result"
    }
   ],
   "source": [
    "query('''\n",
    "SELECT cust_id, COUNT(*) AS orders\n",
    "FROM Orders\n",
    "GROUP BY cust_id\n",
    "HAVING COUNT(*) >= 2;\n",
    "''')"
   ]
  },
  {
   "cell_type": "code",
   "execution_count": 103,
   "metadata": {
    "ExecuteTime": {
     "end_time": "2021-07-23T19:02:33.869726Z",
     "start_time": "2021-07-23T19:02:33.852698Z"
    }
   },
   "outputs": [
    {
     "data": {
      "text/html": [
       "<div>\n",
       "<style scoped>\n",
       "    .dataframe tbody tr th:only-of-type {\n",
       "        vertical-align: middle;\n",
       "    }\n",
       "\n",
       "    .dataframe tbody tr th {\n",
       "        vertical-align: top;\n",
       "    }\n",
       "\n",
       "    .dataframe thead th {\n",
       "        text-align: right;\n",
       "    }\n",
       "</style>\n",
       "<table border=\"1\" class=\"dataframe\">\n",
       "  <thead>\n",
       "    <tr style=\"text-align: right;\">\n",
       "      <th></th>\n",
       "      <th>vend_id</th>\n",
       "      <th>num_prods</th>\n",
       "    </tr>\n",
       "  </thead>\n",
       "  <tbody>\n",
       "    <tr>\n",
       "      <th>0</th>\n",
       "      <td>BRS01</td>\n",
       "      <td>3</td>\n",
       "    </tr>\n",
       "    <tr>\n",
       "      <th>1</th>\n",
       "      <td>DLL01</td>\n",
       "      <td>4</td>\n",
       "    </tr>\n",
       "  </tbody>\n",
       "</table>\n",
       "</div>"
      ],
      "text/plain": [
       "  vend_id  num_prods\n",
       "0   BRS01          3\n",
       "1   DLL01          4"
      ]
     },
     "execution_count": 103,
     "metadata": {},
     "output_type": "execute_result"
    }
   ],
   "source": [
    "query('''\n",
    "SELECT vend_id, COUNT(*) AS num_prods\n",
    "FROM Products\n",
    "GROUP BY vend_id\n",
    "HAVING COUNT(*) > 2;\n",
    "''')"
   ]
  },
  {
   "cell_type": "code",
   "execution_count": 105,
   "metadata": {
    "ExecuteTime": {
     "end_time": "2021-07-23T19:22:46.418845Z",
     "start_time": "2021-07-23T19:22:46.407284Z"
    }
   },
   "outputs": [
    {
     "data": {
      "text/html": [
       "<div>\n",
       "<style scoped>\n",
       "    .dataframe tbody tr th:only-of-type {\n",
       "        vertical-align: middle;\n",
       "    }\n",
       "\n",
       "    .dataframe tbody tr th {\n",
       "        vertical-align: top;\n",
       "    }\n",
       "\n",
       "    .dataframe thead th {\n",
       "        text-align: right;\n",
       "    }\n",
       "</style>\n",
       "<table border=\"1\" class=\"dataframe\">\n",
       "  <thead>\n",
       "    <tr style=\"text-align: right;\">\n",
       "      <th></th>\n",
       "      <th>order_num</th>\n",
       "      <th>items</th>\n",
       "    </tr>\n",
       "  </thead>\n",
       "  <tbody>\n",
       "    <tr>\n",
       "      <th>0</th>\n",
       "      <td>20006</td>\n",
       "      <td>3</td>\n",
       "    </tr>\n",
       "    <tr>\n",
       "      <th>1</th>\n",
       "      <td>20009</td>\n",
       "      <td>3</td>\n",
       "    </tr>\n",
       "    <tr>\n",
       "      <th>2</th>\n",
       "      <td>20007</td>\n",
       "      <td>5</td>\n",
       "    </tr>\n",
       "    <tr>\n",
       "      <th>3</th>\n",
       "      <td>20008</td>\n",
       "      <td>5</td>\n",
       "    </tr>\n",
       "  </tbody>\n",
       "</table>\n",
       "</div>"
      ],
      "text/plain": [
       "   order_num  items\n",
       "0      20006      3\n",
       "1      20009      3\n",
       "2      20007      5\n",
       "3      20008      5"
      ]
     },
     "execution_count": 105,
     "metadata": {},
     "output_type": "execute_result"
    }
   ],
   "source": [
    "query('''\n",
    "SELECT order_num, COUNT(*) AS items\n",
    "FROM OrderItems\n",
    "GROUP BY order_num\n",
    "HAVING COUNT(*) >= 3\n",
    "ORDER BY items, order_num;\n",
    "''')"
   ]
  },
  {
   "cell_type": "markdown",
   "metadata": {},
   "source": [
    "## SELECT Clause Ordering\n",
    "| Clause | Description | Required |\n",
    "|--------|-------------|----------|\n",
    "| SELECT | **Columns or expressions to be returned** | **Yes** |\n",
    "| FROM | **Table to retrieve data from** | **Only if selecting data from a table** |\n",
    "| WHERE | **Row-level filtering** | **No** |\n",
    "| GROUP BY | **Group specification** | **Only if calculating aggregates by group** |\n",
    "| HAVING | **Group-level filtering** | **No** |\n",
    "| ORDER BY | **Output sort order** | **No** |"
   ]
  },
  {
   "cell_type": "markdown",
   "metadata": {},
   "source": [
    "# Working with Subqueries\n",
    "## Query\n",
    "Any SQL statement. However, the term is usually used to refer to SELECT\n",
    "statements."
   ]
  },
  {
   "cell_type": "code",
   "execution_count": 109,
   "metadata": {
    "ExecuteTime": {
     "end_time": "2021-07-23T19:33:17.128206Z",
     "start_time": "2021-07-23T19:33:17.110169Z"
    }
   },
   "outputs": [
    {
     "data": {
      "text/html": [
       "<div>\n",
       "<style scoped>\n",
       "    .dataframe tbody tr th:only-of-type {\n",
       "        vertical-align: middle;\n",
       "    }\n",
       "\n",
       "    .dataframe tbody tr th {\n",
       "        vertical-align: top;\n",
       "    }\n",
       "\n",
       "    .dataframe thead th {\n",
       "        text-align: right;\n",
       "    }\n",
       "</style>\n",
       "<table border=\"1\" class=\"dataframe\">\n",
       "  <thead>\n",
       "    <tr style=\"text-align: right;\">\n",
       "      <th></th>\n",
       "      <th>cust_id</th>\n",
       "      <th>order_num</th>\n",
       "    </tr>\n",
       "  </thead>\n",
       "  <tbody>\n",
       "    <tr>\n",
       "      <th>0</th>\n",
       "      <td>1000000001</td>\n",
       "      <td>20005</td>\n",
       "    </tr>\n",
       "    <tr>\n",
       "      <th>1</th>\n",
       "      <td>1000000001</td>\n",
       "      <td>20009</td>\n",
       "    </tr>\n",
       "    <tr>\n",
       "      <th>2</th>\n",
       "      <td>1000000003</td>\n",
       "      <td>20006</td>\n",
       "    </tr>\n",
       "    <tr>\n",
       "      <th>3</th>\n",
       "      <td>1000000004</td>\n",
       "      <td>20007</td>\n",
       "    </tr>\n",
       "    <tr>\n",
       "      <th>4</th>\n",
       "      <td>1000000005</td>\n",
       "      <td>20008</td>\n",
       "    </tr>\n",
       "  </tbody>\n",
       "</table>\n",
       "</div>"
      ],
      "text/plain": [
       "      cust_id  order_num\n",
       "0  1000000001      20005\n",
       "1  1000000001      20009\n",
       "2  1000000003      20006\n",
       "3  1000000004      20007\n",
       "4  1000000005      20008"
      ]
     },
     "execution_count": 109,
     "metadata": {},
     "output_type": "execute_result"
    }
   ],
   "source": [
    "query('''\n",
    "SELECT cust_id , order_num\n",
    "FROM Orders\n",
    "WHERE order_num \n",
    "''')"
   ]
  },
  {
   "cell_type": "code",
   "execution_count": 107,
   "metadata": {
    "ExecuteTime": {
     "end_time": "2021-07-23T19:32:52.479626Z",
     "start_time": "2021-07-23T19:32:52.458538Z"
    }
   },
   "outputs": [
    {
     "data": {
      "text/html": [
       "<div>\n",
       "<style scoped>\n",
       "    .dataframe tbody tr th:only-of-type {\n",
       "        vertical-align: middle;\n",
       "    }\n",
       "\n",
       "    .dataframe tbody tr th {\n",
       "        vertical-align: top;\n",
       "    }\n",
       "\n",
       "    .dataframe thead th {\n",
       "        text-align: right;\n",
       "    }\n",
       "</style>\n",
       "<table border=\"1\" class=\"dataframe\">\n",
       "  <thead>\n",
       "    <tr style=\"text-align: right;\">\n",
       "      <th></th>\n",
       "      <th>order_num</th>\n",
       "    </tr>\n",
       "  </thead>\n",
       "  <tbody>\n",
       "    <tr>\n",
       "      <th>0</th>\n",
       "      <td>20007</td>\n",
       "    </tr>\n",
       "    <tr>\n",
       "      <th>1</th>\n",
       "      <td>20008</td>\n",
       "    </tr>\n",
       "  </tbody>\n",
       "</table>\n",
       "</div>"
      ],
      "text/plain": [
       "   order_num\n",
       "0      20007\n",
       "1      20008"
      ]
     },
     "execution_count": 107,
     "metadata": {},
     "output_type": "execute_result"
    }
   ],
   "source": [
    "query('''\n",
    "SELECT order_num\n",
    "FROM OrderItems\n",
    "WHERE prod_id = 'RGAN01'\n",
    "''')"
   ]
  },
  {
   "cell_type": "code",
   "execution_count": 110,
   "metadata": {
    "ExecuteTime": {
     "end_time": "2021-07-23T19:35:00.444325Z",
     "start_time": "2021-07-23T19:35:00.431548Z"
    }
   },
   "outputs": [
    {
     "data": {
      "text/html": [
       "<div>\n",
       "<style scoped>\n",
       "    .dataframe tbody tr th:only-of-type {\n",
       "        vertical-align: middle;\n",
       "    }\n",
       "\n",
       "    .dataframe tbody tr th {\n",
       "        vertical-align: top;\n",
       "    }\n",
       "\n",
       "    .dataframe thead th {\n",
       "        text-align: right;\n",
       "    }\n",
       "</style>\n",
       "<table border=\"1\" class=\"dataframe\">\n",
       "  <thead>\n",
       "    <tr style=\"text-align: right;\">\n",
       "      <th></th>\n",
       "      <th>cust_id</th>\n",
       "    </tr>\n",
       "  </thead>\n",
       "  <tbody>\n",
       "    <tr>\n",
       "      <th>0</th>\n",
       "      <td>1000000004</td>\n",
       "    </tr>\n",
       "    <tr>\n",
       "      <th>1</th>\n",
       "      <td>1000000005</td>\n",
       "    </tr>\n",
       "  </tbody>\n",
       "</table>\n",
       "</div>"
      ],
      "text/plain": [
       "      cust_id\n",
       "0  1000000004\n",
       "1  1000000005"
      ]
     },
     "execution_count": 110,
     "metadata": {},
     "output_type": "execute_result"
    }
   ],
   "source": [
    "query('''\n",
    "SELECT cust_id\n",
    "FROM Orders\n",
    "WHERE order_num IN (20007 , 20008)\n",
    "''')"
   ]
  },
  {
   "cell_type": "code",
   "execution_count": 106,
   "metadata": {
    "ExecuteTime": {
     "end_time": "2021-07-23T19:32:25.793241Z",
     "start_time": "2021-07-23T19:32:25.775241Z"
    }
   },
   "outputs": [
    {
     "data": {
      "text/html": [
       "<div>\n",
       "<style scoped>\n",
       "    .dataframe tbody tr th:only-of-type {\n",
       "        vertical-align: middle;\n",
       "    }\n",
       "\n",
       "    .dataframe tbody tr th {\n",
       "        vertical-align: top;\n",
       "    }\n",
       "\n",
       "    .dataframe thead th {\n",
       "        text-align: right;\n",
       "    }\n",
       "</style>\n",
       "<table border=\"1\" class=\"dataframe\">\n",
       "  <thead>\n",
       "    <tr style=\"text-align: right;\">\n",
       "      <th></th>\n",
       "      <th>cust_id</th>\n",
       "    </tr>\n",
       "  </thead>\n",
       "  <tbody>\n",
       "    <tr>\n",
       "      <th>0</th>\n",
       "      <td>1000000004</td>\n",
       "    </tr>\n",
       "    <tr>\n",
       "      <th>1</th>\n",
       "      <td>1000000005</td>\n",
       "    </tr>\n",
       "  </tbody>\n",
       "</table>\n",
       "</div>"
      ],
      "text/plain": [
       "      cust_id\n",
       "0  1000000004\n",
       "1  1000000005"
      ]
     },
     "execution_count": 106,
     "metadata": {},
     "output_type": "execute_result"
    }
   ],
   "source": [
    "query('''\n",
    "SELECT cust_id\n",
    "FROM Orders\n",
    "WHERE order_num IN (SELECT order_num\n",
    "FROM OrderItems\n",
    "WHERE prod_id = 'RGAN01')\n",
    "''')"
   ]
  },
  {
   "cell_type": "code",
   "execution_count": 112,
   "metadata": {
    "ExecuteTime": {
     "end_time": "2021-07-23T19:35:48.966438Z",
     "start_time": "2021-07-23T19:35:48.959408Z"
    }
   },
   "outputs": [
    {
     "data": {
      "text/html": [
       "<div>\n",
       "<style scoped>\n",
       "    .dataframe tbody tr th:only-of-type {\n",
       "        vertical-align: middle;\n",
       "    }\n",
       "\n",
       "    .dataframe tbody tr th {\n",
       "        vertical-align: top;\n",
       "    }\n",
       "\n",
       "    .dataframe thead th {\n",
       "        text-align: right;\n",
       "    }\n",
       "</style>\n",
       "<table border=\"1\" class=\"dataframe\">\n",
       "  <thead>\n",
       "    <tr style=\"text-align: right;\">\n",
       "      <th></th>\n",
       "      <th>cust_name</th>\n",
       "      <th>cust_contact</th>\n",
       "    </tr>\n",
       "  </thead>\n",
       "  <tbody>\n",
       "    <tr>\n",
       "      <th>0</th>\n",
       "      <td>Fun4All</td>\n",
       "      <td>Denise L. Stephens</td>\n",
       "    </tr>\n",
       "    <tr>\n",
       "      <th>1</th>\n",
       "      <td>The Toy Store</td>\n",
       "      <td>Kim Howard</td>\n",
       "    </tr>\n",
       "  </tbody>\n",
       "</table>\n",
       "</div>"
      ],
      "text/plain": [
       "       cust_name        cust_contact\n",
       "0        Fun4All  Denise L. Stephens\n",
       "1  The Toy Store          Kim Howard"
      ]
     },
     "execution_count": 112,
     "metadata": {},
     "output_type": "execute_result"
    }
   ],
   "source": [
    "query('''\n",
    "SELECT cust_name, cust_contact\n",
    "FROM Customers\n",
    "WHERE cust_id IN (1000000004,1000000005);\n",
    "''')"
   ]
  },
  {
   "cell_type": "markdown",
   "metadata": {},
   "source": [
    "on nasted query and subqueries, the top-level query actually returned the desired data.\n",
    "### Caution: Single Column Only\n",
    "Subquery SELECT statements can only retrieve a single column. Attempting to\n",
    "retrieve multiple columns will return an error.\n",
    "### Caution: Subqueries and Performance\n",
    "The code shown here works, and it achieves the desired result. However,\n",
    "using subqueries is not always the most efficient way to perform this type of\n",
    "data retrieval. "
   ]
  },
  {
   "cell_type": "code",
   "execution_count": 113,
   "metadata": {
    "ExecuteTime": {
     "end_time": "2021-07-23T19:36:22.043262Z",
     "start_time": "2021-07-23T19:36:22.031926Z"
    }
   },
   "outputs": [
    {
     "data": {
      "text/html": [
       "<div>\n",
       "<style scoped>\n",
       "    .dataframe tbody tr th:only-of-type {\n",
       "        vertical-align: middle;\n",
       "    }\n",
       "\n",
       "    .dataframe tbody tr th {\n",
       "        vertical-align: top;\n",
       "    }\n",
       "\n",
       "    .dataframe thead th {\n",
       "        text-align: right;\n",
       "    }\n",
       "</style>\n",
       "<table border=\"1\" class=\"dataframe\">\n",
       "  <thead>\n",
       "    <tr style=\"text-align: right;\">\n",
       "      <th></th>\n",
       "      <th>cust_name</th>\n",
       "      <th>cust_contact</th>\n",
       "    </tr>\n",
       "  </thead>\n",
       "  <tbody>\n",
       "    <tr>\n",
       "      <th>0</th>\n",
       "      <td>Fun4All</td>\n",
       "      <td>Denise L. Stephens</td>\n",
       "    </tr>\n",
       "    <tr>\n",
       "      <th>1</th>\n",
       "      <td>The Toy Store</td>\n",
       "      <td>Kim Howard</td>\n",
       "    </tr>\n",
       "  </tbody>\n",
       "</table>\n",
       "</div>"
      ],
      "text/plain": [
       "       cust_name        cust_contact\n",
       "0        Fun4All  Denise L. Stephens\n",
       "1  The Toy Store          Kim Howard"
      ]
     },
     "execution_count": 113,
     "metadata": {},
     "output_type": "execute_result"
    }
   ],
   "source": [
    "query('''\n",
    "SELECT cust_name, cust_contact\n",
    "FROM Customers\n",
    "WHERE cust_id IN (SELECT cust_id\n",
    "FROM Orders\n",
    "WHERE order_num IN (SELECT order_num\n",
    "FROM OrderItems\n",
    "WHERE prod_id = 'RGAN01'));\n",
    "''')"
   ]
  },
  {
   "cell_type": "markdown",
   "metadata": {},
   "source": [
    "## Using Subqueries as Calculated Fields\n",
    "Suppose you\n",
    "wanted to display the total number of orders placed by every customer in your\n",
    "Customers table. Orders are stored in the Orders table along with the appropriate\n",
    "customer ID.\n",
    "To perform this operation, follow these steps:\n",
    "1. Retrieve the list of customers from the Customers table.\n",
    "2. For each customer retrieved, count the number of associated orders in the Orders table."
   ]
  },
  {
   "cell_type": "code",
   "execution_count": 115,
   "metadata": {
    "ExecuteTime": {
     "end_time": "2021-07-23T19:40:34.983002Z",
     "start_time": "2021-07-23T19:40:34.967407Z"
    }
   },
   "outputs": [
    {
     "data": {
      "text/html": [
       "<div>\n",
       "<style scoped>\n",
       "    .dataframe tbody tr th:only-of-type {\n",
       "        vertical-align: middle;\n",
       "    }\n",
       "\n",
       "    .dataframe tbody tr th {\n",
       "        vertical-align: top;\n",
       "    }\n",
       "\n",
       "    .dataframe thead th {\n",
       "        text-align: right;\n",
       "    }\n",
       "</style>\n",
       "<table border=\"1\" class=\"dataframe\">\n",
       "  <thead>\n",
       "    <tr style=\"text-align: right;\">\n",
       "      <th></th>\n",
       "      <th>orders</th>\n",
       "    </tr>\n",
       "  </thead>\n",
       "  <tbody>\n",
       "    <tr>\n",
       "      <th>0</th>\n",
       "      <td>2</td>\n",
       "    </tr>\n",
       "  </tbody>\n",
       "</table>\n",
       "</div>"
      ],
      "text/plain": [
       "   orders\n",
       "0       2"
      ]
     },
     "execution_count": 115,
     "metadata": {},
     "output_type": "execute_result"
    }
   ],
   "source": [
    "query('''\n",
    "SELECT COUNT(*) AS orders FROM Orders\n",
    "WHERE cust_id = 1000000001;\n",
    "''')"
   ]
  },
  {
   "cell_type": "code",
   "execution_count": 116,
   "metadata": {
    "ExecuteTime": {
     "end_time": "2021-07-23T19:40:55.704569Z",
     "start_time": "2021-07-23T19:40:55.690540Z"
    }
   },
   "outputs": [
    {
     "data": {
      "text/html": [
       "<div>\n",
       "<style scoped>\n",
       "    .dataframe tbody tr th:only-of-type {\n",
       "        vertical-align: middle;\n",
       "    }\n",
       "\n",
       "    .dataframe tbody tr th {\n",
       "        vertical-align: top;\n",
       "    }\n",
       "\n",
       "    .dataframe thead th {\n",
       "        text-align: right;\n",
       "    }\n",
       "</style>\n",
       "<table border=\"1\" class=\"dataframe\">\n",
       "  <thead>\n",
       "    <tr style=\"text-align: right;\">\n",
       "      <th></th>\n",
       "      <th>cust_name</th>\n",
       "      <th>cust_state</th>\n",
       "      <th>orders</th>\n",
       "    </tr>\n",
       "  </thead>\n",
       "  <tbody>\n",
       "    <tr>\n",
       "      <th>0</th>\n",
       "      <td>Fun4All</td>\n",
       "      <td>IN</td>\n",
       "      <td>1</td>\n",
       "    </tr>\n",
       "    <tr>\n",
       "      <th>1</th>\n",
       "      <td>Fun4All</td>\n",
       "      <td>AZ</td>\n",
       "      <td>1</td>\n",
       "    </tr>\n",
       "    <tr>\n",
       "      <th>2</th>\n",
       "      <td>Kids Place</td>\n",
       "      <td>OH</td>\n",
       "      <td>0</td>\n",
       "    </tr>\n",
       "    <tr>\n",
       "      <th>3</th>\n",
       "      <td>The Toy Store</td>\n",
       "      <td>IL</td>\n",
       "      <td>1</td>\n",
       "    </tr>\n",
       "    <tr>\n",
       "      <th>4</th>\n",
       "      <td>Village Toys</td>\n",
       "      <td>MI</td>\n",
       "      <td>2</td>\n",
       "    </tr>\n",
       "  </tbody>\n",
       "</table>\n",
       "</div>"
      ],
      "text/plain": [
       "       cust_name cust_state  orders\n",
       "0        Fun4All         IN       1\n",
       "1        Fun4All         AZ       1\n",
       "2     Kids Place         OH       0\n",
       "3  The Toy Store         IL       1\n",
       "4   Village Toys         MI       2"
      ]
     },
     "execution_count": 116,
     "metadata": {},
     "output_type": "execute_result"
    }
   ],
   "source": [
    "query('''\n",
    "SELECT cust_name,\n",
    "cust_state,\n",
    "(SELECT COUNT(*)\n",
    "FROM Orders\n",
    "WHERE Orders.cust_id = Customers.cust_id) AS orders\n",
    "FROM Customers\n",
    "ORDER BY cust_name;\n",
    "''')"
   ]
  },
  {
   "cell_type": "code",
   "execution_count": 117,
   "metadata": {
    "ExecuteTime": {
     "end_time": "2021-07-23T19:41:47.244822Z",
     "start_time": "2021-07-23T19:41:47.230793Z"
    }
   },
   "outputs": [
    {
     "data": {
      "text/html": [
       "<div>\n",
       "<style scoped>\n",
       "    .dataframe tbody tr th:only-of-type {\n",
       "        vertical-align: middle;\n",
       "    }\n",
       "\n",
       "    .dataframe tbody tr th {\n",
       "        vertical-align: top;\n",
       "    }\n",
       "\n",
       "    .dataframe thead th {\n",
       "        text-align: right;\n",
       "    }\n",
       "</style>\n",
       "<table border=\"1\" class=\"dataframe\">\n",
       "  <thead>\n",
       "    <tr style=\"text-align: right;\">\n",
       "      <th></th>\n",
       "      <th>cust_name</th>\n",
       "      <th>cust_state</th>\n",
       "      <th>orders</th>\n",
       "    </tr>\n",
       "  </thead>\n",
       "  <tbody>\n",
       "    <tr>\n",
       "      <th>0</th>\n",
       "      <td>Fun4All</td>\n",
       "      <td>IN</td>\n",
       "      <td>5</td>\n",
       "    </tr>\n",
       "    <tr>\n",
       "      <th>1</th>\n",
       "      <td>Fun4All</td>\n",
       "      <td>AZ</td>\n",
       "      <td>5</td>\n",
       "    </tr>\n",
       "    <tr>\n",
       "      <th>2</th>\n",
       "      <td>Kids Place</td>\n",
       "      <td>OH</td>\n",
       "      <td>5</td>\n",
       "    </tr>\n",
       "    <tr>\n",
       "      <th>3</th>\n",
       "      <td>The Toy Store</td>\n",
       "      <td>IL</td>\n",
       "      <td>5</td>\n",
       "    </tr>\n",
       "    <tr>\n",
       "      <th>4</th>\n",
       "      <td>Village Toys</td>\n",
       "      <td>MI</td>\n",
       "      <td>5</td>\n",
       "    </tr>\n",
       "  </tbody>\n",
       "</table>\n",
       "</div>"
      ],
      "text/plain": [
       "       cust_name cust_state  orders\n",
       "0        Fun4All         IN       5\n",
       "1        Fun4All         AZ       5\n",
       "2     Kids Place         OH       5\n",
       "3  The Toy Store         IL       5\n",
       "4   Village Toys         MI       5"
      ]
     },
     "execution_count": 117,
     "metadata": {},
     "output_type": "execute_result"
    }
   ],
   "source": [
    "query('''\n",
    "SELECT cust_name,\n",
    "cust_state,\n",
    "(SELECT COUNT(*)\n",
    "FROM Orders\n",
    "WHERE cust_id = cust_id) AS orders\n",
    "FROM Customers\n",
    "ORDER BY cust_name;\n",
    "''')"
   ]
  },
  {
   "cell_type": "markdown",
   "metadata": {},
   "source": [
    "### Caution: Fully Qualified Column Names\n",
    "You just saw a very important reason to use fully qualified column names.\n",
    "Without the extra specificity, the wrong results were returned because the\n",
    "DBMS misunderstood what you intended. Sometimes the ambiguity caused by\n",
    "the presence of conflicting column names will actually cause the DBMS to\n",
    "throw an error. For example, this might occur if your WHERE or ORDER BY\n",
    "clause specified a column name that was present in multiple tables. A good\n",
    "rule is that if you are ever working with more than one table in a SELECT\n",
    "statement, then use fully qualified column names to avoid any and all\n",
    "ambiguity.\n",
    "### Tip: Subqueries May Not Always Be the Best Option\n",
    "As explained earlier in this lesson, although the sample code shown here\n",
    "works, it is often not the most efficient way to perform this type of data\n",
    "retrieval. You will revisit this example when you learn about JOINs in the\n",
    "next two lessons."
   ]
  },
  {
   "cell_type": "markdown",
   "metadata": {},
   "source": [
    "# Joining Tables\n",
    "-> Suppose you had a database table containing a product list, with each product in\n",
    "its own row. The kind of information you would store with each product would\n",
    "include a description and price, along with vendor information about the company\n",
    "that creates the product.\n",
    "Now suppose that you had multiple products created by the same vendor. Where\n",
    "would you store the vendor information (things like vendor name, address, and\n",
    "contact information)? You wouldn’t want to store that data along with the\n",
    "products for several reasons:\n",
    "\n",
    "1. Because the vendor information is the same for each product that vendor produces, repeating the information for each product is a waste of time and\n",
    "storage space.\n",
    "2. If vendor information changes (for example, if the vendor moves or the contact info changes), you would need to update every occurrence of the\n",
    "vendor information.\n",
    "3. When data is repeated (that is, the vendor information is used with each product), there is a high likelihood that the data will not be entered identically each time. Inconsistent data is extremely difficult to use in reporting\n",
    "\n",
    "## Scale\n",
    "Able to handle an increasing load without failing. A well-designed database\n",
    "or application is said to scale well.\n",
    "## Why Use Joins?\n",
    "160 / 533 : "
   ]
  },
  {
   "cell_type": "code",
   "execution_count": 119,
   "metadata": {
    "ExecuteTime": {
     "end_time": "2021-07-23T20:27:05.143390Z",
     "start_time": "2021-07-23T20:27:05.127363Z"
    }
   },
   "outputs": [
    {
     "name": "stdout",
     "output_type": "stream",
     "text": [
      "Current date and time : \n",
      "2021-07-23 15:27:05\n"
     ]
    }
   ],
   "source": [
    "import datetime\n",
    "now = datetime.datetime.now()\n",
    "print (\"Current date and time : \")\n",
    "print (now.strftime(\"%Y-%m-%d %H:%M:%S\"))"
   ]
  }
 ],
 "metadata": {
  "kernelspec": {
   "display_name": "tensorflow",
   "language": "python",
   "name": "tensorflow"
  },
  "language_info": {
   "codemirror_mode": {
    "name": "ipython",
    "version": 3
   },
   "file_extension": ".py",
   "mimetype": "text/x-python",
   "name": "python",
   "nbconvert_exporter": "python",
   "pygments_lexer": "ipython3",
   "version": "3.7.9"
  },
  "toc": {
   "base_numbering": 1,
   "nav_menu": {},
   "number_sections": true,
   "sideBar": true,
   "skip_h1_title": false,
   "title_cell": "Table of Contents",
   "title_sidebar": "Contents",
   "toc_cell": true,
   "toc_position": {
    "height": "calc(100% - 180px)",
    "left": "10px",
    "top": "150px",
    "width": "272px"
   },
   "toc_section_display": true,
   "toc_window_display": true
  },
  "widgets": {
   "application/vnd.jupyter.widget-state+json": {
    "state": {},
    "version_major": 2,
    "version_minor": 0
   }
  }
 },
 "nbformat": 4,
 "nbformat_minor": 4
}
